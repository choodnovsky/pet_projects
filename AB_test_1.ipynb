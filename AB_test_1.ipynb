{
 "cells": [
  {
   "cell_type": "markdown",
   "metadata": {},
   "source": [
    "# A/B тестирование\n",
    "Приоритизация гипотез и анализ результатов A/B теста."
   ]
  },
  {
   "cell_type": "markdown",
   "metadata": {},
   "source": [
    "#### Оглавление: \n",
    "<a class=\"anchor\" id=\"step_0\"></a>  \n",
    "\n",
    "* [1. Загрузка файлов с данными и изучение общей информации.](#step_1)\n",
    "* [2. Приоритизация](#step_2) \n",
    "* [3. Анализ  A/B-теста](#step_3) \n",
    " * [3.01. График кумулятивной выручки по группам](#step_3.01)\n",
    " * [3.02. График кумулятивного среднего чека по группам](#step_3.02)\n",
    " * [3.03. График относительного изменения кумулятивного среднего чека группы B к группе A](#step_3.03)\n",
    " * [3.04. График кумулятивной конверсии по группам](#step_3.04)\n",
    " * [3.05. График относительного изменения кумулятивной конверсии группы B к группе A](#step_3.05)\n",
    " * [3.06. Точечный график количества заказов по пользователям](#step_3.06)\n",
    " * [3.07. 95-й и 99-й перцентили количества заказов на пользователя](#step_3.07)\n",
    " * [3.08. Точечный график стоимостей заказов](#step_3.08)\n",
    " * [3.09. 95-й и 99-й перцентили стоимости заказов](#step_3.09)\n",
    " * [3.10. Рассчет статистической значимости различий в конверсии между группами по «сырым» данным](#step_3.10)\n",
    " * [3.11. Рассчет статистической значимости различий в среднем чеке заказа между группами по «сырым» данным](#step_3.11)\n",
    " * [3.12. Рассчет статистической значимости различий в конверсии между группами по «очищенным» данным](#step_3.12)\n",
    " * [3.13. Рассчет статистической значимости различий в среднем чеке заказа между группами по «очищенным» данным](#step_3.13)\n",
    " * [3.14. Решение по результатам теста](#step_3.14)"
   ]
  },
  {
   "cell_type": "code",
   "execution_count": 1,
   "metadata": {},
   "outputs": [],
   "source": [
    "import pandas as pd # Импортируем необходимые библиотеки\n",
    "import numpy as np\n",
    "import datetime as dt\n",
    "from scipy import stats as st\n",
    "import matplotlib.pyplot as plt\n",
    "import seaborn as sns\n",
    "from math import sqrt, e\n",
    "plt.style.use('fivethirtyeight')\n",
    "plt.rcParams['figure.figsize']=(15,5) # Зададим размер графиков по умолчанию\n",
    "\n",
    "import warnings # отключим предупреждения анаконды\n",
    "warnings.filterwarnings('ignore')\n",
    "\n",
    "\n",
    "pd.set_option('max_columns', None) # Зададим вывод всех столбцов таблиц\n",
    "pd.options.display.float_format = '{:.2f}'.format # Зададим удобный формат отображения вещественных чисел"
   ]
  },
  {
   "cell_type": "code",
   "execution_count": 2,
   "metadata": {},
   "outputs": [],
   "source": [
    "# Универсальная функция если понадобится получить имя датафрейма или серии\n",
    "def get_name(obj):\n",
    "    name =[x for x in globals() if globals()[x] is obj][0]\n",
    "    return name"
   ]
  },
  {
   "cell_type": "markdown",
   "metadata": {},
   "source": [
    "## 1. Загрузка данные и подготовка их к анализу  \n",
    "[к оглавлению](#step_0)\n",
    "<a class=\"anchor\" id=\"step_1\"></a>"
   ]
  },
  {
   "cell_type": "code",
   "execution_count": 3,
   "metadata": {},
   "outputs": [],
   "source": [
    "# Загрузим датасеты\n",
    "try:\n",
    "    hypotheses = pd.read_csv('https://code.s3.yandex.net/datasets/hypothesis.csv')\n",
    "    orders = pd.read_csv('https://code.s3.yandex.net/datasets/orders.csv')\n",
    "    visitors = pd.read_csv('https://code.s3.yandex.net/datasets/visitors.csv')    \n",
    "except:\n",
    "    hypotheses = pd.read_csv('/Users/victorchudnovskiy/Documents/raw_csv/hypothesis.csv')\n",
    "    orders = pd.read_csv('/Users/victorchudnovskiy/Documents/raw_csv/orders.csv')\n",
    "    visitors = pd.read_csv('/Users/victorchudnovskiy/Documents/raw_csv/visitors.csv')"
   ]
  },
  {
   "cell_type": "code",
   "execution_count": 4,
   "metadata": {},
   "outputs": [],
   "source": [
    "df_list = [hypotheses, orders, visitors]"
   ]
  },
  {
   "cell_type": "markdown",
   "metadata": {},
   "source": []
  },
  {
   "cell_type": "code",
   "execution_count": 5,
   "metadata": {},
   "outputs": [
    {
     "name": "stdout",
     "output_type": "stream",
     "text": [
      "hypotheses\n"
     ]
    },
    {
     "data": {
      "text/html": [
       "<div>\n",
       "<style scoped>\n",
       "    .dataframe tbody tr th:only-of-type {\n",
       "        vertical-align: middle;\n",
       "    }\n",
       "\n",
       "    .dataframe tbody tr th {\n",
       "        vertical-align: top;\n",
       "    }\n",
       "\n",
       "    .dataframe thead th {\n",
       "        text-align: right;\n",
       "    }\n",
       "</style>\n",
       "<table border=\"1\" class=\"dataframe\">\n",
       "  <thead>\n",
       "    <tr style=\"text-align: right;\">\n",
       "      <th></th>\n",
       "      <th>Hypothesis</th>\n",
       "      <th>Reach</th>\n",
       "      <th>Impact</th>\n",
       "      <th>Confidence</th>\n",
       "      <th>Efforts</th>\n",
       "    </tr>\n",
       "  </thead>\n",
       "  <tbody>\n",
       "    <tr>\n",
       "      <th>0</th>\n",
       "      <td>Добавить два новых канала привлечения трафика,...</td>\n",
       "      <td>3</td>\n",
       "      <td>10</td>\n",
       "      <td>8</td>\n",
       "      <td>6</td>\n",
       "    </tr>\n",
       "    <tr>\n",
       "      <th>1</th>\n",
       "      <td>Запустить собственную службу доставки, что сок...</td>\n",
       "      <td>2</td>\n",
       "      <td>5</td>\n",
       "      <td>4</td>\n",
       "      <td>10</td>\n",
       "    </tr>\n",
       "    <tr>\n",
       "      <th>2</th>\n",
       "      <td>Добавить блоки рекомендаций товаров на сайт ин...</td>\n",
       "      <td>8</td>\n",
       "      <td>3</td>\n",
       "      <td>7</td>\n",
       "      <td>3</td>\n",
       "    </tr>\n",
       "    <tr>\n",
       "      <th>3</th>\n",
       "      <td>Изменить структура категорий, что увеличит кон...</td>\n",
       "      <td>8</td>\n",
       "      <td>3</td>\n",
       "      <td>3</td>\n",
       "      <td>8</td>\n",
       "    </tr>\n",
       "    <tr>\n",
       "      <th>4</th>\n",
       "      <td>Изменить цвет фона главной страницы, чтобы уве...</td>\n",
       "      <td>3</td>\n",
       "      <td>1</td>\n",
       "      <td>1</td>\n",
       "      <td>1</td>\n",
       "    </tr>\n",
       "  </tbody>\n",
       "</table>\n",
       "</div>"
      ],
      "text/plain": [
       "                                          Hypothesis  Reach  Impact  \\\n",
       "0  Добавить два новых канала привлечения трафика,...      3      10   \n",
       "1  Запустить собственную службу доставки, что сок...      2       5   \n",
       "2  Добавить блоки рекомендаций товаров на сайт ин...      8       3   \n",
       "3  Изменить структура категорий, что увеличит кон...      8       3   \n",
       "4  Изменить цвет фона главной страницы, чтобы уве...      3       1   \n",
       "\n",
       "   Confidence  Efforts  \n",
       "0           8        6  \n",
       "1           4       10  \n",
       "2           7        3  \n",
       "3           3        8  \n",
       "4           1        1  "
      ]
     },
     "metadata": {},
     "output_type": "display_data"
    },
    {
     "name": "stdout",
     "output_type": "stream",
     "text": [
      "<class 'pandas.core.frame.DataFrame'>\n",
      "RangeIndex: 9 entries, 0 to 8\n",
      "Data columns (total 5 columns):\n",
      " #   Column      Non-Null Count  Dtype \n",
      "---  ------      --------------  ----- \n",
      " 0   Hypothesis  9 non-null      object\n",
      " 1   Reach       9 non-null      int64 \n",
      " 2   Impact      9 non-null      int64 \n",
      " 3   Confidence  9 non-null      int64 \n",
      " 4   Efforts     9 non-null      int64 \n",
      "dtypes: int64(4), object(1)\n",
      "memory usage: 488.0+ bytes\n",
      "None\n",
      "______________________________________________________________________________\n",
      "orders\n"
     ]
    },
    {
     "data": {
      "text/html": [
       "<div>\n",
       "<style scoped>\n",
       "    .dataframe tbody tr th:only-of-type {\n",
       "        vertical-align: middle;\n",
       "    }\n",
       "\n",
       "    .dataframe tbody tr th {\n",
       "        vertical-align: top;\n",
       "    }\n",
       "\n",
       "    .dataframe thead th {\n",
       "        text-align: right;\n",
       "    }\n",
       "</style>\n",
       "<table border=\"1\" class=\"dataframe\">\n",
       "  <thead>\n",
       "    <tr style=\"text-align: right;\">\n",
       "      <th></th>\n",
       "      <th>transactionId</th>\n",
       "      <th>visitorId</th>\n",
       "      <th>date</th>\n",
       "      <th>revenue</th>\n",
       "      <th>group</th>\n",
       "    </tr>\n",
       "  </thead>\n",
       "  <tbody>\n",
       "    <tr>\n",
       "      <th>0</th>\n",
       "      <td>3667963787</td>\n",
       "      <td>3312258926</td>\n",
       "      <td>2019-08-15</td>\n",
       "      <td>1650</td>\n",
       "      <td>B</td>\n",
       "    </tr>\n",
       "    <tr>\n",
       "      <th>1</th>\n",
       "      <td>2804400009</td>\n",
       "      <td>3642806036</td>\n",
       "      <td>2019-08-15</td>\n",
       "      <td>730</td>\n",
       "      <td>B</td>\n",
       "    </tr>\n",
       "    <tr>\n",
       "      <th>2</th>\n",
       "      <td>2961555356</td>\n",
       "      <td>4069496402</td>\n",
       "      <td>2019-08-15</td>\n",
       "      <td>400</td>\n",
       "      <td>A</td>\n",
       "    </tr>\n",
       "    <tr>\n",
       "      <th>3</th>\n",
       "      <td>3797467345</td>\n",
       "      <td>1196621759</td>\n",
       "      <td>2019-08-15</td>\n",
       "      <td>9759</td>\n",
       "      <td>B</td>\n",
       "    </tr>\n",
       "    <tr>\n",
       "      <th>4</th>\n",
       "      <td>2282983706</td>\n",
       "      <td>2322279887</td>\n",
       "      <td>2019-08-15</td>\n",
       "      <td>2308</td>\n",
       "      <td>B</td>\n",
       "    </tr>\n",
       "  </tbody>\n",
       "</table>\n",
       "</div>"
      ],
      "text/plain": [
       "   transactionId   visitorId        date  revenue group\n",
       "0     3667963787  3312258926  2019-08-15     1650     B\n",
       "1     2804400009  3642806036  2019-08-15      730     B\n",
       "2     2961555356  4069496402  2019-08-15      400     A\n",
       "3     3797467345  1196621759  2019-08-15     9759     B\n",
       "4     2282983706  2322279887  2019-08-15     2308     B"
      ]
     },
     "metadata": {},
     "output_type": "display_data"
    },
    {
     "name": "stdout",
     "output_type": "stream",
     "text": [
      "<class 'pandas.core.frame.DataFrame'>\n",
      "RangeIndex: 1197 entries, 0 to 1196\n",
      "Data columns (total 5 columns):\n",
      " #   Column         Non-Null Count  Dtype \n",
      "---  ------         --------------  ----- \n",
      " 0   transactionId  1197 non-null   int64 \n",
      " 1   visitorId      1197 non-null   int64 \n",
      " 2   date           1197 non-null   object\n",
      " 3   revenue        1197 non-null   int64 \n",
      " 4   group          1197 non-null   object\n",
      "dtypes: int64(3), object(2)\n",
      "memory usage: 46.9+ KB\n",
      "None\n",
      "______________________________________________________________________________\n",
      "visitors\n"
     ]
    },
    {
     "data": {
      "text/html": [
       "<div>\n",
       "<style scoped>\n",
       "    .dataframe tbody tr th:only-of-type {\n",
       "        vertical-align: middle;\n",
       "    }\n",
       "\n",
       "    .dataframe tbody tr th {\n",
       "        vertical-align: top;\n",
       "    }\n",
       "\n",
       "    .dataframe thead th {\n",
       "        text-align: right;\n",
       "    }\n",
       "</style>\n",
       "<table border=\"1\" class=\"dataframe\">\n",
       "  <thead>\n",
       "    <tr style=\"text-align: right;\">\n",
       "      <th></th>\n",
       "      <th>date</th>\n",
       "      <th>group</th>\n",
       "      <th>visitors</th>\n",
       "    </tr>\n",
       "  </thead>\n",
       "  <tbody>\n",
       "    <tr>\n",
       "      <th>0</th>\n",
       "      <td>2019-08-01</td>\n",
       "      <td>A</td>\n",
       "      <td>719</td>\n",
       "    </tr>\n",
       "    <tr>\n",
       "      <th>1</th>\n",
       "      <td>2019-08-02</td>\n",
       "      <td>A</td>\n",
       "      <td>619</td>\n",
       "    </tr>\n",
       "    <tr>\n",
       "      <th>2</th>\n",
       "      <td>2019-08-03</td>\n",
       "      <td>A</td>\n",
       "      <td>507</td>\n",
       "    </tr>\n",
       "    <tr>\n",
       "      <th>3</th>\n",
       "      <td>2019-08-04</td>\n",
       "      <td>A</td>\n",
       "      <td>717</td>\n",
       "    </tr>\n",
       "    <tr>\n",
       "      <th>4</th>\n",
       "      <td>2019-08-05</td>\n",
       "      <td>A</td>\n",
       "      <td>756</td>\n",
       "    </tr>\n",
       "  </tbody>\n",
       "</table>\n",
       "</div>"
      ],
      "text/plain": [
       "         date group  visitors\n",
       "0  2019-08-01     A       719\n",
       "1  2019-08-02     A       619\n",
       "2  2019-08-03     A       507\n",
       "3  2019-08-04     A       717\n",
       "4  2019-08-05     A       756"
      ]
     },
     "metadata": {},
     "output_type": "display_data"
    },
    {
     "name": "stdout",
     "output_type": "stream",
     "text": [
      "<class 'pandas.core.frame.DataFrame'>\n",
      "RangeIndex: 62 entries, 0 to 61\n",
      "Data columns (total 3 columns):\n",
      " #   Column    Non-Null Count  Dtype \n",
      "---  ------    --------------  ----- \n",
      " 0   date      62 non-null     object\n",
      " 1   group     62 non-null     object\n",
      " 2   visitors  62 non-null     int64 \n",
      "dtypes: int64(1), object(2)\n",
      "memory usage: 1.6+ KB\n",
      "None\n",
      "______________________________________________________________________________\n"
     ]
    }
   ],
   "source": [
    "for df in df_list:\n",
    "    print(get_name(df))\n",
    "    display(df.head())\n",
    "    print(df.info())\n",
    "    print('_' * 78)"
   ]
  },
  {
   "cell_type": "markdown",
   "metadata": {},
   "source": [
    "В исследуемых таблицах очевидно пропусков нет, но в тоблице hypotheses заголовки проименованы с заглавной буквы, а данные с датами представлены в строковом формате. Исправим это недоразумение, приведя даты к типу `datetime` а заголовки в удобный формат"
   ]
  },
  {
   "cell_type": "code",
   "execution_count": 6,
   "metadata": {},
   "outputs": [],
   "source": [
    "for df in df_list:\n",
    "    df.columns = [x.lower() for x in df.columns]\n",
    "    for col in df.columns:\n",
    "        if 'date' in col:\n",
    "            df[col] = df[col].map(lambda x: dt.datetime.strptime(x, '%Y-%m-%d'))"
   ]
  },
  {
   "cell_type": "code",
   "execution_count": 7,
   "metadata": {},
   "outputs": [
    {
     "name": "stdout",
     "output_type": "stream",
     "text": [
      "hypotheses\n"
     ]
    },
    {
     "data": {
      "text/html": [
       "<div>\n",
       "<style scoped>\n",
       "    .dataframe tbody tr th:only-of-type {\n",
       "        vertical-align: middle;\n",
       "    }\n",
       "\n",
       "    .dataframe tbody tr th {\n",
       "        vertical-align: top;\n",
       "    }\n",
       "\n",
       "    .dataframe thead th {\n",
       "        text-align: right;\n",
       "    }\n",
       "</style>\n",
       "<table border=\"1\" class=\"dataframe\">\n",
       "  <thead>\n",
       "    <tr style=\"text-align: right;\">\n",
       "      <th></th>\n",
       "      <th>hypothesis</th>\n",
       "      <th>reach</th>\n",
       "      <th>impact</th>\n",
       "      <th>confidence</th>\n",
       "      <th>efforts</th>\n",
       "    </tr>\n",
       "  </thead>\n",
       "  <tbody>\n",
       "    <tr>\n",
       "      <th>0</th>\n",
       "      <td>Добавить два новых канала привлечения трафика,...</td>\n",
       "      <td>3</td>\n",
       "      <td>10</td>\n",
       "      <td>8</td>\n",
       "      <td>6</td>\n",
       "    </tr>\n",
       "    <tr>\n",
       "      <th>1</th>\n",
       "      <td>Запустить собственную службу доставки, что сок...</td>\n",
       "      <td>2</td>\n",
       "      <td>5</td>\n",
       "      <td>4</td>\n",
       "      <td>10</td>\n",
       "    </tr>\n",
       "    <tr>\n",
       "      <th>2</th>\n",
       "      <td>Добавить блоки рекомендаций товаров на сайт ин...</td>\n",
       "      <td>8</td>\n",
       "      <td>3</td>\n",
       "      <td>7</td>\n",
       "      <td>3</td>\n",
       "    </tr>\n",
       "    <tr>\n",
       "      <th>3</th>\n",
       "      <td>Изменить структура категорий, что увеличит кон...</td>\n",
       "      <td>8</td>\n",
       "      <td>3</td>\n",
       "      <td>3</td>\n",
       "      <td>8</td>\n",
       "    </tr>\n",
       "    <tr>\n",
       "      <th>4</th>\n",
       "      <td>Изменить цвет фона главной страницы, чтобы уве...</td>\n",
       "      <td>3</td>\n",
       "      <td>1</td>\n",
       "      <td>1</td>\n",
       "      <td>1</td>\n",
       "    </tr>\n",
       "  </tbody>\n",
       "</table>\n",
       "</div>"
      ],
      "text/plain": [
       "                                          hypothesis  reach  impact  \\\n",
       "0  Добавить два новых канала привлечения трафика,...      3      10   \n",
       "1  Запустить собственную службу доставки, что сок...      2       5   \n",
       "2  Добавить блоки рекомендаций товаров на сайт ин...      8       3   \n",
       "3  Изменить структура категорий, что увеличит кон...      8       3   \n",
       "4  Изменить цвет фона главной страницы, чтобы уве...      3       1   \n",
       "\n",
       "   confidence  efforts  \n",
       "0           8        6  \n",
       "1           4       10  \n",
       "2           7        3  \n",
       "3           3        8  \n",
       "4           1        1  "
      ]
     },
     "metadata": {},
     "output_type": "display_data"
    },
    {
     "name": "stdout",
     "output_type": "stream",
     "text": [
      "<class 'pandas.core.frame.DataFrame'>\n",
      "RangeIndex: 9 entries, 0 to 8\n",
      "Data columns (total 5 columns):\n",
      " #   Column      Non-Null Count  Dtype \n",
      "---  ------      --------------  ----- \n",
      " 0   hypothesis  9 non-null      object\n",
      " 1   reach       9 non-null      int64 \n",
      " 2   impact      9 non-null      int64 \n",
      " 3   confidence  9 non-null      int64 \n",
      " 4   efforts     9 non-null      int64 \n",
      "dtypes: int64(4), object(1)\n",
      "memory usage: 488.0+ bytes\n",
      "None\n",
      "__________________________________________________________________________________________\n",
      "orders\n"
     ]
    },
    {
     "data": {
      "text/html": [
       "<div>\n",
       "<style scoped>\n",
       "    .dataframe tbody tr th:only-of-type {\n",
       "        vertical-align: middle;\n",
       "    }\n",
       "\n",
       "    .dataframe tbody tr th {\n",
       "        vertical-align: top;\n",
       "    }\n",
       "\n",
       "    .dataframe thead th {\n",
       "        text-align: right;\n",
       "    }\n",
       "</style>\n",
       "<table border=\"1\" class=\"dataframe\">\n",
       "  <thead>\n",
       "    <tr style=\"text-align: right;\">\n",
       "      <th></th>\n",
       "      <th>transactionid</th>\n",
       "      <th>visitorid</th>\n",
       "      <th>date</th>\n",
       "      <th>revenue</th>\n",
       "      <th>group</th>\n",
       "    </tr>\n",
       "  </thead>\n",
       "  <tbody>\n",
       "    <tr>\n",
       "      <th>0</th>\n",
       "      <td>3667963787</td>\n",
       "      <td>3312258926</td>\n",
       "      <td>2019-08-15</td>\n",
       "      <td>1650</td>\n",
       "      <td>B</td>\n",
       "    </tr>\n",
       "    <tr>\n",
       "      <th>1</th>\n",
       "      <td>2804400009</td>\n",
       "      <td>3642806036</td>\n",
       "      <td>2019-08-15</td>\n",
       "      <td>730</td>\n",
       "      <td>B</td>\n",
       "    </tr>\n",
       "    <tr>\n",
       "      <th>2</th>\n",
       "      <td>2961555356</td>\n",
       "      <td>4069496402</td>\n",
       "      <td>2019-08-15</td>\n",
       "      <td>400</td>\n",
       "      <td>A</td>\n",
       "    </tr>\n",
       "    <tr>\n",
       "      <th>3</th>\n",
       "      <td>3797467345</td>\n",
       "      <td>1196621759</td>\n",
       "      <td>2019-08-15</td>\n",
       "      <td>9759</td>\n",
       "      <td>B</td>\n",
       "    </tr>\n",
       "    <tr>\n",
       "      <th>4</th>\n",
       "      <td>2282983706</td>\n",
       "      <td>2322279887</td>\n",
       "      <td>2019-08-15</td>\n",
       "      <td>2308</td>\n",
       "      <td>B</td>\n",
       "    </tr>\n",
       "  </tbody>\n",
       "</table>\n",
       "</div>"
      ],
      "text/plain": [
       "   transactionid   visitorid       date  revenue group\n",
       "0     3667963787  3312258926 2019-08-15     1650     B\n",
       "1     2804400009  3642806036 2019-08-15      730     B\n",
       "2     2961555356  4069496402 2019-08-15      400     A\n",
       "3     3797467345  1196621759 2019-08-15     9759     B\n",
       "4     2282983706  2322279887 2019-08-15     2308     B"
      ]
     },
     "metadata": {},
     "output_type": "display_data"
    },
    {
     "name": "stdout",
     "output_type": "stream",
     "text": [
      "<class 'pandas.core.frame.DataFrame'>\n",
      "RangeIndex: 1197 entries, 0 to 1196\n",
      "Data columns (total 5 columns):\n",
      " #   Column         Non-Null Count  Dtype         \n",
      "---  ------         --------------  -----         \n",
      " 0   transactionid  1197 non-null   int64         \n",
      " 1   visitorid      1197 non-null   int64         \n",
      " 2   date           1197 non-null   datetime64[ns]\n",
      " 3   revenue        1197 non-null   int64         \n",
      " 4   group          1197 non-null   object        \n",
      "dtypes: datetime64[ns](1), int64(3), object(1)\n",
      "memory usage: 46.9+ KB\n",
      "None\n",
      "__________________________________________________________________________________________\n",
      "visitors\n"
     ]
    },
    {
     "data": {
      "text/html": [
       "<div>\n",
       "<style scoped>\n",
       "    .dataframe tbody tr th:only-of-type {\n",
       "        vertical-align: middle;\n",
       "    }\n",
       "\n",
       "    .dataframe tbody tr th {\n",
       "        vertical-align: top;\n",
       "    }\n",
       "\n",
       "    .dataframe thead th {\n",
       "        text-align: right;\n",
       "    }\n",
       "</style>\n",
       "<table border=\"1\" class=\"dataframe\">\n",
       "  <thead>\n",
       "    <tr style=\"text-align: right;\">\n",
       "      <th></th>\n",
       "      <th>date</th>\n",
       "      <th>group</th>\n",
       "      <th>visitors</th>\n",
       "    </tr>\n",
       "  </thead>\n",
       "  <tbody>\n",
       "    <tr>\n",
       "      <th>0</th>\n",
       "      <td>2019-08-01</td>\n",
       "      <td>A</td>\n",
       "      <td>719</td>\n",
       "    </tr>\n",
       "    <tr>\n",
       "      <th>1</th>\n",
       "      <td>2019-08-02</td>\n",
       "      <td>A</td>\n",
       "      <td>619</td>\n",
       "    </tr>\n",
       "    <tr>\n",
       "      <th>2</th>\n",
       "      <td>2019-08-03</td>\n",
       "      <td>A</td>\n",
       "      <td>507</td>\n",
       "    </tr>\n",
       "    <tr>\n",
       "      <th>3</th>\n",
       "      <td>2019-08-04</td>\n",
       "      <td>A</td>\n",
       "      <td>717</td>\n",
       "    </tr>\n",
       "    <tr>\n",
       "      <th>4</th>\n",
       "      <td>2019-08-05</td>\n",
       "      <td>A</td>\n",
       "      <td>756</td>\n",
       "    </tr>\n",
       "  </tbody>\n",
       "</table>\n",
       "</div>"
      ],
      "text/plain": [
       "        date group  visitors\n",
       "0 2019-08-01     A       719\n",
       "1 2019-08-02     A       619\n",
       "2 2019-08-03     A       507\n",
       "3 2019-08-04     A       717\n",
       "4 2019-08-05     A       756"
      ]
     },
     "metadata": {},
     "output_type": "display_data"
    },
    {
     "name": "stdout",
     "output_type": "stream",
     "text": [
      "<class 'pandas.core.frame.DataFrame'>\n",
      "RangeIndex: 62 entries, 0 to 61\n",
      "Data columns (total 3 columns):\n",
      " #   Column    Non-Null Count  Dtype         \n",
      "---  ------    --------------  -----         \n",
      " 0   date      62 non-null     datetime64[ns]\n",
      " 1   group     62 non-null     object        \n",
      " 2   visitors  62 non-null     int64         \n",
      "dtypes: datetime64[ns](1), int64(1), object(1)\n",
      "memory usage: 1.6+ KB\n",
      "None\n",
      "__________________________________________________________________________________________\n"
     ]
    }
   ],
   "source": [
    "for df in df_list:\n",
    "    print(get_name(df))\n",
    "    display(df.head())\n",
    "    print(df.info())\n",
    "    print('_' * 90)"
   ]
  },
  {
   "cell_type": "code",
   "execution_count": 8,
   "metadata": {},
   "outputs": [
    {
     "name": "stdout",
     "output_type": "stream",
     "text": [
      "В датафрейме hypotheses выявлено 0 дубликатов\n",
      "В датафрейме orders выявлено 0 дубликатов\n",
      "В датафрейме visitors выявлено 0 дубликатов\n"
     ]
    }
   ],
   "source": [
    "for df in df_list:\n",
    "    print(f'В датафрейме {get_name(df)} выявлено {df.duplicated().sum()} дубликатов')"
   ]
  },
  {
   "cell_type": "markdown",
   "metadata": {},
   "source": [
    "#### Вывод \n",
    "Таблицы загружены, типы данных приведены в соответствие содержимому. Пропусков и дубликатов нет. Приступим к нализу."
   ]
  },
  {
   "cell_type": "markdown",
   "metadata": {},
   "source": [
    "## 2. Приоритизация гипотез.\n",
    "[к оглавлению](#step_0)\n",
    "<a class=\"anchor\" id=\"step_2\"></a>"
   ]
  },
  {
   "cell_type": "code",
   "execution_count": 9,
   "metadata": {},
   "outputs": [
    {
     "data": {
      "text/plain": [
       "array(['Добавить два новых канала привлечения трафика, что позволит привлекать на 30% больше пользователей',\n",
       "       'Запустить собственную службу доставки, что сократит срок доставки заказов',\n",
       "       'Добавить блоки рекомендаций товаров на сайт интернет магазина, чтобы повысить конверсию и средний чек заказа',\n",
       "       'Изменить структура категорий, что увеличит конверсию, т.к. пользователи быстрее найдут нужный товар',\n",
       "       'Изменить цвет фона главной страницы, чтобы увеличить вовлеченность пользователей',\n",
       "       'Добавить страницу отзывов клиентов о магазине, что позволит увеличить количество заказов',\n",
       "       'Показать на главной странице баннеры с актуальными акциями и распродажами, чтобы увеличить конверсию',\n",
       "       'Добавить форму подписки на все основные страницы, чтобы собрать базу клиентов для email-рассылок',\n",
       "       'Запустить акцию, дающую скидку на товар в день рождения'],\n",
       "      dtype=object)"
      ]
     },
     "execution_count": 9,
     "metadata": {},
     "output_type": "execute_result"
    }
   ],
   "source": [
    "hypotheses['hypothesis'].unique()"
   ]
  },
  {
   "cell_type": "code",
   "execution_count": 10,
   "metadata": {},
   "outputs": [
    {
     "data": {
      "text/html": [
       "<div>\n",
       "<style scoped>\n",
       "    .dataframe tbody tr th:only-of-type {\n",
       "        vertical-align: middle;\n",
       "    }\n",
       "\n",
       "    .dataframe tbody tr th {\n",
       "        vertical-align: top;\n",
       "    }\n",
       "\n",
       "    .dataframe thead th {\n",
       "        text-align: right;\n",
       "    }\n",
       "</style>\n",
       "<table border=\"1\" class=\"dataframe\">\n",
       "  <thead>\n",
       "    <tr style=\"text-align: right;\">\n",
       "      <th></th>\n",
       "      <th>hypothesis</th>\n",
       "      <th>reach</th>\n",
       "      <th>impact</th>\n",
       "      <th>confidence</th>\n",
       "      <th>efforts</th>\n",
       "      <th>ICE</th>\n",
       "      <th>RICE</th>\n",
       "    </tr>\n",
       "  </thead>\n",
       "  <tbody>\n",
       "    <tr>\n",
       "      <th>0</th>\n",
       "      <td>Добавить два новых канала привлечения трафика,...</td>\n",
       "      <td>3</td>\n",
       "      <td>10</td>\n",
       "      <td>8</td>\n",
       "      <td>6</td>\n",
       "      <td>13.33</td>\n",
       "      <td>40.00</td>\n",
       "    </tr>\n",
       "    <tr>\n",
       "      <th>1</th>\n",
       "      <td>Запустить собственную службу доставки, что сок...</td>\n",
       "      <td>2</td>\n",
       "      <td>5</td>\n",
       "      <td>4</td>\n",
       "      <td>10</td>\n",
       "      <td>2.00</td>\n",
       "      <td>4.00</td>\n",
       "    </tr>\n",
       "    <tr>\n",
       "      <th>2</th>\n",
       "      <td>Добавить блоки рекомендаций товаров на сайт ин...</td>\n",
       "      <td>8</td>\n",
       "      <td>3</td>\n",
       "      <td>7</td>\n",
       "      <td>3</td>\n",
       "      <td>7.00</td>\n",
       "      <td>56.00</td>\n",
       "    </tr>\n",
       "    <tr>\n",
       "      <th>3</th>\n",
       "      <td>Изменить структура категорий, что увеличит кон...</td>\n",
       "      <td>8</td>\n",
       "      <td>3</td>\n",
       "      <td>3</td>\n",
       "      <td>8</td>\n",
       "      <td>1.12</td>\n",
       "      <td>9.00</td>\n",
       "    </tr>\n",
       "    <tr>\n",
       "      <th>4</th>\n",
       "      <td>Изменить цвет фона главной страницы, чтобы уве...</td>\n",
       "      <td>3</td>\n",
       "      <td>1</td>\n",
       "      <td>1</td>\n",
       "      <td>1</td>\n",
       "      <td>1.00</td>\n",
       "      <td>3.00</td>\n",
       "    </tr>\n",
       "    <tr>\n",
       "      <th>5</th>\n",
       "      <td>Добавить страницу отзывов клиентов о магазине,...</td>\n",
       "      <td>3</td>\n",
       "      <td>2</td>\n",
       "      <td>2</td>\n",
       "      <td>3</td>\n",
       "      <td>1.33</td>\n",
       "      <td>4.00</td>\n",
       "    </tr>\n",
       "    <tr>\n",
       "      <th>6</th>\n",
       "      <td>Показать на главной странице баннеры с актуаль...</td>\n",
       "      <td>5</td>\n",
       "      <td>3</td>\n",
       "      <td>8</td>\n",
       "      <td>3</td>\n",
       "      <td>8.00</td>\n",
       "      <td>40.00</td>\n",
       "    </tr>\n",
       "    <tr>\n",
       "      <th>7</th>\n",
       "      <td>Добавить форму подписки на все основные страни...</td>\n",
       "      <td>10</td>\n",
       "      <td>7</td>\n",
       "      <td>8</td>\n",
       "      <td>5</td>\n",
       "      <td>11.20</td>\n",
       "      <td>112.00</td>\n",
       "    </tr>\n",
       "    <tr>\n",
       "      <th>8</th>\n",
       "      <td>Запустить акцию, дающую скидку на товар в день...</td>\n",
       "      <td>1</td>\n",
       "      <td>9</td>\n",
       "      <td>9</td>\n",
       "      <td>5</td>\n",
       "      <td>16.20</td>\n",
       "      <td>16.20</td>\n",
       "    </tr>\n",
       "  </tbody>\n",
       "</table>\n",
       "</div>"
      ],
      "text/plain": [
       "                                          hypothesis  reach  impact  \\\n",
       "0  Добавить два новых канала привлечения трафика,...      3      10   \n",
       "1  Запустить собственную службу доставки, что сок...      2       5   \n",
       "2  Добавить блоки рекомендаций товаров на сайт ин...      8       3   \n",
       "3  Изменить структура категорий, что увеличит кон...      8       3   \n",
       "4  Изменить цвет фона главной страницы, чтобы уве...      3       1   \n",
       "5  Добавить страницу отзывов клиентов о магазине,...      3       2   \n",
       "6  Показать на главной странице баннеры с актуаль...      5       3   \n",
       "7  Добавить форму подписки на все основные страни...     10       7   \n",
       "8  Запустить акцию, дающую скидку на товар в день...      1       9   \n",
       "\n",
       "   confidence  efforts   ICE   RICE  \n",
       "0           8        6 13.33  40.00  \n",
       "1           4       10  2.00   4.00  \n",
       "2           7        3  7.00  56.00  \n",
       "3           3        8  1.12   9.00  \n",
       "4           1        1  1.00   3.00  \n",
       "5           2        3  1.33   4.00  \n",
       "6           8        3  8.00  40.00  \n",
       "7           8        5 11.20 112.00  \n",
       "8           9        5 16.20  16.20  "
      ]
     },
     "execution_count": 10,
     "metadata": {},
     "output_type": "execute_result"
    }
   ],
   "source": [
    "hypotheses['ICE'] = (hypotheses['impact'] * hypotheses['confidence']) / hypotheses['efforts']\n",
    "hypotheses['RICE'] = (hypotheses['reach'] * hypotheses['impact'] * hypotheses['confidence']) / hypotheses['efforts']\n",
    "hypotheses"
   ]
  },
  {
   "cell_type": "code",
   "execution_count": 11,
   "metadata": {},
   "outputs": [
    {
     "data": {
      "text/html": [
       "<div>\n",
       "<style scoped>\n",
       "    .dataframe tbody tr th:only-of-type {\n",
       "        vertical-align: middle;\n",
       "    }\n",
       "\n",
       "    .dataframe tbody tr th {\n",
       "        vertical-align: top;\n",
       "    }\n",
       "\n",
       "    .dataframe thead th {\n",
       "        text-align: right;\n",
       "    }\n",
       "</style>\n",
       "<table border=\"1\" class=\"dataframe\">\n",
       "  <thead>\n",
       "    <tr style=\"text-align: right;\">\n",
       "      <th></th>\n",
       "      <th>hypothesis</th>\n",
       "      <th>ICE</th>\n",
       "    </tr>\n",
       "  </thead>\n",
       "  <tbody>\n",
       "    <tr>\n",
       "      <th>8</th>\n",
       "      <td>Запустить акцию, дающую скидку на товар в день...</td>\n",
       "      <td>16.20</td>\n",
       "    </tr>\n",
       "    <tr>\n",
       "      <th>0</th>\n",
       "      <td>Добавить два новых канала привлечения трафика,...</td>\n",
       "      <td>13.33</td>\n",
       "    </tr>\n",
       "    <tr>\n",
       "      <th>7</th>\n",
       "      <td>Добавить форму подписки на все основные страни...</td>\n",
       "      <td>11.20</td>\n",
       "    </tr>\n",
       "    <tr>\n",
       "      <th>6</th>\n",
       "      <td>Показать на главной странице баннеры с актуаль...</td>\n",
       "      <td>8.00</td>\n",
       "    </tr>\n",
       "    <tr>\n",
       "      <th>2</th>\n",
       "      <td>Добавить блоки рекомендаций товаров на сайт ин...</td>\n",
       "      <td>7.00</td>\n",
       "    </tr>\n",
       "    <tr>\n",
       "      <th>1</th>\n",
       "      <td>Запустить собственную службу доставки, что сок...</td>\n",
       "      <td>2.00</td>\n",
       "    </tr>\n",
       "    <tr>\n",
       "      <th>5</th>\n",
       "      <td>Добавить страницу отзывов клиентов о магазине,...</td>\n",
       "      <td>1.33</td>\n",
       "    </tr>\n",
       "    <tr>\n",
       "      <th>3</th>\n",
       "      <td>Изменить структура категорий, что увеличит кон...</td>\n",
       "      <td>1.12</td>\n",
       "    </tr>\n",
       "    <tr>\n",
       "      <th>4</th>\n",
       "      <td>Изменить цвет фона главной страницы, чтобы уве...</td>\n",
       "      <td>1.00</td>\n",
       "    </tr>\n",
       "  </tbody>\n",
       "</table>\n",
       "</div>"
      ],
      "text/plain": [
       "                                          hypothesis   ICE\n",
       "8  Запустить акцию, дающую скидку на товар в день... 16.20\n",
       "0  Добавить два новых канала привлечения трафика,... 13.33\n",
       "7  Добавить форму подписки на все основные страни... 11.20\n",
       "6  Показать на главной странице баннеры с актуаль...  8.00\n",
       "2  Добавить блоки рекомендаций товаров на сайт ин...  7.00\n",
       "1  Запустить собственную службу доставки, что сок...  2.00\n",
       "5  Добавить страницу отзывов клиентов о магазине,...  1.33\n",
       "3  Изменить структура категорий, что увеличит кон...  1.12\n",
       "4  Изменить цвет фона главной страницы, чтобы уве...  1.00"
      ]
     },
     "execution_count": 11,
     "metadata": {},
     "output_type": "execute_result"
    }
   ],
   "source": [
    "hypotheses[['hypothesis', 'ICE']].sort_values(by='ICE', ascending=False)"
   ]
  },
  {
   "cell_type": "code",
   "execution_count": 12,
   "metadata": {},
   "outputs": [
    {
     "data": {
      "text/html": [
       "<div>\n",
       "<style scoped>\n",
       "    .dataframe tbody tr th:only-of-type {\n",
       "        vertical-align: middle;\n",
       "    }\n",
       "\n",
       "    .dataframe tbody tr th {\n",
       "        vertical-align: top;\n",
       "    }\n",
       "\n",
       "    .dataframe thead th {\n",
       "        text-align: right;\n",
       "    }\n",
       "</style>\n",
       "<table border=\"1\" class=\"dataframe\">\n",
       "  <thead>\n",
       "    <tr style=\"text-align: right;\">\n",
       "      <th></th>\n",
       "      <th>hypothesis</th>\n",
       "      <th>RICE</th>\n",
       "    </tr>\n",
       "  </thead>\n",
       "  <tbody>\n",
       "    <tr>\n",
       "      <th>7</th>\n",
       "      <td>Добавить форму подписки на все основные страни...</td>\n",
       "      <td>112.00</td>\n",
       "    </tr>\n",
       "    <tr>\n",
       "      <th>2</th>\n",
       "      <td>Добавить блоки рекомендаций товаров на сайт ин...</td>\n",
       "      <td>56.00</td>\n",
       "    </tr>\n",
       "    <tr>\n",
       "      <th>0</th>\n",
       "      <td>Добавить два новых канала привлечения трафика,...</td>\n",
       "      <td>40.00</td>\n",
       "    </tr>\n",
       "    <tr>\n",
       "      <th>6</th>\n",
       "      <td>Показать на главной странице баннеры с актуаль...</td>\n",
       "      <td>40.00</td>\n",
       "    </tr>\n",
       "    <tr>\n",
       "      <th>8</th>\n",
       "      <td>Запустить акцию, дающую скидку на товар в день...</td>\n",
       "      <td>16.20</td>\n",
       "    </tr>\n",
       "    <tr>\n",
       "      <th>3</th>\n",
       "      <td>Изменить структура категорий, что увеличит кон...</td>\n",
       "      <td>9.00</td>\n",
       "    </tr>\n",
       "    <tr>\n",
       "      <th>1</th>\n",
       "      <td>Запустить собственную службу доставки, что сок...</td>\n",
       "      <td>4.00</td>\n",
       "    </tr>\n",
       "    <tr>\n",
       "      <th>5</th>\n",
       "      <td>Добавить страницу отзывов клиентов о магазине,...</td>\n",
       "      <td>4.00</td>\n",
       "    </tr>\n",
       "    <tr>\n",
       "      <th>4</th>\n",
       "      <td>Изменить цвет фона главной страницы, чтобы уве...</td>\n",
       "      <td>3.00</td>\n",
       "    </tr>\n",
       "  </tbody>\n",
       "</table>\n",
       "</div>"
      ],
      "text/plain": [
       "                                          hypothesis   RICE\n",
       "7  Добавить форму подписки на все основные страни... 112.00\n",
       "2  Добавить блоки рекомендаций товаров на сайт ин...  56.00\n",
       "0  Добавить два новых канала привлечения трафика,...  40.00\n",
       "6  Показать на главной странице баннеры с актуаль...  40.00\n",
       "8  Запустить акцию, дающую скидку на товар в день...  16.20\n",
       "3  Изменить структура категорий, что увеличит кон...   9.00\n",
       "1  Запустить собственную службу доставки, что сок...   4.00\n",
       "5  Добавить страницу отзывов клиентов о магазине,...   4.00\n",
       "4  Изменить цвет фона главной страницы, чтобы уве...   3.00"
      ]
     },
     "execution_count": 12,
     "metadata": {},
     "output_type": "execute_result"
    }
   ],
   "source": [
    "hypotheses[['hypothesis', 'RICE']].sort_values(by='RICE', ascending=False)"
   ]
  },
  {
   "cell_type": "markdown",
   "metadata": {},
   "source": [
    "Рразница в методах ICE и RICE заключается в балансе критериев **impact** и **reach/impact**. Поскольку параметры **confidence** и **efforts** в двух методах одинаковы, в ICE решающую роль играет сила воздействия, в RICE - сила воздействия скорректированная на охват.  \n",
    "#### **Иными словами ICE это стратегия, RICE это тактика**\n",
    "_______________________________  \n",
    "Например:  \n",
    "* **\"Запустить акцию, дающую скидку на товар в день рождения\"** reach = 1, т.е. улучшение каснется минимального количества пользователей в течении какого-то периода с точки зрения RICE. В тоже время это улучшение повлияет на удовлетворенность клиентов в целом - у каждого ДР случается раз в 365 дней.   \n",
    "* **\"Добавить форму подписки на все основные страницы, чтобы собрать базу клиентов для email-рассылок\"** reach = 10, говорит о том что в процессе эксперимента или за период, например за 3 месяца, все увядят это изменение. В рамках RICE этот параметр выдвигает гипотезу на превое место, но в долгосрочной перспективе в рамках ICE, будет большой просев в 30% и нивелируя фактор охвата мы отодвигаем приоритет этой гипотезы на третье место.  \n",
    "* **\"Добавить два новых канала привлечения трафика, что позволит привлекать на 30% больше пользователей\"** - reach = 3. Балл говорит сам за себя бизнес планирует охватить 30% аудитории, и это нововведение повлияет на эти 30% в полной мере, но с точки зрения ICE мы оцениваем эффект от процесса без корректировки на количество вовлеченных новых пользователей за некий период.    \n",
    "* **\"Показать на главной странице баннеры с актуальными акциями и распродажами, чтобы увеличить конверсию\"** Сила воздействия на пользователя оценена в 3 балла, причем охват - 5 говорят о так себе фиче, но поскольку мы на 8 баллов уверены в ее результативности оставляют эту гипотезу на 4 месте в приоритетах.  \n",
    "* **\"Добавить блоки рекомендаций товаров на сайт интернет магазина, чтобы повысить конверсию и средний чек заказа\"** и наконец в этой гипотезе параметр reach = 8 говорит не о внушительном охвате пользователей и в обозримом периоде RICE ставит приоритет гипотезы на второе место, но влияние - impact = 3 , оценивая гипотезу с точки зрения процесса, ICE отодвигает ее на пятое. В глобальном плане есть вопросы и посерьезней.  \n"
   ]
  },
  {
   "cell_type": "markdown",
   "metadata": {},
   "source": [
    "## 3. Анализ A/B-теста  \n",
    "[к оглавлению](#step_0)\n",
    "<a class=\"anchor\" id=\"step_3\"></a>"
   ]
  },
  {
   "cell_type": "markdown",
   "metadata": {},
   "source": [
    "### 3.01. График кумулятивной выручки по группам.  \n",
    "[к оглавлению](#step_0)\n",
    "<a class=\"anchor\" id=\"step_3.01\"></a>"
   ]
  },
  {
   "cell_type": "markdown",
   "metadata": {},
   "source": [
    "Сперва взглянем на простой график выручки по дням"
   ]
  },
  {
   "cell_type": "code",
   "execution_count": 13,
   "metadata": {},
   "outputs": [],
   "source": [
    "both_groups = orders.groupby(['visitorid', 'group']).agg({'transactionid':'count'}).unstack().reset_index()\n",
    "both_groups.columns = ['visitorid', 'A', 'B']\n",
    "both_groups['both'] = both_groups['A'] == both_groups['B']\n",
    "double_group_visitors = both_groups.query('both == True')['visitorid']"
   ]
  },
  {
   "cell_type": "code",
   "execution_count": 14,
   "metadata": {},
   "outputs": [],
   "source": [
    "orders = orders.query('visitorid not in @double_group_visitors').copy()"
   ]
  },
  {
   "cell_type": "code",
   "execution_count": 15,
   "metadata": {},
   "outputs": [
    {
     "data": {
      "image/png": "[encoded data removed]",
      "text/plain": [
       "<Figure size 1080x360 with 1 Axes>"
      ]
     },
     "metadata": {},
     "output_type": "display_data"
    }
   ],
   "source": [
    "sns.lineplot(data=orders.groupby(['date', 'group']).agg({'revenue':'sum'}).reset_index(), \n",
    "             x='date', y='revenue', \n",
    "             hue='group', palette='bright', ci=None, estimator='sum')\n",
    "plt.title('Revenue by groups')\n",
    "plt.show()"
   ]
  },
  {
   "cell_type": "markdown",
   "metadata": {},
   "source": [
    "На протяжении всего эксперимента в 1 месяц, кроме сильного скачка выручки в группе B 19 августа, на первый взляд две группы не особо отличаются. Определенных выводов сделать невозможно. Наглядней будет картинка, если мы выведем метрики накопительно"
   ]
  },
  {
   "cell_type": "code",
   "execution_count": 16,
   "metadata": {},
   "outputs": [
    {
     "data": {
      "text/html": [
       "<div>\n",
       "<style scoped>\n",
       "    .dataframe tbody tr th:only-of-type {\n",
       "        vertical-align: middle;\n",
       "    }\n",
       "\n",
       "    .dataframe tbody tr th {\n",
       "        vertical-align: top;\n",
       "    }\n",
       "\n",
       "    .dataframe thead th {\n",
       "        text-align: right;\n",
       "    }\n",
       "</style>\n",
       "<table border=\"1\" class=\"dataframe\">\n",
       "  <thead>\n",
       "    <tr style=\"text-align: right;\">\n",
       "      <th></th>\n",
       "      <th>date</th>\n",
       "      <th>group</th>\n",
       "    </tr>\n",
       "  </thead>\n",
       "  <tbody>\n",
       "    <tr>\n",
       "      <th>0</th>\n",
       "      <td>2019-08-15</td>\n",
       "      <td>B</td>\n",
       "    </tr>\n",
       "    <tr>\n",
       "      <th>7</th>\n",
       "      <td>2019-08-15</td>\n",
       "      <td>A</td>\n",
       "    </tr>\n",
       "    <tr>\n",
       "      <th>45</th>\n",
       "      <td>2019-08-16</td>\n",
       "      <td>A</td>\n",
       "    </tr>\n",
       "    <tr>\n",
       "      <th>47</th>\n",
       "      <td>2019-08-16</td>\n",
       "      <td>B</td>\n",
       "    </tr>\n",
       "    <tr>\n",
       "      <th>55</th>\n",
       "      <td>2019-08-01</td>\n",
       "      <td>A</td>\n",
       "    </tr>\n",
       "  </tbody>\n",
       "</table>\n",
       "</div>"
      ],
      "text/plain": [
       "         date group\n",
       "0  2019-08-15     B\n",
       "7  2019-08-15     A\n",
       "45 2019-08-16     A\n",
       "47 2019-08-16     B\n",
       "55 2019-08-01     A"
      ]
     },
     "execution_count": 16,
     "metadata": {},
     "output_type": "execute_result"
    }
   ],
   "source": [
    "# создаем массив уникальных пар значений дат и групп теста\n",
    "dates_groups = orders[['date','group']].drop_duplicates()\n",
    "dates_groups.head()"
   ]
  },
  {
   "cell_type": "code",
   "execution_count": 17,
   "metadata": {},
   "outputs": [
    {
     "data": {
      "text/html": [
       "<div>\n",
       "<style scoped>\n",
       "    .dataframe tbody tr th:only-of-type {\n",
       "        vertical-align: middle;\n",
       "    }\n",
       "\n",
       "    .dataframe tbody tr th {\n",
       "        vertical-align: top;\n",
       "    }\n",
       "\n",
       "    .dataframe thead th {\n",
       "        text-align: right;\n",
       "    }\n",
       "</style>\n",
       "<table border=\"1\" class=\"dataframe\">\n",
       "  <thead>\n",
       "    <tr style=\"text-align: right;\">\n",
       "      <th></th>\n",
       "      <th>date</th>\n",
       "      <th>group</th>\n",
       "      <th>transactionid</th>\n",
       "      <th>visitorid</th>\n",
       "      <th>revenue</th>\n",
       "    </tr>\n",
       "  </thead>\n",
       "  <tbody>\n",
       "    <tr>\n",
       "      <th>533</th>\n",
       "      <td>2019-08-29</td>\n",
       "      <td>B</td>\n",
       "      <td>565</td>\n",
       "      <td>513</td>\n",
       "      <td>5266434</td>\n",
       "    </tr>\n",
       "    <tr>\n",
       "      <th>757</th>\n",
       "      <td>2019-08-30</td>\n",
       "      <td>A</td>\n",
       "      <td>512</td>\n",
       "      <td>460</td>\n",
       "      <td>3643218</td>\n",
       "    </tr>\n",
       "    <tr>\n",
       "      <th>690</th>\n",
       "      <td>2019-08-30</td>\n",
       "      <td>B</td>\n",
       "      <td>587</td>\n",
       "      <td>534</td>\n",
       "      <td>5477657</td>\n",
       "    </tr>\n",
       "    <tr>\n",
       "      <th>958</th>\n",
       "      <td>2019-08-31</td>\n",
       "      <td>A</td>\n",
       "      <td>522</td>\n",
       "      <td>468</td>\n",
       "      <td>3702201</td>\n",
       "    </tr>\n",
       "    <tr>\n",
       "      <th>930</th>\n",
       "      <td>2019-08-31</td>\n",
       "      <td>B</td>\n",
       "      <td>605</td>\n",
       "      <td>551</td>\n",
       "      <td>5592646</td>\n",
       "    </tr>\n",
       "  </tbody>\n",
       "</table>\n",
       "</div>"
      ],
      "text/plain": [
       "          date group  transactionid  visitorid  revenue\n",
       "533 2019-08-29     B            565        513  5266434\n",
       "757 2019-08-30     A            512        460  3643218\n",
       "690 2019-08-30     B            587        534  5477657\n",
       "958 2019-08-31     A            522        468  3702201\n",
       "930 2019-08-31     B            605        551  5592646"
      ]
     },
     "execution_count": 17,
     "metadata": {},
     "output_type": "execute_result"
    }
   ],
   "source": [
    "\"\"\"Код работает так: \n",
    "для каждой строки dates_groups проверяем равна ли группа и не больше ли дата из orders\n",
    "и если условие выполняется, выводим: \n",
    "число уникальных пользователей, \n",
    "число уникальных заказов,\n",
    "накопленную выручку\"\"\"\n",
    "orders_aggregated = dates_groups.apply(\n",
    "    lambda x: orders[np.logical_and(orders['date'] <= x['date'], orders['group'] == x['group'])].agg({\n",
    "        'date':'max', \n",
    "        'group':'max', \n",
    "        'transactionid':pd.Series.nunique, \n",
    "        'visitorid':pd.Series.nunique, \n",
    "        'revenue':'sum'}), axis=1).sort_values(by=['date','group']) \n",
    "orders_aggregated.tail()"
   ]
  },
  {
   "cell_type": "code",
   "execution_count": 18,
   "metadata": {},
   "outputs": [
    {
     "data": {
      "text/html": [
       "<div>\n",
       "<style scoped>\n",
       "    .dataframe tbody tr th:only-of-type {\n",
       "        vertical-align: middle;\n",
       "    }\n",
       "\n",
       "    .dataframe tbody tr th {\n",
       "        vertical-align: top;\n",
       "    }\n",
       "\n",
       "    .dataframe thead th {\n",
       "        text-align: right;\n",
       "    }\n",
       "</style>\n",
       "<table border=\"1\" class=\"dataframe\">\n",
       "  <thead>\n",
       "    <tr style=\"text-align: right;\">\n",
       "      <th></th>\n",
       "      <th>date</th>\n",
       "      <th>group</th>\n",
       "      <th>visitors</th>\n",
       "    </tr>\n",
       "  </thead>\n",
       "  <tbody>\n",
       "    <tr>\n",
       "      <th>533</th>\n",
       "      <td>2019-08-29</td>\n",
       "      <td>B</td>\n",
       "      <td>17708</td>\n",
       "    </tr>\n",
       "    <tr>\n",
       "      <th>757</th>\n",
       "      <td>2019-08-30</td>\n",
       "      <td>A</td>\n",
       "      <td>18037</td>\n",
       "    </tr>\n",
       "    <tr>\n",
       "      <th>690</th>\n",
       "      <td>2019-08-30</td>\n",
       "      <td>B</td>\n",
       "      <td>18198</td>\n",
       "    </tr>\n",
       "    <tr>\n",
       "      <th>958</th>\n",
       "      <td>2019-08-31</td>\n",
       "      <td>A</td>\n",
       "      <td>18736</td>\n",
       "    </tr>\n",
       "    <tr>\n",
       "      <th>930</th>\n",
       "      <td>2019-08-31</td>\n",
       "      <td>B</td>\n",
       "      <td>18916</td>\n",
       "    </tr>\n",
       "  </tbody>\n",
       "</table>\n",
       "</div>"
      ],
      "text/plain": [
       "          date group  visitors\n",
       "533 2019-08-29     B     17708\n",
       "757 2019-08-30     A     18037\n",
       "690 2019-08-30     B     18198\n",
       "958 2019-08-31     A     18736\n",
       "930 2019-08-31     B     18916"
      ]
     },
     "execution_count": 18,
     "metadata": {},
     "output_type": "execute_result"
    }
   ],
   "source": [
    "visitors_aggregated = dates_groups.apply(\n",
    "    lambda x: visitors[np.logical_and(visitors['date'] <= x['date'], visitors['group'] == x['group'])].agg({\n",
    "        'date':'max', \n",
    "        'group':'max', \n",
    "        'visitors':'sum'}), axis=1).sort_values(by=['date','group'])\n",
    "visitors_aggregated.tail()"
   ]
  },
  {
   "cell_type": "code",
   "execution_count": 19,
   "metadata": {},
   "outputs": [
    {
     "data": {
      "text/html": [
       "<div>\n",
       "<style scoped>\n",
       "    .dataframe tbody tr th:only-of-type {\n",
       "        vertical-align: middle;\n",
       "    }\n",
       "\n",
       "    .dataframe tbody tr th {\n",
       "        vertical-align: top;\n",
       "    }\n",
       "\n",
       "    .dataframe thead th {\n",
       "        text-align: right;\n",
       "    }\n",
       "</style>\n",
       "<table border=\"1\" class=\"dataframe\">\n",
       "  <thead>\n",
       "    <tr style=\"text-align: right;\">\n",
       "      <th></th>\n",
       "      <th>date</th>\n",
       "      <th>group</th>\n",
       "      <th>orders</th>\n",
       "      <th>buyers</th>\n",
       "      <th>revenue</th>\n",
       "      <th>visitors</th>\n",
       "    </tr>\n",
       "  </thead>\n",
       "  <tbody>\n",
       "    <tr>\n",
       "      <th>57</th>\n",
       "      <td>2019-08-29</td>\n",
       "      <td>B</td>\n",
       "      <td>565</td>\n",
       "      <td>513</td>\n",
       "      <td>5266434</td>\n",
       "      <td>17708</td>\n",
       "    </tr>\n",
       "    <tr>\n",
       "      <th>58</th>\n",
       "      <td>2019-08-30</td>\n",
       "      <td>A</td>\n",
       "      <td>512</td>\n",
       "      <td>460</td>\n",
       "      <td>3643218</td>\n",
       "      <td>18037</td>\n",
       "    </tr>\n",
       "    <tr>\n",
       "      <th>59</th>\n",
       "      <td>2019-08-30</td>\n",
       "      <td>B</td>\n",
       "      <td>587</td>\n",
       "      <td>534</td>\n",
       "      <td>5477657</td>\n",
       "      <td>18198</td>\n",
       "    </tr>\n",
       "    <tr>\n",
       "      <th>60</th>\n",
       "      <td>2019-08-31</td>\n",
       "      <td>A</td>\n",
       "      <td>522</td>\n",
       "      <td>468</td>\n",
       "      <td>3702201</td>\n",
       "      <td>18736</td>\n",
       "    </tr>\n",
       "    <tr>\n",
       "      <th>61</th>\n",
       "      <td>2019-08-31</td>\n",
       "      <td>B</td>\n",
       "      <td>605</td>\n",
       "      <td>551</td>\n",
       "      <td>5592646</td>\n",
       "      <td>18916</td>\n",
       "    </tr>\n",
       "  </tbody>\n",
       "</table>\n",
       "</div>"
      ],
      "text/plain": [
       "         date group  orders  buyers  revenue  visitors\n",
       "57 2019-08-29     B     565     513  5266434     17708\n",
       "58 2019-08-30     A     512     460  3643218     18037\n",
       "59 2019-08-30     B     587     534  5477657     18198\n",
       "60 2019-08-31     A     522     468  3702201     18736\n",
       "61 2019-08-31     B     605     551  5592646     18916"
      ]
     },
     "execution_count": 19,
     "metadata": {},
     "output_type": "execute_result"
    }
   ],
   "source": [
    "cumulative_data = pd.merge(orders_aggregated, visitors_aggregated, left_on=['date', 'group'], right_on=['date', 'group'])\n",
    "cumulative_data.columns = ['date', 'group', 'orders', 'buyers', 'revenue', 'visitors']\n",
    "cumulative_data.tail()"
   ]
  },
  {
   "cell_type": "markdown",
   "metadata": {},
   "source": [
    "Для просмотра результата приемлемей выводить конец таблицы.  \n",
    "Самое время построить графики кумулятивной выручки"
   ]
  },
  {
   "cell_type": "code",
   "execution_count": 20,
   "metadata": {},
   "outputs": [
    {
     "data": {
      "image/png": "[encoded data removed]",
      "text/plain": [
       "<Figure size 1080x360 with 1 Axes>"
      ]
     },
     "metadata": {},
     "output_type": "display_data"
    }
   ],
   "source": [
    "sns.lineplot(data=cumulative_data, x='date', y='revenue', hue='group', palette='bright', ci=None, estimator='sum')\n",
    "plt.title('Cumulative revenue by groups')\n",
    "plt.show()"
   ]
  },
  {
   "cell_type": "markdown",
   "metadata": {},
   "source": [
    "Выручка в обеих группах растут практически из одной точки, но в группе B с 5.08 выручка начанает расти активнее. Впрочем 13.08 они снова пересекаются. Произошел едва заметный подскок в группе A и провал в группе B. Но начиная с 13.08 линии окончательно расходятся. Примерно 19.08 в группе B произошел резкий всплеск, который был заметен и на предыдущем графике. Наблюдаемый всплеск существенно отдалил линию B от A, но оставил линии параллельными. Однозначно это выброс. В ходе дальнейшего анализа пропробуем его нейтрализовать и посмотрим как повели бы себя графики без его участия. В любом случае, даже без всплеска видимая параллельность линий накопительной выручки мало очем говорит, т.к. выручка это метрика более высокого уровня. Понять причину событий поможет декомпозиция на более низкоуровневые метрики, типа число заказов, число клиентов, средний чек и т.п."
   ]
  },
  {
   "cell_type": "markdown",
   "metadata": {},
   "source": [
    "### 3.02. График кумулятивного среднего чека по группам. \n",
    "[к оглавлению](#step_0)\n",
    "<a class=\"anchor\" id=\"step_3.02\"></a>"
   ]
  },
  {
   "cell_type": "markdown",
   "metadata": {},
   "source": [
    "Средний чек (AOV — Average Order Value) — это отношение общей стоимости совершенных заказов (т.е. полученного дохода) к суммарному количеству заказов за определенный период. Измеряется в денежном эквиваленте."
   ]
  },
  {
   "cell_type": "code",
   "execution_count": 21,
   "metadata": {},
   "outputs": [
    {
     "data": {
      "text/html": [
       "<div>\n",
       "<style scoped>\n",
       "    .dataframe tbody tr th:only-of-type {\n",
       "        vertical-align: middle;\n",
       "    }\n",
       "\n",
       "    .dataframe tbody tr th {\n",
       "        vertical-align: top;\n",
       "    }\n",
       "\n",
       "    .dataframe thead th {\n",
       "        text-align: right;\n",
       "    }\n",
       "</style>\n",
       "<table border=\"1\" class=\"dataframe\">\n",
       "  <thead>\n",
       "    <tr style=\"text-align: right;\">\n",
       "      <th></th>\n",
       "      <th>date</th>\n",
       "      <th>group</th>\n",
       "      <th>orders</th>\n",
       "      <th>buyers</th>\n",
       "      <th>revenue</th>\n",
       "      <th>visitors</th>\n",
       "      <th>aov</th>\n",
       "    </tr>\n",
       "  </thead>\n",
       "  <tbody>\n",
       "    <tr>\n",
       "      <th>57</th>\n",
       "      <td>2019-08-29</td>\n",
       "      <td>B</td>\n",
       "      <td>565</td>\n",
       "      <td>513</td>\n",
       "      <td>5266434</td>\n",
       "      <td>17708</td>\n",
       "      <td>9321.12</td>\n",
       "    </tr>\n",
       "    <tr>\n",
       "      <th>58</th>\n",
       "      <td>2019-08-30</td>\n",
       "      <td>A</td>\n",
       "      <td>512</td>\n",
       "      <td>460</td>\n",
       "      <td>3643218</td>\n",
       "      <td>18037</td>\n",
       "      <td>7115.66</td>\n",
       "    </tr>\n",
       "    <tr>\n",
       "      <th>59</th>\n",
       "      <td>2019-08-30</td>\n",
       "      <td>B</td>\n",
       "      <td>587</td>\n",
       "      <td>534</td>\n",
       "      <td>5477657</td>\n",
       "      <td>18198</td>\n",
       "      <td>9331.61</td>\n",
       "    </tr>\n",
       "    <tr>\n",
       "      <th>60</th>\n",
       "      <td>2019-08-31</td>\n",
       "      <td>A</td>\n",
       "      <td>522</td>\n",
       "      <td>468</td>\n",
       "      <td>3702201</td>\n",
       "      <td>18736</td>\n",
       "      <td>7092.34</td>\n",
       "    </tr>\n",
       "    <tr>\n",
       "      <th>61</th>\n",
       "      <td>2019-08-31</td>\n",
       "      <td>B</td>\n",
       "      <td>605</td>\n",
       "      <td>551</td>\n",
       "      <td>5592646</td>\n",
       "      <td>18916</td>\n",
       "      <td>9244.04</td>\n",
       "    </tr>\n",
       "  </tbody>\n",
       "</table>\n",
       "</div>"
      ],
      "text/plain": [
       "         date group  orders  buyers  revenue  visitors     aov\n",
       "57 2019-08-29     B     565     513  5266434     17708 9321.12\n",
       "58 2019-08-30     A     512     460  3643218     18037 7115.66\n",
       "59 2019-08-30     B     587     534  5477657     18198 9331.61\n",
       "60 2019-08-31     A     522     468  3702201     18736 7092.34\n",
       "61 2019-08-31     B     605     551  5592646     18916 9244.04"
      ]
     },
     "execution_count": 21,
     "metadata": {},
     "output_type": "execute_result"
    }
   ],
   "source": [
    "cumulative_data['aov'] = cumulative_data['revenue'] / cumulative_data['orders']\n",
    "cumulative_data.tail()"
   ]
  },
  {
   "cell_type": "code",
   "execution_count": 22,
   "metadata": {},
   "outputs": [
    {
     "data": {
      "image/png": "[encoded data removed]",
      "text/plain": [
       "<Figure size 1080x360 with 1 Axes>"
      ]
     },
     "metadata": {},
     "output_type": "display_data"
    }
   ],
   "source": [
    "sns.lineplot(data=cumulative_data, x='date', y='aov', hue='group', palette='bright', ci=None, estimator='sum')\n",
    "plt.title('Cumulative average order value')\n",
    "plt.show()"
   ]
  },
  {
   "cell_type": "markdown",
   "metadata": {},
   "source": [
    "Вычленив из выручки влияние среднего чека более заметно сближение (и даже прогиб) линии B 13.05. Похоже на выброс в группе A, им мы займемся позже. Так же заметна аномалия 19.08. Теперь мы знаем что причиной тому поскочивший средний чек. Впрочем дальнейшее направлении линии B направлено в сторону уменьшения, а линия A фиксируется на уровне 7000, даже с небольшим ростом. Продолжим наблюдения."
   ]
  },
  {
   "cell_type": "markdown",
   "metadata": {},
   "source": [
    "### 3.03. График относительного изменения кумулятивного среднего чека группы B к группе A.  \n",
    "[к оглавлению](#step_0)\n",
    "<a class=\"anchor\" id=\"step_3.03\"></a>"
   ]
  },
  {
   "cell_type": "markdown",
   "metadata": {},
   "source": [
    "Преобразуем таблицу в горизонтальное положение кумулятивных выручек и заказов, чтобы можно посчитать относительное изменение кумулятивного среднего чека. назовем эту метрику Relative Change of Average Order Value и расчитаем по формуле  \n",
    "\n",
    "$$\n",
    "rc\\_{aov} = \\frac{revenueB}{ordersB} : \\frac{revenueA}{ordersA} - 1\n",
    "$$"
   ]
  },
  {
   "cell_type": "code",
   "execution_count": 23,
   "metadata": {},
   "outputs": [
    {
     "data": {
      "text/html": [
       "<div>\n",
       "<style scoped>\n",
       "    .dataframe tbody tr th:only-of-type {\n",
       "        vertical-align: middle;\n",
       "    }\n",
       "\n",
       "    .dataframe tbody tr th {\n",
       "        vertical-align: top;\n",
       "    }\n",
       "\n",
       "    .dataframe thead th {\n",
       "        text-align: right;\n",
       "    }\n",
       "</style>\n",
       "<table border=\"1\" class=\"dataframe\">\n",
       "  <thead>\n",
       "    <tr style=\"text-align: right;\">\n",
       "      <th></th>\n",
       "      <th>date</th>\n",
       "      <th>ordersA</th>\n",
       "      <th>ordersB</th>\n",
       "      <th>revenueA</th>\n",
       "      <th>revenueB</th>\n",
       "      <th>visitorsA</th>\n",
       "      <th>visitorsB</th>\n",
       "    </tr>\n",
       "  </thead>\n",
       "  <tbody>\n",
       "    <tr>\n",
       "      <th>26</th>\n",
       "      <td>2019-08-27</td>\n",
       "      <td>468</td>\n",
       "      <td>520</td>\n",
       "      <td>3267966</td>\n",
       "      <td>5052226</td>\n",
       "      <td>16376</td>\n",
       "      <td>16523</td>\n",
       "    </tr>\n",
       "    <tr>\n",
       "      <th>27</th>\n",
       "      <td>2019-08-28</td>\n",
       "      <td>484</td>\n",
       "      <td>548</td>\n",
       "      <td>3365628</td>\n",
       "      <td>5148234</td>\n",
       "      <td>16970</td>\n",
       "      <td>17177</td>\n",
       "    </tr>\n",
       "    <tr>\n",
       "      <th>28</th>\n",
       "      <td>2019-08-29</td>\n",
       "      <td>503</td>\n",
       "      <td>565</td>\n",
       "      <td>3565038</td>\n",
       "      <td>5266434</td>\n",
       "      <td>17547</td>\n",
       "      <td>17708</td>\n",
       "    </tr>\n",
       "    <tr>\n",
       "      <th>29</th>\n",
       "      <td>2019-08-30</td>\n",
       "      <td>512</td>\n",
       "      <td>587</td>\n",
       "      <td>3643218</td>\n",
       "      <td>5477657</td>\n",
       "      <td>18037</td>\n",
       "      <td>18198</td>\n",
       "    </tr>\n",
       "    <tr>\n",
       "      <th>30</th>\n",
       "      <td>2019-08-31</td>\n",
       "      <td>522</td>\n",
       "      <td>605</td>\n",
       "      <td>3702201</td>\n",
       "      <td>5592646</td>\n",
       "      <td>18736</td>\n",
       "      <td>18916</td>\n",
       "    </tr>\n",
       "  </tbody>\n",
       "</table>\n",
       "</div>"
      ],
      "text/plain": [
       "         date  ordersA  ordersB  revenueA  revenueB  visitorsA  visitorsB\n",
       "26 2019-08-27      468      520   3267966   5052226      16376      16523\n",
       "27 2019-08-28      484      548   3365628   5148234      16970      17177\n",
       "28 2019-08-29      503      565   3565038   5266434      17547      17708\n",
       "29 2019-08-30      512      587   3643218   5477657      18037      18198\n",
       "30 2019-08-31      522      605   3702201   5592646      18736      18916"
      ]
     },
     "execution_count": 23,
     "metadata": {},
     "output_type": "execute_result"
    }
   ],
   "source": [
    "cumulative_data_horizont = cumulative_data.pivot_table(\n",
    "    index='date', columns=['group'], values=['revenue', 'orders', 'visitors']).reset_index()\n",
    "cumulative_data_horizont.columns = [''.join(col).strip() for col in cumulative_data_horizont.columns.values]\n",
    "cumulative_data_horizont.tail()"
   ]
  },
  {
   "cell_type": "code",
   "execution_count": 24,
   "metadata": {},
   "outputs": [
    {
     "data": {
      "text/html": [
       "<div>\n",
       "<style scoped>\n",
       "    .dataframe tbody tr th:only-of-type {\n",
       "        vertical-align: middle;\n",
       "    }\n",
       "\n",
       "    .dataframe tbody tr th {\n",
       "        vertical-align: top;\n",
       "    }\n",
       "\n",
       "    .dataframe thead th {\n",
       "        text-align: right;\n",
       "    }\n",
       "</style>\n",
       "<table border=\"1\" class=\"dataframe\">\n",
       "  <thead>\n",
       "    <tr style=\"text-align: right;\">\n",
       "      <th></th>\n",
       "      <th>date</th>\n",
       "      <th>ordersA</th>\n",
       "      <th>ordersB</th>\n",
       "      <th>revenueA</th>\n",
       "      <th>revenueB</th>\n",
       "      <th>visitorsA</th>\n",
       "      <th>visitorsB</th>\n",
       "      <th>rc_aov</th>\n",
       "    </tr>\n",
       "  </thead>\n",
       "  <tbody>\n",
       "    <tr>\n",
       "      <th>26</th>\n",
       "      <td>2019-08-27</td>\n",
       "      <td>468</td>\n",
       "      <td>520</td>\n",
       "      <td>3267966</td>\n",
       "      <td>5052226</td>\n",
       "      <td>16376</td>\n",
       "      <td>16523</td>\n",
       "      <td>0.39</td>\n",
       "    </tr>\n",
       "    <tr>\n",
       "      <th>27</th>\n",
       "      <td>2019-08-28</td>\n",
       "      <td>484</td>\n",
       "      <td>548</td>\n",
       "      <td>3365628</td>\n",
       "      <td>5148234</td>\n",
       "      <td>16970</td>\n",
       "      <td>17177</td>\n",
       "      <td>0.35</td>\n",
       "    </tr>\n",
       "    <tr>\n",
       "      <th>28</th>\n",
       "      <td>2019-08-29</td>\n",
       "      <td>503</td>\n",
       "      <td>565</td>\n",
       "      <td>3565038</td>\n",
       "      <td>5266434</td>\n",
       "      <td>17547</td>\n",
       "      <td>17708</td>\n",
       "      <td>0.32</td>\n",
       "    </tr>\n",
       "    <tr>\n",
       "      <th>29</th>\n",
       "      <td>2019-08-30</td>\n",
       "      <td>512</td>\n",
       "      <td>587</td>\n",
       "      <td>3643218</td>\n",
       "      <td>5477657</td>\n",
       "      <td>18037</td>\n",
       "      <td>18198</td>\n",
       "      <td>0.31</td>\n",
       "    </tr>\n",
       "    <tr>\n",
       "      <th>30</th>\n",
       "      <td>2019-08-31</td>\n",
       "      <td>522</td>\n",
       "      <td>605</td>\n",
       "      <td>3702201</td>\n",
       "      <td>5592646</td>\n",
       "      <td>18736</td>\n",
       "      <td>18916</td>\n",
       "      <td>0.30</td>\n",
       "    </tr>\n",
       "  </tbody>\n",
       "</table>\n",
       "</div>"
      ],
      "text/plain": [
       "         date  ordersA  ordersB  revenueA  revenueB  visitorsA  visitorsB  \\\n",
       "26 2019-08-27      468      520   3267966   5052226      16376      16523   \n",
       "27 2019-08-28      484      548   3365628   5148234      16970      17177   \n",
       "28 2019-08-29      503      565   3565038   5266434      17547      17708   \n",
       "29 2019-08-30      512      587   3643218   5477657      18037      18198   \n",
       "30 2019-08-31      522      605   3702201   5592646      18736      18916   \n",
       "\n",
       "    rc_aov  \n",
       "26    0.39  \n",
       "27    0.35  \n",
       "28    0.32  \n",
       "29    0.31  \n",
       "30    0.30  "
      ]
     },
     "execution_count": 24,
     "metadata": {},
     "output_type": "execute_result"
    }
   ],
   "source": [
    "cumulative_data_horizont['rc_aov'] = (\n",
    "    cumulative_data_horizont['revenueB'] / cumulative_data_horizont['ordersB']) / (\n",
    "    cumulative_data_horizont['revenueA'] / cumulative_data_horizont['ordersA']) - 1\n",
    "cumulative_data_horizont.tail()"
   ]
  },
  {
   "cell_type": "code",
   "execution_count": 25,
   "metadata": {},
   "outputs": [
    {
     "data": {
      "image/png": "[encoded data removed]",
      "text/plain": [
       "<Figure size 1080x360 with 1 Axes>"
      ]
     },
     "metadata": {},
     "output_type": "display_data"
    }
   ],
   "source": [
    "sns.lineplot(data=cumulative_data_horizont, x='date', y='rc_aov', palette='bright', ci=None, estimator='mean')\n",
    "plt.axhline(y=0, color='black', linestyle='--')\n",
    "plt.title('Relative change of average order value of group B to group A')\n",
    "plt.show()"
   ]
  },
  {
   "cell_type": "markdown",
   "metadata": {},
   "source": [
    "После относительно роста среднего чека группы B 6.08 и 7.08, 13.08 снова наблюдается провал и резкий подъем 19.08. Все эти выбросы в обеих группах заставляют скакать линию относительного изменения среднего чека вокруг нуля. Иначе при стабильном росте линия была бы параллельна пунктирной оси и располагалась сверху, в случае стабильного падения снизу, а без изменений слилась бы с ней. Займемся выбросами дальше.\n",
    "<a class=\"anchor\" id=\"step_8\"></a> [обратно](#step_10)"
   ]
  },
  {
   "cell_type": "markdown",
   "metadata": {},
   "source": [
    "### 3.04 График кумулятивной конверсии по группам. \n",
    "[к оглавлению](#step_0)\n",
    "<a class=\"anchor\" id=\"step_3.04\"></a>"
   ]
  },
  {
   "cell_type": "code",
   "execution_count": 26,
   "metadata": {},
   "outputs": [
    {
     "data": {
      "text/html": [
       "<div>\n",
       "<style scoped>\n",
       "    .dataframe tbody tr th:only-of-type {\n",
       "        vertical-align: middle;\n",
       "    }\n",
       "\n",
       "    .dataframe tbody tr th {\n",
       "        vertical-align: top;\n",
       "    }\n",
       "\n",
       "    .dataframe thead th {\n",
       "        text-align: right;\n",
       "    }\n",
       "</style>\n",
       "<table border=\"1\" class=\"dataframe\">\n",
       "  <thead>\n",
       "    <tr style=\"text-align: right;\">\n",
       "      <th></th>\n",
       "      <th>date</th>\n",
       "      <th>group</th>\n",
       "      <th>orders</th>\n",
       "      <th>buyers</th>\n",
       "      <th>revenue</th>\n",
       "      <th>visitors</th>\n",
       "      <th>aov</th>\n",
       "      <th>cr</th>\n",
       "    </tr>\n",
       "  </thead>\n",
       "  <tbody>\n",
       "    <tr>\n",
       "      <th>57</th>\n",
       "      <td>2019-08-29</td>\n",
       "      <td>B</td>\n",
       "      <td>565</td>\n",
       "      <td>513</td>\n",
       "      <td>5266434</td>\n",
       "      <td>17708</td>\n",
       "      <td>9321.12</td>\n",
       "      <td>0.03</td>\n",
       "    </tr>\n",
       "    <tr>\n",
       "      <th>58</th>\n",
       "      <td>2019-08-30</td>\n",
       "      <td>A</td>\n",
       "      <td>512</td>\n",
       "      <td>460</td>\n",
       "      <td>3643218</td>\n",
       "      <td>18037</td>\n",
       "      <td>7115.66</td>\n",
       "      <td>0.03</td>\n",
       "    </tr>\n",
       "    <tr>\n",
       "      <th>59</th>\n",
       "      <td>2019-08-30</td>\n",
       "      <td>B</td>\n",
       "      <td>587</td>\n",
       "      <td>534</td>\n",
       "      <td>5477657</td>\n",
       "      <td>18198</td>\n",
       "      <td>9331.61</td>\n",
       "      <td>0.03</td>\n",
       "    </tr>\n",
       "    <tr>\n",
       "      <th>60</th>\n",
       "      <td>2019-08-31</td>\n",
       "      <td>A</td>\n",
       "      <td>522</td>\n",
       "      <td>468</td>\n",
       "      <td>3702201</td>\n",
       "      <td>18736</td>\n",
       "      <td>7092.34</td>\n",
       "      <td>0.03</td>\n",
       "    </tr>\n",
       "    <tr>\n",
       "      <th>61</th>\n",
       "      <td>2019-08-31</td>\n",
       "      <td>B</td>\n",
       "      <td>605</td>\n",
       "      <td>551</td>\n",
       "      <td>5592646</td>\n",
       "      <td>18916</td>\n",
       "      <td>9244.04</td>\n",
       "      <td>0.03</td>\n",
       "    </tr>\n",
       "  </tbody>\n",
       "</table>\n",
       "</div>"
      ],
      "text/plain": [
       "         date group  orders  buyers  revenue  visitors     aov   cr\n",
       "57 2019-08-29     B     565     513  5266434     17708 9321.12 0.03\n",
       "58 2019-08-30     A     512     460  3643218     18037 7115.66 0.03\n",
       "59 2019-08-30     B     587     534  5477657     18198 9331.61 0.03\n",
       "60 2019-08-31     A     522     468  3702201     18736 7092.34 0.03\n",
       "61 2019-08-31     B     605     551  5592646     18916 9244.04 0.03"
      ]
     },
     "execution_count": 26,
     "metadata": {},
     "output_type": "execute_result"
    }
   ],
   "source": [
    "cumulative_data['cr'] = cumulative_data['orders'] / cumulative_data['visitors']\n",
    "cumulative_data.tail()"
   ]
  },
  {
   "cell_type": "code",
   "execution_count": 27,
   "metadata": {},
   "outputs": [
    {
     "data": {
      "image/png": "[encoded data removed]",
      "text/plain": [
       "<Figure size 1080x360 with 1 Axes>"
      ]
     },
     "metadata": {},
     "output_type": "display_data"
    }
   ],
   "source": [
    "sns.lineplot(data=cumulative_data, x='date', y='cr', hue='group', palette='bright', ci=None, estimator='mean')\n",
    "plt.axis([cumulative_data.date.min(),\n",
    "          cumulative_data.date.max(), 0, 0.05])\n",
    "plt.title('Cumulative conversion by groups')\n",
    "plt.show()"
   ]
  },
  {
   "cell_type": "markdown",
   "metadata": {},
   "source": [
    "Коневерсия группы B по началу несколько отстает от группы A, но после 10.08 устойчиво превышает и фиксируется на одном значении. Это значение определим в следующем пункте."
   ]
  },
  {
   "cell_type": "markdown",
   "metadata": {},
   "source": [
    "### 3.05. График относительного изменения кумулятивной конверсии группы B к группе A. \n",
    "[к оглавлению](#step_0)\n",
    "<a class=\"anchor\" id=\"step_3.05\"></a>"
   ]
  },
  {
   "cell_type": "code",
   "execution_count": 28,
   "metadata": {},
   "outputs": [
    {
     "data": {
      "text/html": [
       "<div>\n",
       "<style scoped>\n",
       "    .dataframe tbody tr th:only-of-type {\n",
       "        vertical-align: middle;\n",
       "    }\n",
       "\n",
       "    .dataframe tbody tr th {\n",
       "        vertical-align: top;\n",
       "    }\n",
       "\n",
       "    .dataframe thead th {\n",
       "        text-align: right;\n",
       "    }\n",
       "</style>\n",
       "<table border=\"1\" class=\"dataframe\">\n",
       "  <thead>\n",
       "    <tr style=\"text-align: right;\">\n",
       "      <th></th>\n",
       "      <th>date</th>\n",
       "      <th>ordersA</th>\n",
       "      <th>ordersB</th>\n",
       "      <th>revenueA</th>\n",
       "      <th>revenueB</th>\n",
       "      <th>visitorsA</th>\n",
       "      <th>visitorsB</th>\n",
       "      <th>rc_aov</th>\n",
       "      <th>rc_cr</th>\n",
       "    </tr>\n",
       "  </thead>\n",
       "  <tbody>\n",
       "    <tr>\n",
       "      <th>26</th>\n",
       "      <td>2019-08-27</td>\n",
       "      <td>468</td>\n",
       "      <td>520</td>\n",
       "      <td>3267966</td>\n",
       "      <td>5052226</td>\n",
       "      <td>16376</td>\n",
       "      <td>16523</td>\n",
       "      <td>0.39</td>\n",
       "      <td>0.10</td>\n",
       "    </tr>\n",
       "    <tr>\n",
       "      <th>27</th>\n",
       "      <td>2019-08-28</td>\n",
       "      <td>484</td>\n",
       "      <td>548</td>\n",
       "      <td>3365628</td>\n",
       "      <td>5148234</td>\n",
       "      <td>16970</td>\n",
       "      <td>17177</td>\n",
       "      <td>0.35</td>\n",
       "      <td>0.12</td>\n",
       "    </tr>\n",
       "    <tr>\n",
       "      <th>28</th>\n",
       "      <td>2019-08-29</td>\n",
       "      <td>503</td>\n",
       "      <td>565</td>\n",
       "      <td>3565038</td>\n",
       "      <td>5266434</td>\n",
       "      <td>17547</td>\n",
       "      <td>17708</td>\n",
       "      <td>0.32</td>\n",
       "      <td>0.11</td>\n",
       "    </tr>\n",
       "    <tr>\n",
       "      <th>29</th>\n",
       "      <td>2019-08-30</td>\n",
       "      <td>512</td>\n",
       "      <td>587</td>\n",
       "      <td>3643218</td>\n",
       "      <td>5477657</td>\n",
       "      <td>18037</td>\n",
       "      <td>18198</td>\n",
       "      <td>0.31</td>\n",
       "      <td>0.14</td>\n",
       "    </tr>\n",
       "    <tr>\n",
       "      <th>30</th>\n",
       "      <td>2019-08-31</td>\n",
       "      <td>522</td>\n",
       "      <td>605</td>\n",
       "      <td>3702201</td>\n",
       "      <td>5592646</td>\n",
       "      <td>18736</td>\n",
       "      <td>18916</td>\n",
       "      <td>0.30</td>\n",
       "      <td>0.15</td>\n",
       "    </tr>\n",
       "  </tbody>\n",
       "</table>\n",
       "</div>"
      ],
      "text/plain": [
       "         date  ordersA  ordersB  revenueA  revenueB  visitorsA  visitorsB  \\\n",
       "26 2019-08-27      468      520   3267966   5052226      16376      16523   \n",
       "27 2019-08-28      484      548   3365628   5148234      16970      17177   \n",
       "28 2019-08-29      503      565   3565038   5266434      17547      17708   \n",
       "29 2019-08-30      512      587   3643218   5477657      18037      18198   \n",
       "30 2019-08-31      522      605   3702201   5592646      18736      18916   \n",
       "\n",
       "    rc_aov  rc_cr  \n",
       "26    0.39   0.10  \n",
       "27    0.35   0.12  \n",
       "28    0.32   0.11  \n",
       "29    0.31   0.14  \n",
       "30    0.30   0.15  "
      ]
     },
     "execution_count": 28,
     "metadata": {},
     "output_type": "execute_result"
    }
   ],
   "source": [
    "cumulative_data_horizont['rc_cr'] = (\n",
    "    cumulative_data_horizont['ordersB'] / cumulative_data_horizont['visitorsB']) / (\n",
    "    cumulative_data_horizont['ordersA'] / cumulative_data_horizont['visitorsA']) - 1\n",
    "cumulative_data_horizont.tail()"
   ]
  },
  {
   "cell_type": "code",
   "execution_count": 29,
   "metadata": {},
   "outputs": [
    {
     "data": {
      "image/png": "[encoded data removed]",
      "text/plain": [
       "<Figure size 1080x360 with 1 Axes>"
      ]
     },
     "metadata": {},
     "output_type": "display_data"
    }
   ],
   "source": [
    "sns.lineplot(data=cumulative_data_horizont, x='date', y='rc_cr', palette='bright', ci=None, estimator='mean')\n",
    "plt.axhline(y=0, color='black', linestyle='--')\n",
    "plt.axhline(y=float(cumulative_data_horizont.rc_cr[-1:]), color='green', linestyle='--') \n",
    "plt.title('Relative change of conversion of group B to group A')\n",
    "plt.show()"
   ]
  },
  {
   "cell_type": "markdown",
   "metadata": {},
   "source": [
    "Конверсия группы B в первые дни эксперимента вырвавшись вперед на некоторое время просела относительно группы A. Но дальше - примерно после 10.08 она всегда превышала группу A примерно на 15% <a class=\"anchor\" id=\"step_5\"></a> [обратно](#step_10)"
   ]
  },
  {
   "cell_type": "markdown",
   "metadata": {},
   "source": [
    "### 3.06. Точечный график количества заказов по пользователям.  \n",
    "[к оглавлению](#step_0)\n",
    "<a class=\"anchor\" id=\"step_3.06\"></a>"
   ]
  },
  {
   "cell_type": "markdown",
   "metadata": {},
   "source": [
    "Начиная с этого раздела приступим к анализу выбросов в искажающих чистоту нашего эксперимента.  \n",
    "Сперва оценим количество заказов, совершенных клиентами на предмет нестандартных значений"
   ]
  },
  {
   "cell_type": "code",
   "execution_count": 30,
   "metadata": {},
   "outputs": [
    {
     "data": {
      "text/plain": [
       "count   996.00\n",
       "mean      1.13\n",
       "std       0.72\n",
       "min       1.00\n",
       "25%       1.00\n",
       "50%       1.00\n",
       "75%       1.00\n",
       "max      11.00\n",
       "Name: orders, dtype: float64"
      ]
     },
     "execution_count": 30,
     "metadata": {},
     "output_type": "execute_result"
    }
   ],
   "source": [
    "# Создадим датафрейм, в котором будет лишь информация о клиенте и количество созданых им заказов\n",
    "orders_by_users = orders.groupby('visitorid', as_index=False).agg({'transactionid':pd.Series.nunique})\n",
    "orders_by_users.columns = ['visitorid', 'orders']\n",
    "orders_by_users['orders'].describe().T"
   ]
  },
  {
   "cell_type": "markdown",
   "metadata": {},
   "source": [
    "Судя по всему клиенты чаще всего совершают 1 заказ - не менее 75%, но бывает что и 11. Проверим эти данные гистограммой."
   ]
  },
  {
   "cell_type": "code",
   "execution_count": 31,
   "metadata": {},
   "outputs": [
    {
     "data": {
      "image/png": "[encoded data removed]",
      "text/plain": [
       "<Figure size 720x288 with 1 Axes>"
      ]
     },
     "metadata": {},
     "output_type": "display_data"
    }
   ],
   "source": [
    "plt.figure(figsize=(10,4))\n",
    "plt.hist(orders_by_users['orders'])\n",
    "plt.title('Distribution of orders amont')\n",
    "plt.xlabel('orders')\n",
    "plt.ylabel('frequency')\n",
    "plt.show()"
   ]
  },
  {
   "cell_type": "markdown",
   "metadata": {},
   "source": [
    "Все верно, практически многие делают по 1 заказу, **но все же не все**. Ессть и 2 и 3 заказа, и даже 11.  \n",
    "Рассмотрим данные о количестве заказов с иной стороны. Постоим диаграмму рассеяния где по оси x будет порядковый номер клиента, а по оси y - сколько он совершил заказов"
   ]
  },
  {
   "cell_type": "code",
   "execution_count": 32,
   "metadata": {},
   "outputs": [
    {
     "data": {
      "image/png": "[encoded data removed]",
      "text/plain": [
       "<Figure size 360x360 with 1 Axes>"
      ]
     },
     "metadata": {},
     "output_type": "display_data"
    }
   ],
   "source": [
    "# Присвоим порядковый номер каждому из клиентов\n",
    "n_user = pd.Series(range(0,orders_by_users.shape[0]))\n",
    "plt.figure(figsize=(5,5))\n",
    "plt.scatter(n_user, orders_by_users['orders'])\n",
    "plt.title('Orders by users')\n",
    "plt.xlabel('user')\n",
    "plt.ylabel('amont')\n",
    "plt.show()"
   ]
  },
  {
   "cell_type": "markdown",
   "metadata": {},
   "source": [
    "На таком графике более наглядно распределение клиентов по количеству заказов. \n",
    "* Приктически все по 1 заказу, \n",
    "* чуть меньше по 2 заказа,\n",
    "* еще меньше по 3 заказа, \n",
    "* и т.д. вплоть до 11 заказов, которые сделали 2 человека.  \n",
    "\n",
    "\n",
    "Очевидно что большинство пользователей делают по 1-2 заказа, но точно определить значение в качестве границы нам помогут перцентили."
   ]
  },
  {
   "cell_type": "markdown",
   "metadata": {},
   "source": [
    "### 3.07. 95-й и 99-й перцентили количества заказов на пользователя.  \n",
    "[к оглавлению](#step_0)\n",
    "<a class=\"anchor\" id=\"step_3.07\"></a>"
   ]
  },
  {
   "cell_type": "markdown",
   "metadata": {},
   "source": [
    "Процентили помогут разбить наших клиентов по количеству заказов на 100 частей. В текущем контексте нас интересует количество заказов в 95 и 99 перцентилях"
   ]
  },
  {
   "cell_type": "code",
   "execution_count": 33,
   "metadata": {},
   "outputs": [
    {
     "name": "stdout",
     "output_type": "stream",
     "text": [
      "Как видим не более 1% клиентов сделали 4 и более заказов, и не более 5% клиентов сделали свыше 2 заказов\n"
     ]
    }
   ],
   "source": [
    "orders_pp = np.percentile(orders_by_users['orders'], [95, 99])\n",
    "print(f'Как видим не более 1% клиентов сделали {orders_pp[1]:.0f} \\\n",
    "и более заказов, и не более 5% клиентов сделали свыше {orders_pp[0]:.0f} заказов')"
   ]
  },
  {
   "cell_type": "markdown",
   "metadata": {},
   "source": [
    "Далее в процессе анализа отбросим всех клиентов совершивших более 2 заказов"
   ]
  },
  {
   "cell_type": "markdown",
   "metadata": {},
   "source": [
    "### 3.08. Точечный график стоимостей заказов.  \n",
    "[к оглавлению](#step_0)\n",
    "<a class=\"anchor\" id=\"step_3.08\"></a>"
   ]
  },
  {
   "cell_type": "markdown",
   "metadata": {},
   "source": [
    "Как и в случае с количеством заказов на клиента определим какие в принципе заказы у нас встречаются"
   ]
  },
  {
   "cell_type": "code",
   "execution_count": 34,
   "metadata": {},
   "outputs": [
    {
     "data": {
      "text/plain": [
       "count      1127.00\n",
       "mean       8247.42\n",
       "std       40144.90\n",
       "min          50.00\n",
       "25%        1210.00\n",
       "50%        2970.00\n",
       "75%        8245.00\n",
       "max     1294500.00\n",
       "Name: revenue, dtype: float64"
      ]
     },
     "execution_count": 34,
     "metadata": {},
     "output_type": "execute_result"
    }
   ],
   "source": [
    "# Создадим датафрейм, в котором будет лишь информация о заказе и количество созданых им заказов\n",
    "revenue_by_orders = orders.groupby('transactionid', as_index=False).agg({'revenue':'sum'})\n",
    "revenue_by_orders['revenue'].describe().T"
   ]
  },
  {
   "cell_type": "markdown",
   "metadata": {},
   "source": [
    "Посмотрим на распределение стоимостей заказов на гистограмме"
   ]
  },
  {
   "cell_type": "code",
   "execution_count": 35,
   "metadata": {},
   "outputs": [
    {
     "data": {
      "image/png": "[encoded data removed]",
      "text/plain": [
       "<Figure size 720x288 with 1 Axes>"
      ]
     },
     "metadata": {},
     "output_type": "display_data"
    }
   ],
   "source": [
    "plt.figure(figsize=(10,4))\n",
    "plt.hist(revenue_by_orders['revenue'], bins=30, range=(0, 100000))\n",
    "plt.title('Distribution of revenues')\n",
    "plt.xlabel('revenue')\n",
    "plt.ylabel('frequency')\n",
    "plt.show()"
   ]
  },
  {
   "cell_type": "markdown",
   "metadata": {},
   "source": [
    "Явно видно, что наиболее частые заказы около 1000-1500р., но есть и дорогущие около 1.2 млн. Проверим как стоимости заказов распределились на точечной диагремме"
   ]
  },
  {
   "cell_type": "code",
   "execution_count": 36,
   "metadata": {},
   "outputs": [
    {
     "data": {
      "image/png": "[encoded data removed]",
      "text/plain": [
       "<Figure size 360x360 with 1 Axes>"
      ]
     },
     "metadata": {},
     "output_type": "display_data"
    }
   ],
   "source": [
    "# Присвоим порядковый номер каждому из заказов\n",
    "n_orders = pd.Series(range(0,revenue_by_orders.shape[0]))\n",
    "plt.figure(figsize=(5,5))\n",
    "plt.scatter(n_orders, revenue_by_orders['revenue'])\n",
    "plt.title('Revenue by orders')\n",
    "plt.xlabel('order')\n",
    "plt.ylabel('revenue')\n",
    "plt.show()"
   ]
  },
  {
   "cell_type": "markdown",
   "metadata": {},
   "source": [
    "Выводы согласуются с предыдущими. \n",
    "* В основном заказывают на пару тысяч р. \n",
    "* Несколько заказов на 100-200 тысяч р.\n",
    "* Один на 200 тысяч р. или около того\n",
    "* И один на 1.2 млн р. (скорее всего тот самый заказ, который вывел группу B сильно вперед в начале  проекта)"
   ]
  },
  {
   "cell_type": "markdown",
   "metadata": {},
   "source": [
    "### 3.09. 95-й и 99-й перцентили стоимости заказов.\n",
    "[к оглавлению](#step_0)\n",
    "<a class=\"anchor\" id=\"step_3.09\"></a>"
   ]
  },
  {
   "cell_type": "code",
   "execution_count": 37,
   "metadata": {},
   "outputs": [
    {
     "name": "stdout",
     "output_type": "stream",
     "text": [
      "Как видим не более 1% заказов стоят дороже 55936р.,и не более 5% заказов дороже 27460р.\n"
     ]
    }
   ],
   "source": [
    "orders_value_pp = np.percentile(revenue_by_orders['revenue'], [95, 99])\n",
    "print(f'Как видим не более 1% заказов стоят дороже {orders_value_pp[1]:.0f}р.,\\\n",
    "и не более 5% заказов дороже {orders_value_pp[0]:.0f}р.')"
   ]
  },
  {
   "cell_type": "markdown",
   "metadata": {},
   "source": [
    "Далее отбросим всех клиентвов совершивших заказы дороже 55936р."
   ]
  },
  {
   "cell_type": "markdown",
   "metadata": {},
   "source": [
    "### 3.10. Рассчет статистической значимости различий в конверсии между группами по «сырым» данным  \n",
    "[к оглавлению](#step_0)\n",
    "<a class=\"anchor\" id=\"step_3.10\"></a>"
   ]
  },
  {
   "cell_type": "markdown",
   "metadata": {},
   "source": [
    "Сформируем гипотезы:\n",
    "______________\n",
    "**H0** разницы в конверсиях между двумя группами нет  \n",
    "**H1** разница в конверсиях есть"
   ]
  },
  {
   "cell_type": "markdown",
   "metadata": {},
   "source": [
    "Для проверки гипотезы что конверсии групп A и B не отличаются создадим два массива. Длина кажого из массивов равна числу посещений в каждой из групп. Если посещение завершилось заказом, добавим соответствующее число заказов, несли нет, то **НОЛЬ**"
   ]
  },
  {
   "cell_type": "code",
   "execution_count": 38,
   "metadata": {},
   "outputs": [],
   "source": [
    "\"\"\"Создадим две таблицы для групп A и B, где будут id посетителей и сколько каждый сделал заказов\n",
    "соответсвенно длиной таблицы будет количество результативных визитов\n",
    "\"\"\"\n",
    "ordersByUsersA = orders.query('group == \"A\"').groupby(\n",
    "    'visitorid', as_index=False).agg({'transactionid' : pd.Series.nunique})\n",
    "ordersByUsersA.columns = ['userId', 'orders']\n",
    "\n",
    "ordersByUsersB = orders.query('group == \"B\"').groupby(\n",
    "    'visitorid', as_index=False).agg({'transactionid' : pd.Series.nunique})\n",
    "ordersByUsersB.columns = ['userId', 'orders'] "
   ]
  },
  {
   "cell_type": "code",
   "execution_count": 39,
   "metadata": {},
   "outputs": [],
   "source": [
    "\"\"\"Если из количества всех визитов отнять длину предыдущей таблицы, \n",
    "получим количество нерезультативных визитов, \n",
    "создадим серию из этого количества нулей.\n",
    "Далее соединим серию из нулей и серию из результативных визитов,\n",
    "это и будет массив передаваемый в тест Манна-Уитни.\n",
    "Проделаем эту процедуру для двух групп.\n",
    "\"\"\"\n",
    "sampleA = pd.concat(\n",
    "    [ordersByUsersA['orders'], pd.Series(\n",
    "        0, index=np.arange(cumulative_data_horizont['visitorsA'].iloc[-1] - \\\n",
    "                           len(ordersByUsersA['orders'])), name='orders')])\n",
    "\n",
    "sampleB = pd.concat(\n",
    "    [ordersByUsersB['orders'], pd.Series(\n",
    "        0, index=np.arange(cumulative_data_horizont['visitorsB'].iloc[-1] - \\\n",
    "                           len(ordersByUsersB['orders'])), name='orders')])"
   ]
  },
  {
   "cell_type": "code",
   "execution_count": 40,
   "metadata": {},
   "outputs": [],
   "source": [
    "alpha = .05"
   ]
  },
  {
   "cell_type": "code",
   "execution_count": 41,
   "metadata": {},
   "outputs": [
    {
     "name": "stdout",
     "output_type": "stream",
     "text": [
      "p-значение: 0.007\n",
      "\n",
      "Отвергаем нулевую гипотезу: разница статистически значима\n",
      "\n",
      "Относительный +выигрыш/-проигрыш по конверсии группы B против группы A 14.798%\n"
     ]
    }
   ],
   "source": [
    "cr_raw = st.mannwhitneyu(sampleA, sampleB)\n",
    "print('p-значение: {0:.3f}'.format(cr_raw.pvalue))\n",
    "print()\n",
    "if (cr_raw.pvalue < alpha):\n",
    "    print(\"Отвергаем нулевую гипотезу: разница статистически значима\")\n",
    "else:\n",
    "    print(\"Не получилось отвергнуть нулевую гипотезу, вывод о различии сделать нельзя\")\n",
    "print()\n",
    "print(\"Относительный +выигрыш/-проигрыш по конверсии группы B против группы A {0:.3%}\".format(sampleB.mean()/sampleA.mean()-1)) "
   ]
  },
  {
   "cell_type": "markdown",
   "metadata": {},
   "source": [
    "По конверсиям эффект от эксперимента явно есть [обратно](#step_10)\n",
    "<a class=\"anchor\" id=\"step_6\"></a>"
   ]
  },
  {
   "cell_type": "markdown",
   "metadata": {},
   "source": [
    "### 3.11. Рассчет статистической значимости различий в среднем чеке заказа между группами по «сырым» данным  \n",
    "[к оглавлению](#step_0)\n",
    "<a class=\"anchor\" id=\"step_3.11\"></a>"
   ]
  },
  {
   "cell_type": "markdown",
   "metadata": {},
   "source": [
    "Сформируем гипотезы:\n",
    "______________\n",
    "**H0** разницы в среднем чеке между двумя группами нет  \n",
    "**H1** разница в среднем чеке есть"
   ]
  },
  {
   "cell_type": "code",
   "execution_count": 42,
   "metadata": {},
   "outputs": [
    {
     "name": "stdout",
     "output_type": "stream",
     "text": [
      "p-значение: 0.339\n",
      "\n",
      "Не получилось отвергнуть нулевую гипотезу, вывод о различии сделать нельзя\n",
      "\n",
      "Относительный +выигрыш/-проигрыш по среднему чеку группы B против группы A  30.338%\n"
     ]
    }
   ],
   "source": [
    "aov_raw = st.mannwhitneyu(orders.query('group == \"A\"')['revenue'], \n",
    "                          orders.query('group == \"B\"')['revenue'])\n",
    "print('p-значение: {0:.3f}'.format(aov_raw.pvalue))\n",
    "print()\n",
    "if (aov_raw.pvalue < alpha):\n",
    "    print(\"Отвергаем нулевую гипотезу: разница статистически значима\")\n",
    "else:\n",
    "    print(\"Не получилось отвергнуть нулевую гипотезу, вывод о различии сделать нельзя\")\n",
    "print()\n",
    "print(\"Относительный +выигрыш/-проигрыш по среднему чеку группы B против группы A  {0:.3%}\".format(\n",
    "    orders.query('group == \"B\"')['revenue'].mean()/orders.query('group == \"A\"')['revenue'].mean()-1))"
   ]
  },
  {
   "cell_type": "markdown",
   "metadata": {},
   "source": [
    "По среднему чеку вероятность в 34% случайно получить такие различия - довольно высокая. Но такой большой относительный выигыш... Не связанли ли он с чеком в 12000000р? [обратно](#step_10)\n",
    "<a class=\"anchor\" id=\"step_9\"></a>"
   ]
  },
  {
   "cell_type": "markdown",
   "metadata": {},
   "source": [
    "### 3.12. Рассчет статистической значимости различий в конверсии между группами по «очищенным» данным  \n",
    "[к оглавлению](#step_0)\n",
    "<a class=\"anchor\" id=\"step_3.12\"></a>"
   ]
  },
  {
   "cell_type": "markdown",
   "metadata": {},
   "source": [
    "Сформируем гипотезы: \n",
    "___________  \n",
    "После удаления клиентов совершивших аномально высокое количество заказов  \n",
    "\n",
    "**H0** разницы в конверсиях между двумя группами нет   \n",
    "**H1** разница в конверсиях есть"
   ]
  },
  {
   "cell_type": "code",
   "execution_count": 43,
   "metadata": {},
   "outputs": [],
   "source": [
    "q_id = 0"
   ]
  },
  {
   "cell_type": "code",
   "execution_count": 44,
   "metadata": {},
   "outputs": [
    {
     "name": "stdout",
     "output_type": "stream",
     "text": [
      "568     113298937\n",
      "1099    148427295\n",
      "17      199603092\n",
      "928     204675465\n",
      "21      237748145\n",
      "dtype: int64\n",
      "(72,)\n"
     ]
    }
   ],
   "source": [
    "usersWithManyOrders = pd.concat(\n",
    "    [ordersByUsersA.query('orders > @orders_pp[@q_id]')['userId'], \n",
    "     ordersByUsersB.query('orders > @orders_pp[@q_id]')['userId']], axis = 0)\n",
    "usersWithExpensiveOrders = orders.query('revenue > @orders_value_pp[@q_id]')['visitorid']\n",
    "abnormalUsers = pd.concat([usersWithManyOrders, \n",
    "                           usersWithExpensiveOrders], axis = 0).drop_duplicates().sort_values()\n",
    "print(abnormalUsers.head(5))\n",
    "print(abnormalUsers.shape)"
   ]
  },
  {
   "cell_type": "code",
   "execution_count": 45,
   "metadata": {},
   "outputs": [],
   "source": [
    "sampleAFiltered = pd.concat(\n",
    "    [ordersByUsersA[np.logical_not(ordersByUsersA['userId'].isin(abnormalUsers))]['orders'],\\\n",
    "     pd.Series(0, index=np.arange(\n",
    "        cumulative_data_horizont['visitorsA'].iloc[-1] - len(ordersByUsersA['orders'])),name='orders')],axis=0)\n",
    "\n",
    "sampleBFiltered = pd.concat(\n",
    "    [ordersByUsersB[np.logical_not(ordersByUsersB['userId'].isin(abnormalUsers))]['orders'],\\\n",
    "     pd.Series(0, index=np.arange(\n",
    "        cumulative_data_horizont['visitorsB'].iloc[-1] - len(ordersByUsersB['orders'])),name='orders')],axis=0) "
   ]
  },
  {
   "cell_type": "code",
   "execution_count": 46,
   "metadata": {},
   "outputs": [
    {
     "name": "stdout",
     "output_type": "stream",
     "text": [
      "p-значение: 0.007\n",
      "\n",
      "Отвергаем нулевую гипотезу: разница статистически значима\n",
      "\n",
      "Относительный +выигрыш/-проигрыш по конверсии группы B против группы A  17.852%\n"
     ]
    }
   ],
   "source": [
    "cr_filtered = st.mannwhitneyu(\n",
    "    sampleAFiltered, \n",
    "    sampleBFiltered)\n",
    "print('p-значение: {0:.3f}'.format(cr_filtered.pvalue))\n",
    "print()\n",
    "if (cr_filtered.pvalue < alpha):\n",
    "    print(\"Отвергаем нулевую гипотезу: разница статистически значима\")\n",
    "else:\n",
    "    print(\"Не получилось отвергнуть нулевую гипотезу, вывод о различии сделать нельзя\")\n",
    "print()\n",
    "print(\"Относительный +выигрыш/-проигрыш по конверсии группы B против группы A  {0:.3%}\".format(\n",
    "    sampleBFiltered.mean()/\\\n",
    "    sampleAFiltered.mean()-1)) "
   ]
  },
  {
   "cell_type": "markdown",
   "metadata": {},
   "source": [
    "<a class=\"anchor\" id=\"step_7\"></a> [обратно](#step_10)"
   ]
  },
  {
   "cell_type": "markdown",
   "metadata": {},
   "source": [
    "### 3.13. Рассчет статистической значимости различий в среднем чеке заказа между группами по «очищенным» данным  \n",
    "[к оглавлению](#step_0)\n",
    "<a class=\"anchor\" id=\"step_3.13\"></a>"
   ]
  },
  {
   "cell_type": "markdown",
   "metadata": {},
   "source": [
    "Сформируем гипотезы:\n",
    "______________\n",
    "После удаления клиентов со сверхдорогими заказами\n",
    "\n",
    "**H0** разницы в среднем чеке между двумя группами нет  \n",
    "**H1** разница в среднем чеке есть"
   ]
  },
  {
   "cell_type": "code",
   "execution_count": 47,
   "metadata": {},
   "outputs": [
    {
     "name": "stdout",
     "output_type": "stream",
     "text": [
      "p-значение: 0.316\n",
      "\n",
      "Не получилось отвергнуть нулевую гипотезу, вывод о различии сделать нельзя\n",
      "\n",
      "Относительный +выигрыш/-проигрыш по среднему чеку группы B против группы A  4.699%\n"
     ]
    }
   ],
   "source": [
    "aov_filtered = st.mannwhitneyu(\n",
    "    orders.query('group == \"A\" and visitorid not in @abnormalUsers')['revenue'], \n",
    "    orders.query('group == \"B\" and visitorid not in @abnormalUsers')['revenue'])\n",
    "print('p-значение: {0:.3f}'.format(aov_filtered.pvalue))\n",
    "print()\n",
    "if (aov_filtered.pvalue < alpha):\n",
    "    print(\"Отвергаем нулевую гипотезу: разница статистически значима\")\n",
    "else:\n",
    "    print(\"Не получилось отвергнуть нулевую гипотезу, вывод о различии сделать нельзя\")\n",
    "print()\n",
    "print(\"Относительный +выигрыш/-проигрыш по среднему чеку группы B против группы A  {0:.3%}\".format(\n",
    "    orders.query('group == \"A\" and visitorid not in @abnormalUsers')['revenue'].mean()/\\\n",
    "    orders.query('group == \"B\" and visitorid not in @abnormalUsers')['revenue'].mean()-1))"
   ]
  },
  {
   "cell_type": "markdown",
   "metadata": {},
   "source": [
    "### 3.14. Решение по результатам теста.\n",
    "[к оглавлению](#step_0)\n",
    "<a class=\"anchor\" id=\"step_3.14\"></a>"
   ]
  },
  {
   "cell_type": "markdown",
   "metadata": {},
   "source": [
    "### В результате теста:   \n",
    "<a class=\"anchor\" id=\"step_10\"></a>\n",
    "* Обнаружилось статистически значимое различие по конверсии между группами как по сырым данным, так и после фильтрации аномалий.\n",
    "* Cтатистически значимого различия по среднему чеку между группами нет. Не обнаружилось оно и после удаления аномалийзначений.\n",
    "* Согласно [графику](#step_5) конверсия группы B лучше чем группы A зафиксировались на уровне [13%](#step_6)\n",
    "* После очистки данных от выбросов конверсия группы B улучшилась и зафиксировались на уровне [17%](#step_7)\n",
    "* [График](#step_8) различия среднего чека колеблется: очень сильно повлиял выбров в 1200000р. На данных этого графика определённые выводы нельзя.\n",
    "* Согласно статистическому анализу по сырым данных гипотезу об отсутсвии изменений в среденм чеке отклонить не удалось. Причем относительный выигрыш группы B против группы A составил [25%](#step_9)\n",
    "* После удаления выбросов относительный выигрыш по чеку приобрел адекватные 4%\n",
    "___________\n",
    "**В результате изложенного, тест можно признать удавшимся и состоявшимся**  \n",
    "Клиенты стали покупать чаще - выручка растет, но тратят столько же. Самое время поэкспериментировать как бы заставить клиента больше платить, не снижая количество заказов"
   ]
  }
 ],
 "metadata": {
  "kernelspec": {
   "display_name": "Python 3",
   "language": "python",
   "name": "python3"
  },
  "language_info": {
   "codemirror_mode": {
    "name": "ipython",
    "version": 3
   },
   "file_extension": ".py",
   "mimetype": "text/x-python",
   "name": "python",
   "nbconvert_exporter": "python",
   "pygments_lexer": "ipython3",
   "version": "3.8.8"
  }
 },
 "nbformat": 4,
 "nbformat_minor": 4
}
