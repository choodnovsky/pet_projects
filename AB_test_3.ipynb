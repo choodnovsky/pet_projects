{
 "cells": [
  {
   "cell_type": "markdown",
   "metadata": {},
   "source": [
    "# Задача"
   ]
  },
  {
   "cell_type": "markdown",
   "metadata": {},
   "source": [
    "Для интернет-магазина, работающего, в основном, с аудиторией в Европе. Необходимо измерить эффективность новой onboarding-воронки.\n",
    "Представьте, что на календаре 1-е ноября 2020 года."
   ]
  },
  {
   "cell_type": "code",
   "execution_count": 1,
   "metadata": {},
   "outputs": [],
   "source": [
    "import pandas as pd\n",
    "import numpy as np\n",
    "from IPython.core.display import display\n",
    "from matplotlib import pyplot as plt\n",
    "\n",
    "import math\n",
    "from scipy import stats\n",
    "\n",
    "from datetime import datetime, timedelta\n",
    "\n",
    "from statsmodels.stats.proportion import proportions_ztest\n",
    "plt.style.use('fivethirtyeight')\n",
    "plt.rcParams['figure.figsize']=(16,5) # Зададим размер графиков по умолчанию\n",
    "\n",
    "import warnings # отключим предупреждения анаконды\n",
    "warnings.filterwarnings('ignore')\n",
    "\n",
    "\n",
    "pd.set_option('max_columns', None) # Зададим вывод всех столбцов таблиц\n",
    "pd.options.display.float_format = '{:.4f}'.format # Зададим удобный формат отображения вещественных чисел"
   ]
  },
  {
   "cell_type": "markdown",
   "metadata": {},
   "source": [
    "# 1. Подготовка к проведению теста"
   ]
  },
  {
   "cell_type": "markdown",
   "metadata": {},
   "source": [
    "Мы еще раз все обсудили менеджерами и решили, что тест должен проводиться по вот такому сценарию:\n",
    "- Тест должен затрагивать только 20% новых юзеров в вашем основном регионе (EU);\n",
    "- Метрики теста:\n",
    "    - Конверсия в покупку, ожидается, что она повысится минимум на 25%;\n",
    "    - Средняя длительность сессии в минутах, ожидается, что она вырастет на 15%.\n",
    "- Тест должен быть запущен не раньше 1 декабря 2020 года - отдел разработки не успевает все закончить раньше;\n",
    "- Название теста `new_interface_test`;\n",
    "- В тесте должны быть две группа:\n",
    "    - `А` - контрольная, нет изменений; \n",
    "    - `B` - тестовая, с новой платежной воронкой. "
   ]
  },
  {
   "cell_type": "code",
   "execution_count": 2,
   "metadata": {},
   "outputs": [],
   "source": [
    "# Универсальная функция если понадобится получить имя датафрейма или серии\n",
    "def get_name(obj):\n",
    "    name =[x for x in globals() if globals()[x] is obj][0]\n",
    "    return name"
   ]
  },
  {
   "cell_type": "code",
   "execution_count": 4,
   "metadata": {},
   "outputs": [],
   "source": [
    "new_users = pd.read_csv('/Users/victorchudnovskiy/Documents/raw_csv/cons_users_history.csv')\n",
    "sessions = pd.read_csv('/Users/victorchudnovskiy/Documents/raw_csv/cons_sessions_history.csv')\n",
    "purchases = pd.read_csv('/Users/victorchudnovskiy/Documents/raw_csv/cons_purchases_history.csv')"
   ]
  },
  {
   "cell_type": "code",
   "execution_count": 5,
   "metadata": {},
   "outputs": [],
   "source": [
    "df_list = [new_users, sessions, purchases]"
   ]
  },
  {
   "cell_type": "code",
   "execution_count": 6,
   "metadata": {},
   "outputs": [
    {
     "data": {
      "text/html": [
       "<div>\n",
       "<style scoped>\n",
       "    .dataframe tbody tr th:only-of-type {\n",
       "        vertical-align: middle;\n",
       "    }\n",
       "\n",
       "    .dataframe tbody tr th {\n",
       "        vertical-align: top;\n",
       "    }\n",
       "\n",
       "    .dataframe thead th {\n",
       "        text-align: right;\n",
       "    }\n",
       "</style>\n",
       "<table border=\"1\" class=\"dataframe\">\n",
       "  <thead>\n",
       "    <tr style=\"text-align: right;\">\n",
       "      <th></th>\n",
       "      <th>user_id</th>\n",
       "      <th>session_start</th>\n",
       "      <th>session_duration</th>\n",
       "    </tr>\n",
       "  </thead>\n",
       "  <tbody>\n",
       "    <tr>\n",
       "      <th>0</th>\n",
       "      <td>72AC8300FD24B022</td>\n",
       "      <td>2020-09-01 00:29:54</td>\n",
       "      <td>1.8872</td>\n",
       "    </tr>\n",
       "    <tr>\n",
       "      <th>1</th>\n",
       "      <td>557FDAFEDC0F995C</td>\n",
       "      <td>2020-09-01 00:23:48</td>\n",
       "      <td>1.9695</td>\n",
       "    </tr>\n",
       "    <tr>\n",
       "      <th>2</th>\n",
       "      <td>BE0816B88B7650F2</td>\n",
       "      <td>2020-09-01 11:30:05</td>\n",
       "      <td>2.7055</td>\n",
       "    </tr>\n",
       "    <tr>\n",
       "      <th>3</th>\n",
       "      <td>806173CEAC3A1859</td>\n",
       "      <td>2020-09-01 20:15:17</td>\n",
       "      <td>6.1645</td>\n",
       "    </tr>\n",
       "    <tr>\n",
       "      <th>4</th>\n",
       "      <td>EDB219D52C071EC8</td>\n",
       "      <td>2020-09-01 21:26:30</td>\n",
       "      <td>5.7164</td>\n",
       "    </tr>\n",
       "  </tbody>\n",
       "</table>\n",
       "</div>"
      ],
      "text/plain": [
       "            user_id        session_start  session_duration\n",
       "0  72AC8300FD24B022  2020-09-01 00:29:54            1.8872\n",
       "1  557FDAFEDC0F995C  2020-09-01 00:23:48            1.9695\n",
       "2  BE0816B88B7650F2  2020-09-01 11:30:05            2.7055\n",
       "3  806173CEAC3A1859  2020-09-01 20:15:17            6.1645\n",
       "4  EDB219D52C071EC8  2020-09-01 21:26:30            5.7164"
      ]
     },
     "metadata": {},
     "output_type": "display_data"
    },
    {
     "name": "stdout",
     "output_type": "stream",
     "text": [
      "<class 'pandas.core.frame.DataFrame'>\n",
      "RangeIndex: 144641 entries, 0 to 144640\n",
      "Data columns (total 4 columns):\n",
      " #   Column      Non-Null Count   Dtype \n",
      "---  ------      --------------   ----- \n",
      " 0   user_id     144641 non-null  object\n",
      " 1   first_date  144641 non-null  object\n",
      " 2   region      144641 non-null  object\n",
      " 3   device      144641 non-null  object\n",
      "dtypes: object(4)\n",
      "memory usage: 4.4+ MB\n",
      "None\n",
      "------------------------------------------------------------\n"
     ]
    },
    {
     "data": {
      "text/html": [
       "<div>\n",
       "<style scoped>\n",
       "    .dataframe tbody tr th:only-of-type {\n",
       "        vertical-align: middle;\n",
       "    }\n",
       "\n",
       "    .dataframe tbody tr th {\n",
       "        vertical-align: top;\n",
       "    }\n",
       "\n",
       "    .dataframe thead th {\n",
       "        text-align: right;\n",
       "    }\n",
       "</style>\n",
       "<table border=\"1\" class=\"dataframe\">\n",
       "  <thead>\n",
       "    <tr style=\"text-align: right;\">\n",
       "      <th></th>\n",
       "      <th>user_id</th>\n",
       "      <th>session_start</th>\n",
       "      <th>session_duration</th>\n",
       "    </tr>\n",
       "  </thead>\n",
       "  <tbody>\n",
       "    <tr>\n",
       "      <th>0</th>\n",
       "      <td>72AC8300FD24B022</td>\n",
       "      <td>2020-09-01 00:29:54</td>\n",
       "      <td>1.8872</td>\n",
       "    </tr>\n",
       "    <tr>\n",
       "      <th>1</th>\n",
       "      <td>557FDAFEDC0F995C</td>\n",
       "      <td>2020-09-01 00:23:48</td>\n",
       "      <td>1.9695</td>\n",
       "    </tr>\n",
       "    <tr>\n",
       "      <th>2</th>\n",
       "      <td>BE0816B88B7650F2</td>\n",
       "      <td>2020-09-01 11:30:05</td>\n",
       "      <td>2.7055</td>\n",
       "    </tr>\n",
       "    <tr>\n",
       "      <th>3</th>\n",
       "      <td>806173CEAC3A1859</td>\n",
       "      <td>2020-09-01 20:15:17</td>\n",
       "      <td>6.1645</td>\n",
       "    </tr>\n",
       "    <tr>\n",
       "      <th>4</th>\n",
       "      <td>EDB219D52C071EC8</td>\n",
       "      <td>2020-09-01 21:26:30</td>\n",
       "      <td>5.7164</td>\n",
       "    </tr>\n",
       "  </tbody>\n",
       "</table>\n",
       "</div>"
      ],
      "text/plain": [
       "            user_id        session_start  session_duration\n",
       "0  72AC8300FD24B022  2020-09-01 00:29:54            1.8872\n",
       "1  557FDAFEDC0F995C  2020-09-01 00:23:48            1.9695\n",
       "2  BE0816B88B7650F2  2020-09-01 11:30:05            2.7055\n",
       "3  806173CEAC3A1859  2020-09-01 20:15:17            6.1645\n",
       "4  EDB219D52C071EC8  2020-09-01 21:26:30            5.7164"
      ]
     },
     "metadata": {},
     "output_type": "display_data"
    },
    {
     "name": "stdout",
     "output_type": "stream",
     "text": [
      "<class 'pandas.core.frame.DataFrame'>\n",
      "RangeIndex: 663863 entries, 0 to 663862\n",
      "Data columns (total 3 columns):\n",
      " #   Column            Non-Null Count   Dtype  \n",
      "---  ------            --------------   -----  \n",
      " 0   user_id           663863 non-null  object \n",
      " 1   session_start     663863 non-null  object \n",
      " 2   session_duration  663863 non-null  float64\n",
      "dtypes: float64(1), object(2)\n",
      "memory usage: 15.2+ MB\n",
      "None\n",
      "------------------------------------------------------------\n"
     ]
    },
    {
     "data": {
      "text/html": [
       "<div>\n",
       "<style scoped>\n",
       "    .dataframe tbody tr th:only-of-type {\n",
       "        vertical-align: middle;\n",
       "    }\n",
       "\n",
       "    .dataframe tbody tr th {\n",
       "        vertical-align: top;\n",
       "    }\n",
       "\n",
       "    .dataframe thead th {\n",
       "        text-align: right;\n",
       "    }\n",
       "</style>\n",
       "<table border=\"1\" class=\"dataframe\">\n",
       "  <thead>\n",
       "    <tr style=\"text-align: right;\">\n",
       "      <th></th>\n",
       "      <th>user_id</th>\n",
       "      <th>session_start</th>\n",
       "      <th>session_duration</th>\n",
       "    </tr>\n",
       "  </thead>\n",
       "  <tbody>\n",
       "    <tr>\n",
       "      <th>0</th>\n",
       "      <td>72AC8300FD24B022</td>\n",
       "      <td>2020-09-01 00:29:54</td>\n",
       "      <td>1.8872</td>\n",
       "    </tr>\n",
       "    <tr>\n",
       "      <th>1</th>\n",
       "      <td>557FDAFEDC0F995C</td>\n",
       "      <td>2020-09-01 00:23:48</td>\n",
       "      <td>1.9695</td>\n",
       "    </tr>\n",
       "    <tr>\n",
       "      <th>2</th>\n",
       "      <td>BE0816B88B7650F2</td>\n",
       "      <td>2020-09-01 11:30:05</td>\n",
       "      <td>2.7055</td>\n",
       "    </tr>\n",
       "    <tr>\n",
       "      <th>3</th>\n",
       "      <td>806173CEAC3A1859</td>\n",
       "      <td>2020-09-01 20:15:17</td>\n",
       "      <td>6.1645</td>\n",
       "    </tr>\n",
       "    <tr>\n",
       "      <th>4</th>\n",
       "      <td>EDB219D52C071EC8</td>\n",
       "      <td>2020-09-01 21:26:30</td>\n",
       "      <td>5.7164</td>\n",
       "    </tr>\n",
       "  </tbody>\n",
       "</table>\n",
       "</div>"
      ],
      "text/plain": [
       "            user_id        session_start  session_duration\n",
       "0  72AC8300FD24B022  2020-09-01 00:29:54            1.8872\n",
       "1  557FDAFEDC0F995C  2020-09-01 00:23:48            1.9695\n",
       "2  BE0816B88B7650F2  2020-09-01 11:30:05            2.7055\n",
       "3  806173CEAC3A1859  2020-09-01 20:15:17            6.1645\n",
       "4  EDB219D52C071EC8  2020-09-01 21:26:30            5.7164"
      ]
     },
     "metadata": {},
     "output_type": "display_data"
    },
    {
     "name": "stdout",
     "output_type": "stream",
     "text": [
      "<class 'pandas.core.frame.DataFrame'>\n",
      "RangeIndex: 223216 entries, 0 to 223215\n",
      "Data columns (total 3 columns):\n",
      " #   Column    Non-Null Count   Dtype  \n",
      "---  ------    --------------   -----  \n",
      " 0   user_id   223216 non-null  object \n",
      " 1   event_dt  223216 non-null  object \n",
      " 2   revenue   223216 non-null  float64\n",
      "dtypes: float64(1), object(2)\n",
      "memory usage: 5.1+ MB\n",
      "None\n",
      "------------------------------------------------------------\n"
     ]
    }
   ],
   "source": [
    "for df in df_list:\n",
    "    display(sessions.head(5))\n",
    "    print(df.info())\n",
    "    print('-'*60)"
   ]
  },
  {
   "cell_type": "markdown",
   "metadata": {},
   "source": [
    "Выводы:\n",
    "- пропусков нет;\n",
    "- даты имеет смысл привести к datetime."
   ]
  },
  {
   "cell_type": "code",
   "execution_count": 7,
   "metadata": {},
   "outputs": [],
   "source": [
    "for df in df_list:\n",
    "    for col in df.columns:\n",
    "        if 'date' in col or 'start' in col or 'dt' in col:\n",
    "            df[col] = pd.to_datetime(df[col])"
   ]
  },
  {
   "cell_type": "markdown",
   "metadata": {},
   "source": [
    "Отбираем только новых пользователей и только из нужного региона. Плюс из календаря маркетинга отбираем только активности для нужного региона."
   ]
  },
  {
   "cell_type": "code",
   "execution_count": 8,
   "metadata": {},
   "outputs": [],
   "source": [
    "new_users_eu = new_users.query('region == \"EU\"')\n",
    "sessions_eu = sessions.query('user_id in  @new_users_eu.user_id')\n",
    "purchases_eu = purchases.query('user_id in @new_users_eu.user_id')"
   ]
  },
  {
   "cell_type": "markdown",
   "metadata": {},
   "source": [
    "## 2.1 Определение длительности теста\n",
    "- Составляем список метрик и для каждой метрики задайте практическую значимость;\n",
    "- Задаем уровень статистической значимости и требуемую мощность;\n",
    "- Проводим коррекцию уровня значимости в соотвествии с количеством метрик;\n",
    "- Расчитывыем необходимую длительность теста для кажой из метрик, выберите общую длительность теста."
   ]
  },
  {
   "cell_type": "code",
   "execution_count": 9,
   "metadata": {},
   "outputs": [],
   "source": [
    "metrics = pd.DataFrame([['cr', None, None, 0.25, None, None, None],\n",
    "                       ['session_duration', None, None, 0.15, None, None, None]],\n",
    "                       columns=['metrica', 'mean', 'std', 'relative_importance', 'observations', 'observations_per_day', 'duration_test']).set_index('metrica')"
   ]
  },
  {
   "cell_type": "code",
   "execution_count": 10,
   "metadata": {},
   "outputs": [
    {
     "data": {
      "text/html": [
       "<div>\n",
       "<style scoped>\n",
       "    .dataframe tbody tr th:only-of-type {\n",
       "        vertical-align: middle;\n",
       "    }\n",
       "\n",
       "    .dataframe tbody tr th {\n",
       "        vertical-align: top;\n",
       "    }\n",
       "\n",
       "    .dataframe thead th {\n",
       "        text-align: right;\n",
       "    }\n",
       "</style>\n",
       "<table border=\"1\" class=\"dataframe\">\n",
       "  <thead>\n",
       "    <tr style=\"text-align: right;\">\n",
       "      <th></th>\n",
       "      <th>mean</th>\n",
       "      <th>std</th>\n",
       "      <th>relative_importance</th>\n",
       "      <th>observations</th>\n",
       "      <th>observations_per_day</th>\n",
       "      <th>duration_test</th>\n",
       "    </tr>\n",
       "    <tr>\n",
       "      <th>metrica</th>\n",
       "      <th></th>\n",
       "      <th></th>\n",
       "      <th></th>\n",
       "      <th></th>\n",
       "      <th></th>\n",
       "      <th></th>\n",
       "    </tr>\n",
       "  </thead>\n",
       "  <tbody>\n",
       "    <tr>\n",
       "      <th>cr</th>\n",
       "      <td>None</td>\n",
       "      <td>None</td>\n",
       "      <td>0.2500</td>\n",
       "      <td>None</td>\n",
       "      <td>None</td>\n",
       "      <td>None</td>\n",
       "    </tr>\n",
       "    <tr>\n",
       "      <th>session_duration</th>\n",
       "      <td>None</td>\n",
       "      <td>None</td>\n",
       "      <td>0.1500</td>\n",
       "      <td>None</td>\n",
       "      <td>None</td>\n",
       "      <td>None</td>\n",
       "    </tr>\n",
       "  </tbody>\n",
       "</table>\n",
       "</div>"
      ],
      "text/plain": [
       "                  mean   std  relative_importance observations  \\\n",
       "metrica                                                          \n",
       "cr                None  None               0.2500         None   \n",
       "session_duration  None  None               0.1500         None   \n",
       "\n",
       "                 observations_per_day duration_test  \n",
       "metrica                                              \n",
       "cr                               None          None  \n",
       "session_duration                 None          None  "
      ]
     },
     "execution_count": 10,
     "metadata": {},
     "output_type": "execute_result"
    }
   ],
   "source": [
    "metrics"
   ]
  },
  {
   "cell_type": "markdown",
   "metadata": {},
   "source": [
    "Заполняем средние и СКО по историческим данным:\n",
    "- Конверсия в покупку"
   ]
  },
  {
   "cell_type": "code",
   "execution_count": 11,
   "metadata": {},
   "outputs": [],
   "source": [
    "p = purchases_eu.user_id.nunique() / sessions_eu.user_id.nunique()\n",
    "metrics.loc[metrics.index == 'cr', ['mean', 'std']] = [p, ((p * (1-p))**.5)]"
   ]
  },
  {
   "cell_type": "code",
   "execution_count": 12,
   "metadata": {},
   "outputs": [
    {
     "data": {
      "text/html": [
       "<div>\n",
       "<style scoped>\n",
       "    .dataframe tbody tr th:only-of-type {\n",
       "        vertical-align: middle;\n",
       "    }\n",
       "\n",
       "    .dataframe tbody tr th {\n",
       "        vertical-align: top;\n",
       "    }\n",
       "\n",
       "    .dataframe thead th {\n",
       "        text-align: right;\n",
       "    }\n",
       "</style>\n",
       "<table border=\"1\" class=\"dataframe\">\n",
       "  <thead>\n",
       "    <tr style=\"text-align: right;\">\n",
       "      <th></th>\n",
       "      <th>mean</th>\n",
       "      <th>std</th>\n",
       "      <th>relative_importance</th>\n",
       "      <th>observations</th>\n",
       "      <th>observations_per_day</th>\n",
       "      <th>duration_test</th>\n",
       "    </tr>\n",
       "    <tr>\n",
       "      <th>metrica</th>\n",
       "      <th></th>\n",
       "      <th></th>\n",
       "      <th></th>\n",
       "      <th></th>\n",
       "      <th></th>\n",
       "      <th></th>\n",
       "    </tr>\n",
       "  </thead>\n",
       "  <tbody>\n",
       "    <tr>\n",
       "      <th>cr</th>\n",
       "      <td>0.4600</td>\n",
       "      <td>0.4984</td>\n",
       "      <td>0.2500</td>\n",
       "      <td>None</td>\n",
       "      <td>None</td>\n",
       "      <td>None</td>\n",
       "    </tr>\n",
       "    <tr>\n",
       "      <th>session_duration</th>\n",
       "      <td>None</td>\n",
       "      <td>None</td>\n",
       "      <td>0.1500</td>\n",
       "      <td>None</td>\n",
       "      <td>None</td>\n",
       "      <td>None</td>\n",
       "    </tr>\n",
       "  </tbody>\n",
       "</table>\n",
       "</div>"
      ],
      "text/plain": [
       "                   mean    std  relative_importance observations  \\\n",
       "metrica                                                            \n",
       "cr               0.4600 0.4984               0.2500         None   \n",
       "session_duration   None   None               0.1500         None   \n",
       "\n",
       "                 observations_per_day duration_test  \n",
       "metrica                                              \n",
       "cr                               None          None  \n",
       "session_duration                 None          None  "
      ]
     },
     "execution_count": 12,
     "metadata": {},
     "output_type": "execute_result"
    }
   ],
   "source": [
    "metrics"
   ]
  },
  {
   "cell_type": "markdown",
   "metadata": {},
   "source": [
    "- Средняя длительность сессии"
   ]
  },
  {
   "cell_type": "code",
   "execution_count": 13,
   "metadata": {},
   "outputs": [
    {
     "data": {
      "text/html": [
       "<div>\n",
       "<style scoped>\n",
       "    .dataframe tbody tr th:only-of-type {\n",
       "        vertical-align: middle;\n",
       "    }\n",
       "\n",
       "    .dataframe tbody tr th {\n",
       "        vertical-align: top;\n",
       "    }\n",
       "\n",
       "    .dataframe thead th {\n",
       "        text-align: right;\n",
       "    }\n",
       "</style>\n",
       "<table border=\"1\" class=\"dataframe\">\n",
       "  <thead>\n",
       "    <tr style=\"text-align: right;\">\n",
       "      <th></th>\n",
       "      <th>count</th>\n",
       "      <th>mean</th>\n",
       "      <th>std</th>\n",
       "      <th>min</th>\n",
       "      <th>5%</th>\n",
       "      <th>50%</th>\n",
       "      <th>95%</th>\n",
       "      <th>max</th>\n",
       "    </tr>\n",
       "  </thead>\n",
       "  <tbody>\n",
       "    <tr>\n",
       "      <th>session_duration</th>\n",
       "      <td>280623.0000</td>\n",
       "      <td>5.0051</td>\n",
       "      <td>5.0134</td>\n",
       "      <td>0.0000</td>\n",
       "      <td>0.2581</td>\n",
       "      <td>3.4725</td>\n",
       "      <td>15.0086</td>\n",
       "      <td>86.0713</td>\n",
       "    </tr>\n",
       "  </tbody>\n",
       "</table>\n",
       "</div>"
      ],
      "text/plain": [
       "                       count   mean    std    min     5%    50%     95%  \\\n",
       "session_duration 280623.0000 5.0051 5.0134 0.0000 0.2581 3.4725 15.0086   \n",
       "\n",
       "                     max  \n",
       "session_duration 86.0713  "
      ]
     },
     "metadata": {},
     "output_type": "display_data"
    },
    {
     "data": {
      "image/png": "[encoded data removed]",
      "text/plain": [
       "<Figure size 1152x360 with 2 Axes>"
      ]
     },
     "metadata": {},
     "output_type": "display_data"
    }
   ],
   "source": [
    "report = sessions_eu.copy()\n",
    "display(report.describe(percentiles=[.05, .5, .95]).T)\n",
    "\n",
    "plt.subplots()\n",
    "report.hist(ax = plt.subplot(1,2,1))\n",
    "report.boxplot(ax = plt.subplot(1,2,2))\n",
    "plt.show()"
   ]
  },
  {
   "cell_type": "markdown",
   "metadata": {},
   "source": [
    "Выбросы есть, почистим их, а потом почситаем среднее и СКО:"
   ]
  },
  {
   "cell_type": "code",
   "execution_count": 14,
   "metadata": {},
   "outputs": [],
   "source": [
    "p95 = report.describe(percentiles=[.05, .5, .95]).T['95%']['session_duration']"
   ]
  },
  {
   "cell_type": "code",
   "execution_count": 15,
   "metadata": {},
   "outputs": [
    {
     "data": {
      "text/html": [
       "<div>\n",
       "<style scoped>\n",
       "    .dataframe tbody tr th:only-of-type {\n",
       "        vertical-align: middle;\n",
       "    }\n",
       "\n",
       "    .dataframe tbody tr th {\n",
       "        vertical-align: top;\n",
       "    }\n",
       "\n",
       "    .dataframe thead th {\n",
       "        text-align: right;\n",
       "    }\n",
       "</style>\n",
       "<table border=\"1\" class=\"dataframe\">\n",
       "  <thead>\n",
       "    <tr style=\"text-align: right;\">\n",
       "      <th></th>\n",
       "      <th>count</th>\n",
       "      <th>mean</th>\n",
       "      <th>std</th>\n",
       "      <th>min</th>\n",
       "      <th>5%</th>\n",
       "      <th>50%</th>\n",
       "      <th>95%</th>\n",
       "      <th>max</th>\n",
       "    </tr>\n",
       "  </thead>\n",
       "  <tbody>\n",
       "    <tr>\n",
       "      <th>session_duration</th>\n",
       "      <td>266591.0000</td>\n",
       "      <td>4.2123</td>\n",
       "      <td>3.5453</td>\n",
       "      <td>0.0000</td>\n",
       "      <td>0.2452</td>\n",
       "      <td>3.2249</td>\n",
       "      <td>11.6438</td>\n",
       "      <td>15.0075</td>\n",
       "    </tr>\n",
       "  </tbody>\n",
       "</table>\n",
       "</div>"
      ],
      "text/plain": [
       "                       count   mean    std    min     5%    50%     95%  \\\n",
       "session_duration 266591.0000 4.2123 3.5453 0.0000 0.2452 3.2249 11.6438   \n",
       "\n",
       "                     max  \n",
       "session_duration 15.0075  "
      ]
     },
     "metadata": {},
     "output_type": "display_data"
    },
    {
     "data": {
      "image/png": "[encoded data removed]",
      "text/plain": [
       "<Figure size 1152x360 with 2 Axes>"
      ]
     },
     "metadata": {},
     "output_type": "display_data"
    }
   ],
   "source": [
    "report = report.query('session_duration < @p95')\n",
    "display(report.describe(percentiles=[.05, .5, .95]).T)\n",
    "\n",
    "plt.subplots()\n",
    "report.hist(ax = plt.subplot(1,2,1))\n",
    "report.boxplot(ax = plt.subplot(1,2,2))\n",
    "plt.show()"
   ]
  },
  {
   "cell_type": "code",
   "execution_count": 16,
   "metadata": {},
   "outputs": [],
   "source": [
    "metrics.loc[metrics.index == 'session_duration', ['mean', 'std']] = [\n",
    "    report['session_duration'].mean(), \n",
    "    report['session_duration'].std()]"
   ]
  },
  {
   "cell_type": "code",
   "execution_count": 17,
   "metadata": {},
   "outputs": [
    {
     "data": {
      "text/html": [
       "<div>\n",
       "<style scoped>\n",
       "    .dataframe tbody tr th:only-of-type {\n",
       "        vertical-align: middle;\n",
       "    }\n",
       "\n",
       "    .dataframe tbody tr th {\n",
       "        vertical-align: top;\n",
       "    }\n",
       "\n",
       "    .dataframe thead th {\n",
       "        text-align: right;\n",
       "    }\n",
       "</style>\n",
       "<table border=\"1\" class=\"dataframe\">\n",
       "  <thead>\n",
       "    <tr style=\"text-align: right;\">\n",
       "      <th></th>\n",
       "      <th>mean</th>\n",
       "      <th>std</th>\n",
       "      <th>relative_importance</th>\n",
       "      <th>observations</th>\n",
       "      <th>observations_per_day</th>\n",
       "      <th>duration_test</th>\n",
       "    </tr>\n",
       "    <tr>\n",
       "      <th>metrica</th>\n",
       "      <th></th>\n",
       "      <th></th>\n",
       "      <th></th>\n",
       "      <th></th>\n",
       "      <th></th>\n",
       "      <th></th>\n",
       "    </tr>\n",
       "  </thead>\n",
       "  <tbody>\n",
       "    <tr>\n",
       "      <th>cr</th>\n",
       "      <td>0.4600</td>\n",
       "      <td>0.4984</td>\n",
       "      <td>0.2500</td>\n",
       "      <td>None</td>\n",
       "      <td>None</td>\n",
       "      <td>None</td>\n",
       "    </tr>\n",
       "    <tr>\n",
       "      <th>session_duration</th>\n",
       "      <td>4.2123</td>\n",
       "      <td>3.5453</td>\n",
       "      <td>0.1500</td>\n",
       "      <td>None</td>\n",
       "      <td>None</td>\n",
       "      <td>None</td>\n",
       "    </tr>\n",
       "  </tbody>\n",
       "</table>\n",
       "</div>"
      ],
      "text/plain": [
       "                   mean    std  relative_importance observations  \\\n",
       "metrica                                                            \n",
       "cr               0.4600 0.4984               0.2500         None   \n",
       "session_duration 4.2123 3.5453               0.1500         None   \n",
       "\n",
       "                 observations_per_day duration_test  \n",
       "metrica                                              \n",
       "cr                               None          None  \n",
       "session_duration                 None          None  "
      ]
     },
     "execution_count": 17,
     "metadata": {},
     "output_type": "execute_result"
    }
   ],
   "source": [
    "metrics"
   ]
  },
  {
   "cell_type": "markdown",
   "metadata": {},
   "source": [
    "Задаем уровень значимости и мощность, корректируем уровень значимости. Для уровня значимости и мощности берем дежурные значения, коррекцию проводим методом Бонферрони:"
   ]
  },
  {
   "cell_type": "code",
   "execution_count": 18,
   "metadata": {},
   "outputs": [
    {
     "data": {
      "text/plain": [
       "(0.025, 0.8)"
      ]
     },
     "execution_count": 18,
     "metadata": {},
     "output_type": "execute_result"
    }
   ],
   "source": [
    "alpha = .05\n",
    "power = .80\n",
    "alpha = alpha / metrics.shape[0]\n",
    "(alpha, power)"
   ]
  },
  {
   "cell_type": "markdown",
   "metadata": {},
   "source": [
    "Расчитываем количество наблюдений:"
   ]
  },
  {
   "cell_type": "code",
   "execution_count": 19,
   "metadata": {},
   "outputs": [],
   "source": [
    "def get_sample_size(mean, std, relative_importance, alpha, power):\n",
    "    z = stats.norm.ppf(1 - alpha/2) + abs(stats.norm.ppf(1-power))\n",
    "    d = mean * relative_importance\n",
    "    return math.ceil(2 * ((std * z / d) ** 2))"
   ]
  },
  {
   "cell_type": "code",
   "execution_count": 20,
   "metadata": {},
   "outputs": [
    {
     "data": {
      "text/html": [
       "<div>\n",
       "<style scoped>\n",
       "    .dataframe tbody tr th:only-of-type {\n",
       "        vertical-align: middle;\n",
       "    }\n",
       "\n",
       "    .dataframe tbody tr th {\n",
       "        vertical-align: top;\n",
       "    }\n",
       "\n",
       "    .dataframe thead th {\n",
       "        text-align: right;\n",
       "    }\n",
       "</style>\n",
       "<table border=\"1\" class=\"dataframe\">\n",
       "  <thead>\n",
       "    <tr style=\"text-align: right;\">\n",
       "      <th></th>\n",
       "      <th>mean</th>\n",
       "      <th>std</th>\n",
       "      <th>relative_importance</th>\n",
       "      <th>observations</th>\n",
       "      <th>observations_per_day</th>\n",
       "      <th>duration_test</th>\n",
       "    </tr>\n",
       "    <tr>\n",
       "      <th>metrica</th>\n",
       "      <th></th>\n",
       "      <th></th>\n",
       "      <th></th>\n",
       "      <th></th>\n",
       "      <th></th>\n",
       "      <th></th>\n",
       "    </tr>\n",
       "  </thead>\n",
       "  <tbody>\n",
       "    <tr>\n",
       "      <th>cr</th>\n",
       "      <td>0.4600</td>\n",
       "      <td>0.4984</td>\n",
       "      <td>0.2500</td>\n",
       "      <td>358</td>\n",
       "      <td>None</td>\n",
       "      <td>None</td>\n",
       "    </tr>\n",
       "    <tr>\n",
       "      <th>session_duration</th>\n",
       "      <td>4.2123</td>\n",
       "      <td>3.5453</td>\n",
       "      <td>0.1500</td>\n",
       "      <td>599</td>\n",
       "      <td>None</td>\n",
       "      <td>None</td>\n",
       "    </tr>\n",
       "  </tbody>\n",
       "</table>\n",
       "</div>"
      ],
      "text/plain": [
       "                   mean    std  relative_importance  observations  \\\n",
       "metrica                                                             \n",
       "cr               0.4600 0.4984               0.2500           358   \n",
       "session_duration 4.2123 3.5453               0.1500           599   \n",
       "\n",
       "                 observations_per_day duration_test  \n",
       "metrica                                              \n",
       "cr                               None          None  \n",
       "session_duration                 None          None  "
      ]
     },
     "execution_count": 20,
     "metadata": {},
     "output_type": "execute_result"
    }
   ],
   "source": [
    "metrics['observations'] = metrics.apply(lambda x: get_sample_size(x['mean'], \n",
    "                                                                  x['std'], \n",
    "                                                                  x['relative_importance'],alpha, power), axis = 1)\n",
    "metrics"
   ]
  },
  {
   "cell_type": "markdown",
   "metadata": {},
   "source": [
    "Заполняем количество наблюдений в единицу времени (день):\n",
    "- Для конверсии в покупку наблюдение это каждый новый пользователь;\n",
    "- Для длительности сессий наблюдение это одна сессия. Т.к. один пользователь сгенерирует как минимум одну сессию, можем считать, что количество наблюдений в день равно как минимум числу новых пользователей в день.\n",
    "\n",
    "При расчете учитываем, что в тест будут попадать только 20% новых пользователей."
   ]
  },
  {
   "cell_type": "code",
   "execution_count": 21,
   "metadata": {},
   "outputs": [
    {
     "data": {
      "text/html": [
       "<div>\n",
       "<style scoped>\n",
       "    .dataframe tbody tr th:only-of-type {\n",
       "        vertical-align: middle;\n",
       "    }\n",
       "\n",
       "    .dataframe tbody tr th {\n",
       "        vertical-align: top;\n",
       "    }\n",
       "\n",
       "    .dataframe thead th {\n",
       "        text-align: right;\n",
       "    }\n",
       "</style>\n",
       "<table border=\"1\" class=\"dataframe\">\n",
       "  <thead>\n",
       "    <tr style=\"text-align: right;\">\n",
       "      <th></th>\n",
       "      <th>mean</th>\n",
       "      <th>std</th>\n",
       "      <th>relative_importance</th>\n",
       "      <th>observations</th>\n",
       "      <th>observations_per_day</th>\n",
       "      <th>duration_test</th>\n",
       "    </tr>\n",
       "    <tr>\n",
       "      <th>metrica</th>\n",
       "      <th></th>\n",
       "      <th></th>\n",
       "      <th></th>\n",
       "      <th></th>\n",
       "      <th></th>\n",
       "      <th></th>\n",
       "    </tr>\n",
       "  </thead>\n",
       "  <tbody>\n",
       "    <tr>\n",
       "      <th>cr</th>\n",
       "      <td>0.4600</td>\n",
       "      <td>0.4984</td>\n",
       "      <td>0.2500</td>\n",
       "      <td>358</td>\n",
       "      <td>241</td>\n",
       "      <td>None</td>\n",
       "    </tr>\n",
       "    <tr>\n",
       "      <th>session_duration</th>\n",
       "      <td>4.2123</td>\n",
       "      <td>3.5453</td>\n",
       "      <td>0.1500</td>\n",
       "      <td>599</td>\n",
       "      <td>241</td>\n",
       "      <td>None</td>\n",
       "    </tr>\n",
       "  </tbody>\n",
       "</table>\n",
       "</div>"
      ],
      "text/plain": [
       "                   mean    std  relative_importance  observations  \\\n",
       "metrica                                                             \n",
       "cr               0.4600 0.4984               0.2500           358   \n",
       "session_duration 4.2123 3.5453               0.1500           599   \n",
       "\n",
       "                  observations_per_day duration_test  \n",
       "metrica                                               \n",
       "cr                                 241          None  \n",
       "session_duration                   241          None  "
      ]
     },
     "execution_count": 21,
     "metadata": {},
     "output_type": "execute_result"
    }
   ],
   "source": [
    "test_audience_mun = 0.2\n",
    "\n",
    "# конверсия в покупку\n",
    "mean_daily_users = new_users_eu.groupby('first_date').agg({'user_id':'nunique'})['user_id'].mean()\n",
    "\n",
    "# средняя длительность сессии\n",
    "metrics['observations_per_day'] = math.floor(mean_daily_users * test_audience_mun)\n",
    "metrics"
   ]
  },
  {
   "cell_type": "markdown",
   "metadata": {},
   "source": [
    "Расчитаем длительности тестов, учитывая количество групп в тесте:"
   ]
  },
  {
   "cell_type": "code",
   "execution_count": 22,
   "metadata": {},
   "outputs": [
    {
     "data": {
      "text/html": [
       "<div>\n",
       "<style scoped>\n",
       "    .dataframe tbody tr th:only-of-type {\n",
       "        vertical-align: middle;\n",
       "    }\n",
       "\n",
       "    .dataframe tbody tr th {\n",
       "        vertical-align: top;\n",
       "    }\n",
       "\n",
       "    .dataframe thead th {\n",
       "        text-align: right;\n",
       "    }\n",
       "</style>\n",
       "<table border=\"1\" class=\"dataframe\">\n",
       "  <thead>\n",
       "    <tr style=\"text-align: right;\">\n",
       "      <th></th>\n",
       "      <th>mean</th>\n",
       "      <th>std</th>\n",
       "      <th>relative_importance</th>\n",
       "      <th>observations</th>\n",
       "      <th>observations_per_day</th>\n",
       "      <th>duration_test</th>\n",
       "    </tr>\n",
       "    <tr>\n",
       "      <th>metrica</th>\n",
       "      <th></th>\n",
       "      <th></th>\n",
       "      <th></th>\n",
       "      <th></th>\n",
       "      <th></th>\n",
       "      <th></th>\n",
       "    </tr>\n",
       "  </thead>\n",
       "  <tbody>\n",
       "    <tr>\n",
       "      <th>cr</th>\n",
       "      <td>0.4600</td>\n",
       "      <td>0.4984</td>\n",
       "      <td>0.2500</td>\n",
       "      <td>358</td>\n",
       "      <td>241</td>\n",
       "      <td>3</td>\n",
       "    </tr>\n",
       "    <tr>\n",
       "      <th>session_duration</th>\n",
       "      <td>4.2123</td>\n",
       "      <td>3.5453</td>\n",
       "      <td>0.1500</td>\n",
       "      <td>599</td>\n",
       "      <td>241</td>\n",
       "      <td>5</td>\n",
       "    </tr>\n",
       "  </tbody>\n",
       "</table>\n",
       "</div>"
      ],
      "text/plain": [
       "                   mean    std  relative_importance  observations  \\\n",
       "metrica                                                             \n",
       "cr               0.4600 0.4984               0.2500           358   \n",
       "session_duration 4.2123 3.5453               0.1500           599   \n",
       "\n",
       "                  observations_per_day  duration_test  \n",
       "metrica                                                \n",
       "cr                                 241              3  \n",
       "session_duration                   241              5  "
      ]
     },
     "metadata": {},
     "output_type": "display_data"
    },
    {
     "name": "stdout",
     "output_type": "stream",
     "text": [
      "Рекомендованная длительность теста: 5 дня(ей)\n"
     ]
    }
   ],
   "source": [
    "test_group_num = 2\n",
    "\n",
    "metrics['duration_test'] = np.ceil(metrics['observations'] / metrics['observations_per_day'] * test_group_num).astype('int')\n",
    "\n",
    "display(metrics)\n",
    "\n",
    "test_duration = metrics['duration_test'].max()\n",
    "print('Рекомендованная длительность теста: {} дня(ей)'.format(test_duration))"
   ]
  },
  {
   "cell_type": "code",
   "execution_count": 23,
   "metadata": {},
   "outputs": [
    {
     "data": {
      "text/html": [
       "<div>\n",
       "<style scoped>\n",
       "    .dataframe tbody tr th:only-of-type {\n",
       "        vertical-align: middle;\n",
       "    }\n",
       "\n",
       "    .dataframe tbody tr th {\n",
       "        vertical-align: top;\n",
       "    }\n",
       "\n",
       "    .dataframe thead th {\n",
       "        text-align: right;\n",
       "    }\n",
       "</style>\n",
       "<table border=\"1\" class=\"dataframe\">\n",
       "  <thead>\n",
       "    <tr style=\"text-align: right;\">\n",
       "      <th></th>\n",
       "      <th>mean</th>\n",
       "      <th>std</th>\n",
       "      <th>relative_importance</th>\n",
       "      <th>observations</th>\n",
       "      <th>observations_per_day</th>\n",
       "      <th>duration_test</th>\n",
       "    </tr>\n",
       "    <tr>\n",
       "      <th>metrica</th>\n",
       "      <th></th>\n",
       "      <th></th>\n",
       "      <th></th>\n",
       "      <th></th>\n",
       "      <th></th>\n",
       "      <th></th>\n",
       "    </tr>\n",
       "  </thead>\n",
       "  <tbody>\n",
       "    <tr>\n",
       "      <th>cr</th>\n",
       "      <td>0.4600</td>\n",
       "      <td>0.4984</td>\n",
       "      <td>0.2500</td>\n",
       "      <td>358</td>\n",
       "      <td>241</td>\n",
       "      <td>5</td>\n",
       "    </tr>\n",
       "    <tr>\n",
       "      <th>session_duration</th>\n",
       "      <td>4.2123</td>\n",
       "      <td>3.5453</td>\n",
       "      <td>0.1500</td>\n",
       "      <td>599</td>\n",
       "      <td>241</td>\n",
       "      <td>5</td>\n",
       "    </tr>\n",
       "  </tbody>\n",
       "</table>\n",
       "</div>"
      ],
      "text/plain": [
       "                   mean    std  relative_importance  observations  \\\n",
       "metrica                                                             \n",
       "cr               0.4600 0.4984               0.2500           358   \n",
       "session_duration 4.2123 3.5453               0.1500           599   \n",
       "\n",
       "                  observations_per_day  duration_test  \n",
       "metrica                                                \n",
       "cr                                 241              5  \n",
       "session_duration                   241              5  "
      ]
     },
     "execution_count": 23,
     "metadata": {},
     "output_type": "execute_result"
    }
   ],
   "source": [
    "metrics['duration_test'].max()\n",
    "metrics['duration_test'] = metrics['duration_test'].max()\n",
    "metrics"
   ]
  },
  {
   "cell_type": "markdown",
   "metadata": {},
   "source": [
    "Проверим, демонстрируют ли данные сезонность:"
   ]
  },
  {
   "cell_type": "code",
   "execution_count": 24,
   "metadata": {},
   "outputs": [],
   "source": [
    "sessions_eu['session_date'] = sessions_eu['session_start'].dt.date\n",
    "new_users_eu['first_date'] = new_users_eu['first_date'].dt.date"
   ]
  },
  {
   "cell_type": "code",
   "execution_count": 25,
   "metadata": {},
   "outputs": [
    {
     "data": {
      "image/png": "[encoded data removed]",
      "text/plain": [
       "<Figure size 1152x360 with 2 Axes>"
      ]
     },
     "metadata": {},
     "output_type": "display_data"
    }
   ],
   "source": [
    "plt.subplots()\n",
    "new_users_eu.groupby('first_date').agg({'user_id':'nunique'}).plot(ax = plt.subplot(1,2,1))\n",
    "plt.xticks(rotation=45)\n",
    "sessions_eu.groupby('session_date').agg({'user_id':'nunique'}).plot(ax = plt.subplot(1,2,2))\n",
    "plt.xticks(rotation=45)\n",
    "plt.show()"
   ]
  },
  {
   "cell_type": "markdown",
   "metadata": {},
   "source": [
    "Вывод: данные демонстрируют явную недельную сезонность. \n",
    "\n",
    "Имеет смысл установить длительность теста кратной одной недели. Расчитаем длительность теста с учетом недельной сезонности."
   ]
  },
  {
   "cell_type": "code",
   "execution_count": 26,
   "metadata": {},
   "outputs": [
    {
     "name": "stdout",
     "output_type": "stream",
     "text": [
      "Рекомендованная длительность теста (с учетом недельной сезонности): 7 дня(ей)\n"
     ]
    }
   ],
   "source": [
    "test_duration_adjusted = int(np.ceil(test_duration / 7) * 7)\n",
    "print('Рекомендованная длительность теста (с учетом недельной сезонности): {} дня(ей)'.format(test_duration_adjusted))"
   ]
  },
  {
   "cell_type": "markdown",
   "metadata": {},
   "source": [
    "Вывод: тест должен быть не короче 7 дней для того, чтобы набрать нужное количество пользователей. "
   ]
  },
  {
   "cell_type": "code",
   "execution_count": 27,
   "metadata": {},
   "outputs": [
    {
     "data": {
      "text/html": [
       "<div>\n",
       "<style scoped>\n",
       "    .dataframe tbody tr th:only-of-type {\n",
       "        vertical-align: middle;\n",
       "    }\n",
       "\n",
       "    .dataframe tbody tr th {\n",
       "        vertical-align: top;\n",
       "    }\n",
       "\n",
       "    .dataframe thead th {\n",
       "        text-align: right;\n",
       "    }\n",
       "</style>\n",
       "<table border=\"1\" class=\"dataframe\">\n",
       "  <thead>\n",
       "    <tr style=\"text-align: right;\">\n",
       "      <th></th>\n",
       "      <th>mean</th>\n",
       "      <th>std</th>\n",
       "      <th>relative_importance</th>\n",
       "      <th>observations</th>\n",
       "      <th>observations_per_day</th>\n",
       "      <th>duration_test</th>\n",
       "    </tr>\n",
       "    <tr>\n",
       "      <th>metrica</th>\n",
       "      <th></th>\n",
       "      <th></th>\n",
       "      <th></th>\n",
       "      <th></th>\n",
       "      <th></th>\n",
       "      <th></th>\n",
       "    </tr>\n",
       "  </thead>\n",
       "  <tbody>\n",
       "    <tr>\n",
       "      <th>cr</th>\n",
       "      <td>0.4600</td>\n",
       "      <td>0.4984</td>\n",
       "      <td>0.2500</td>\n",
       "      <td>358</td>\n",
       "      <td>241</td>\n",
       "      <td>7</td>\n",
       "    </tr>\n",
       "    <tr>\n",
       "      <th>session_duration</th>\n",
       "      <td>4.2123</td>\n",
       "      <td>3.5453</td>\n",
       "      <td>0.1500</td>\n",
       "      <td>599</td>\n",
       "      <td>241</td>\n",
       "      <td>7</td>\n",
       "    </tr>\n",
       "  </tbody>\n",
       "</table>\n",
       "</div>"
      ],
      "text/plain": [
       "                   mean    std  relative_importance  observations  \\\n",
       "metrica                                                             \n",
       "cr               0.4600 0.4984               0.2500           358   \n",
       "session_duration 4.2123 3.5453               0.1500           599   \n",
       "\n",
       "                  observations_per_day  duration_test  \n",
       "metrica                                                \n",
       "cr                                 241              7  \n",
       "session_duration                   241              7  "
      ]
     },
     "execution_count": 27,
     "metadata": {},
     "output_type": "execute_result"
    }
   ],
   "source": [
    "metrics['duration_test'].max()\n",
    "metrics['duration_test'] = (np.ceil(metrics['duration_test'].max() / 7) * 7).astype('int')\n",
    "metrics"
   ]
  },
  {
   "cell_type": "markdown",
   "metadata": {},
   "source": [
    "## 1.3 Определение момента запуска и остановки теста"
   ]
  },
  {
   "cell_type": "markdown",
   "metadata": {},
   "source": [
    "Заказчик просит запустить тест не ранее 01.12, отфильтруем все промки попадающие в интервал времени после начала декабря."
   ]
  },
  {
   "cell_type": "markdown",
   "metadata": {},
   "source": [
    "## 1.4 Составление технического задания для разработчиков"
   ]
  },
  {
   "cell_type": "markdown",
   "metadata": {},
   "source": [
    "Параметры теста:\n",
    "- Наименование теста: new_interface_test;\n",
    "- Группы: А (котрольная), B (новая платежная воронка);\n",
    "- Дата запуска: 2021-01-04\n",
    "- Дата остановки набора новых пользователей: 2021-01-10;\n",
    "- Дата остановки: 2021-01-16 (+7 дней активности);\n",
    "- Аудитория: 20% новых пользователей из региона EU;\n",
    "- Назначение теста: тестирование изменений, связанных с внедрением улучшенной onboarding-воронки;\n",
    "- Ожидаемый эфект: конверсия в покупку изменится на 25%, средняя длительность сессии изменится на 15%."
   ]
  },
  {
   "cell_type": "markdown",
   "metadata": {},
   "source": [
    "Задаем временные границы теста:"
   ]
  },
  {
   "cell_type": "code",
   "execution_count": 28,
   "metadata": {},
   "outputs": [],
   "source": [
    "test_start = pd.to_datetime('2021-01-04')\n",
    "user_acquisition_duration = 7\n",
    "activity_duration = 1\n",
    "user_acquisition_end = test_start + timedelta(user_acquisition_duration - 1)"
   ]
  },
  {
   "cell_type": "markdown",
   "metadata": {},
   "source": [
    "# 2. Проведение теста: ситуация через 5 дней после запуска"
   ]
  },
  {
   "cell_type": "markdown",
   "metadata": {},
   "source": [
    "После долгих размышлений тест все же решаем запустить 4-го января 2021 года. Представим, что сейчас на календаре 5й день теста - 8-е января 2021. Нам нужно проанализировать промежуточные результаты теста и принять решение о его остановке или продолжении."
   ]
  },
  {
   "cell_type": "markdown",
   "metadata": {},
   "source": [
    "## 2.1 Загрузка и подготовка данных"
   ]
  },
  {
   "cell_type": "markdown",
   "metadata": {},
   "source": [
    "Загружаем данные, преобразуем даты и время:"
   ]
  },
  {
   "cell_type": "code",
   "execution_count": 29,
   "metadata": {},
   "outputs": [],
   "source": [
    "new_users = pd.read_csv('/Users/victorchudnovskiy/Documents/raw_csv/cons_new_users_monitoring.csv')\n",
    "sessions = pd.read_csv('/Users/victorchudnovskiy/Documents/raw_csv/cons_sessions_monitoring.csv')\n",
    "purchases = pd.read_csv('/Users/victorchudnovskiy/Documents/raw_csv/cons_purchases_monitoring.csv')\n",
    "test_participants = pd.read_csv('/Users/victorchudnovskiy/Documents/raw_csv/cons_participants_monitoring.csv')\n",
    "\n",
    "new_users['first_date'] = pd.to_datetime(new_users['first_date'])\n",
    "sessions['session_start'] = pd.to_datetime(sessions['session_start'])\n",
    "purchases['event_dt'] = pd.to_datetime(purchases['event_dt'])"
   ]
  },
  {
   "cell_type": "markdown",
   "metadata": {},
   "source": [
    "Посмотрим, как у нас обстоят дела с участниками теста:"
   ]
  },
  {
   "cell_type": "code",
   "execution_count": 30,
   "metadata": {},
   "outputs": [
    {
     "data": {
      "text/html": [
       "<div>\n",
       "<style scoped>\n",
       "    .dataframe tbody tr th:only-of-type {\n",
       "        vertical-align: middle;\n",
       "    }\n",
       "\n",
       "    .dataframe tbody tr th {\n",
       "        vertical-align: top;\n",
       "    }\n",
       "\n",
       "    .dataframe thead th {\n",
       "        text-align: right;\n",
       "    }\n",
       "</style>\n",
       "<table border=\"1\" class=\"dataframe\">\n",
       "  <thead>\n",
       "    <tr style=\"text-align: right;\">\n",
       "      <th></th>\n",
       "      <th></th>\n",
       "      <th>user_id</th>\n",
       "    </tr>\n",
       "    <tr>\n",
       "      <th>ab_test</th>\n",
       "      <th>group</th>\n",
       "      <th></th>\n",
       "    </tr>\n",
       "  </thead>\n",
       "  <tbody>\n",
       "    <tr>\n",
       "      <th rowspan=\"2\" valign=\"top\">another_test</th>\n",
       "      <th>A</th>\n",
       "      <td>33</td>\n",
       "    </tr>\n",
       "    <tr>\n",
       "      <th>B</th>\n",
       "      <td>32</td>\n",
       "    </tr>\n",
       "    <tr>\n",
       "      <th rowspan=\"2\" valign=\"top\">new_interface_test</th>\n",
       "      <th>A</th>\n",
       "      <td>695</td>\n",
       "    </tr>\n",
       "    <tr>\n",
       "      <th>B</th>\n",
       "      <td>612</td>\n",
       "    </tr>\n",
       "  </tbody>\n",
       "</table>\n",
       "</div>"
      ],
      "text/plain": [
       "                          user_id\n",
       "ab_test            group         \n",
       "another_test       A           33\n",
       "                   B           32\n",
       "new_interface_test A          695\n",
       "                   B          612"
      ]
     },
     "execution_count": 30,
     "metadata": {},
     "output_type": "execute_result"
    }
   ],
   "source": [
    "test_participants.groupby(['ab_test', 'group']).agg({'user_id': 'nunique'})"
   ]
  },
  {
   "cell_type": "code",
   "execution_count": 31,
   "metadata": {},
   "outputs": [
    {
     "data": {
      "text/html": [
       "<div>\n",
       "<style scoped>\n",
       "    .dataframe tbody tr th:only-of-type {\n",
       "        vertical-align: middle;\n",
       "    }\n",
       "\n",
       "    .dataframe tbody tr th {\n",
       "        vertical-align: top;\n",
       "    }\n",
       "\n",
       "    .dataframe thead th {\n",
       "        text-align: right;\n",
       "    }\n",
       "</style>\n",
       "<table border=\"1\" class=\"dataframe\">\n",
       "  <thead>\n",
       "    <tr style=\"text-align: right;\">\n",
       "      <th></th>\n",
       "      <th>user_id</th>\n",
       "      <th>group</th>\n",
       "      <th>ab_test</th>\n",
       "    </tr>\n",
       "  </thead>\n",
       "  <tbody>\n",
       "    <tr>\n",
       "      <th>0</th>\n",
       "      <td>0560881DCDCCB068</td>\n",
       "      <td>B</td>\n",
       "      <td>new_interface_test</td>\n",
       "    </tr>\n",
       "    <tr>\n",
       "      <th>1</th>\n",
       "      <td>CD3F1B78180A4F01</td>\n",
       "      <td>A</td>\n",
       "      <td>new_interface_test</td>\n",
       "    </tr>\n",
       "    <tr>\n",
       "      <th>2</th>\n",
       "      <td>03096D6895415472</td>\n",
       "      <td>A</td>\n",
       "      <td>new_interface_test</td>\n",
       "    </tr>\n",
       "    <tr>\n",
       "      <th>3</th>\n",
       "      <td>A0440113C7188632</td>\n",
       "      <td>A</td>\n",
       "      <td>new_interface_test</td>\n",
       "    </tr>\n",
       "    <tr>\n",
       "      <th>4</th>\n",
       "      <td>AA750EC1FEF2FD88</td>\n",
       "      <td>A</td>\n",
       "      <td>new_interface_test</td>\n",
       "    </tr>\n",
       "  </tbody>\n",
       "</table>\n",
       "</div>"
      ],
      "text/plain": [
       "            user_id group             ab_test\n",
       "0  0560881DCDCCB068     B  new_interface_test\n",
       "1  CD3F1B78180A4F01     A  new_interface_test\n",
       "2  03096D6895415472     A  new_interface_test\n",
       "3  A0440113C7188632     A  new_interface_test\n",
       "4  AA750EC1FEF2FD88     A  new_interface_test"
      ]
     },
     "execution_count": 31,
     "metadata": {},
     "output_type": "execute_result"
    }
   ],
   "source": [
    "test_participants = test_participants.query('ab_test == \"new_interface_test\"').copy()\n",
    "test_participants.head()"
   ]
  },
  {
   "cell_type": "markdown",
   "metadata": {},
   "source": [
    "В остальных данных уберем все, что не касается участников теста:"
   ]
  },
  {
   "cell_type": "code",
   "execution_count": 32,
   "metadata": {},
   "outputs": [],
   "source": [
    "test_new_users = new_users.query('user_id in @test_participants.user_id').merge(test_participants, how='left', on='user_id')\n",
    "test_sessions = sessions.query('user_id in @test_participants.user_id').merge(test_participants, how='left', on='user_id')\n",
    "test_purchases= purchases.query('user_id in @test_participants.user_id').merge(test_participants, how='left', on='user_id')"
   ]
  },
  {
   "cell_type": "markdown",
   "metadata": {},
   "source": [
    "## 2.2 Проверка корректности проведения теста"
   ]
  },
  {
   "cell_type": "markdown",
   "metadata": {},
   "source": [
    "Посмотрим на состав участников теста по регионам:"
   ]
  },
  {
   "cell_type": "code",
   "execution_count": 33,
   "metadata": {},
   "outputs": [
    {
     "data": {
      "text/html": [
       "<div>\n",
       "<style scoped>\n",
       "    .dataframe tbody tr th:only-of-type {\n",
       "        vertical-align: middle;\n",
       "    }\n",
       "\n",
       "    .dataframe tbody tr th {\n",
       "        vertical-align: top;\n",
       "    }\n",
       "\n",
       "    .dataframe thead th {\n",
       "        text-align: right;\n",
       "    }\n",
       "</style>\n",
       "<table border=\"1\" class=\"dataframe\">\n",
       "  <thead>\n",
       "    <tr style=\"text-align: right;\">\n",
       "      <th></th>\n",
       "      <th>partycipatns</th>\n",
       "      <th>%</th>\n",
       "    </tr>\n",
       "    <tr>\n",
       "      <th>region</th>\n",
       "      <th></th>\n",
       "      <th></th>\n",
       "    </tr>\n",
       "  </thead>\n",
       "  <tbody>\n",
       "    <tr>\n",
       "      <th>EU</th>\n",
       "      <td>1231</td>\n",
       "      <td>0.9419</td>\n",
       "    </tr>\n",
       "    <tr>\n",
       "      <th>CIS</th>\n",
       "      <td>44</td>\n",
       "      <td>0.0337</td>\n",
       "    </tr>\n",
       "    <tr>\n",
       "      <th>APAC</th>\n",
       "      <td>18</td>\n",
       "      <td>0.0138</td>\n",
       "    </tr>\n",
       "    <tr>\n",
       "      <th>N.America</th>\n",
       "      <td>14</td>\n",
       "      <td>0.0107</td>\n",
       "    </tr>\n",
       "  </tbody>\n",
       "</table>\n",
       "</div>"
      ],
      "text/plain": [
       "           partycipatns      %\n",
       "region                        \n",
       "EU                 1231 0.9419\n",
       "CIS                  44 0.0337\n",
       "APAC                 18 0.0138\n",
       "N.America            14 0.0107"
      ]
     },
     "execution_count": 33,
     "metadata": {},
     "output_type": "execute_result"
    }
   ],
   "source": [
    "report = test_new_users.groupby('region').agg({'user_id':'nunique'}).sort_values(by='user_id', ascending=False)\n",
    "report = report.rename(columns={'user_id':'partycipatns'})\n",
    "report['%'] = (report['partycipatns'] / report['partycipatns'].sum()).round(4)\n",
    "report"
   ]
  },
  {
   "cell_type": "markdown",
   "metadata": {},
   "source": [
    "Основная масса участников была из нужного региона, все ок. Небольшое количество учатников из других регионов можно объяснить перелетами, использованием VPN и т.д.\n",
    "\n",
    "Проверим, составили ли участники теста нужный % от общего числа новых пользователей в регионе (возьмем только пользователей, пришедших во время теста):"
   ]
  },
  {
   "cell_type": "code",
   "execution_count": 34,
   "metadata": {},
   "outputs": [
    {
     "data": {
      "text/plain": [
       "0.19980522642428178"
      ]
     },
     "execution_count": 34,
     "metadata": {},
     "output_type": "execute_result"
    }
   ],
   "source": [
    "eu_test_users = test_new_users.query('region == \"EU\"').shape[0]\n",
    "eu_users = new_users.query('region == \"EU\" and first_date >= \"2021-01-04\" and first_date <= \"2021-01-16\"').shape[0]\n",
    "eu_test_users / eu_users"
   ]
  },
  {
   "cell_type": "markdown",
   "metadata": {},
   "source": [
    "Чуть выше уровня, который закладывался в техническом задании. Это нормально. Проведем тест, чтобы проверить действительно ли это статистически значимое различие:\n",
    "- H0: для пользователя из региона EU вероятность попасть в тест составляет 20%;\n",
    "- H1: для пользователя из региона EU вероятность попасть в тест отличается от 20%.\n",
    "\n",
    "Уровень значимости установим 0.05 и откорректируем методом Бонферрони т.к. мы проводим в этой части два теста - текущий и тест на распрееление пользователей по группам."
   ]
  },
  {
   "cell_type": "code",
   "execution_count": 35,
   "metadata": {},
   "outputs": [
    {
     "name": "stdout",
     "output_type": "stream",
     "text": [
      "p-value 0.9695008\n",
      "Нулевая гипотеза не отвергается: для пользователя из региона EU вероятность попасть в тест составляет 20%.\n"
     ]
    }
   ],
   "source": [
    "alpha = .05\n",
    "alpha = alpha / 2\n",
    "pvalue = proportions_ztest(eu_test_users, eu_users, value= 0.2)[1]\n",
    "print(f'p-value {pvalue:.7}')\n",
    "if pvalue >= alpha: \n",
    "    print('Нулевая гипотеза не отвергается: для пользователя из региона EU вероятность попасть в тест составляет 20%.')\n",
    "else:\n",
    "    print('Нулевая гипотеза отвергается: для пользователя из региона EU вероятность попасть в тест отличается от 20%.')"
   ]
  },
  {
   "cell_type": "markdown",
   "metadata": {},
   "source": [
    "Вероятность попасть в группу А составила 53%. Проверим одновыборочным z-тестом:\n",
    "- H0: вероятность попасть в группу А составляет 50%;\n",
    "- H1: веростность попасть в группу А отличается от 50%Теперь проверим, была ли вероятность попасть в группы одинаковой:"
   ]
  },
  {
   "cell_type": "code",
   "execution_count": 36,
   "metadata": {},
   "outputs": [
    {
     "data": {
      "text/plain": [
       "0.531752104055088"
      ]
     },
     "execution_count": 36,
     "metadata": {},
     "output_type": "execute_result"
    }
   ],
   "source": [
    "a_users = test_new_users.query('group == \"A\"').shape[0]\n",
    "all_participants = test_participants.shape[0]\n",
    "a_users / all_participants"
   ]
  },
  {
   "cell_type": "code",
   "execution_count": 37,
   "metadata": {},
   "outputs": [
    {
     "name": "stdout",
     "output_type": "stream",
     "text": [
      "p-value 0.021\n",
      "Нулевая гипотеза отвергается: вероятность попасть в группу А отличается от 50%\n"
     ]
    }
   ],
   "source": [
    "alpha = .05\n",
    "alpha = alpha / 2\n",
    "pvalue = proportions_ztest(a_users, all_participants, value= 0.5)[1]\n",
    "print(f'p-value {pvalue:.2}')\n",
    "\n",
    "if pvalue >= alpha: \n",
    "    print('Нулевая гипотеза не отвергается: вероятность попасть в группу А составляет 50%')\n",
    "else:\n",
    "    print('Нулевая гипотеза отвергается: вероятность попасть в группу А отличается от 50%')"
   ]
  },
  {
   "cell_type": "markdown",
   "metadata": {},
   "source": [
    "Отлично, значит нам показалось и вероятность попасть в каждую группу равна 50%."
   ]
  },
  {
   "cell_type": "markdown",
   "metadata": {},
   "source": [
    "## 2.3 Анализ накопительных метрик и принятие решения об остановке"
   ]
  },
  {
   "cell_type": "markdown",
   "metadata": {},
   "source": [
    "Установим уровень для необходимого минимального числа участников теста."
   ]
  },
  {
   "cell_type": "code",
   "execution_count": 38,
   "metadata": {},
   "outputs": [
    {
     "data": {
      "text/html": [
       "<div>\n",
       "<style scoped>\n",
       "    .dataframe tbody tr th:only-of-type {\n",
       "        vertical-align: middle;\n",
       "    }\n",
       "\n",
       "    .dataframe tbody tr th {\n",
       "        vertical-align: top;\n",
       "    }\n",
       "\n",
       "    .dataframe thead th {\n",
       "        text-align: right;\n",
       "    }\n",
       "</style>\n",
       "<table border=\"1\" class=\"dataframe\">\n",
       "  <thead>\n",
       "    <tr style=\"text-align: right;\">\n",
       "      <th></th>\n",
       "      <th>mean</th>\n",
       "      <th>std</th>\n",
       "      <th>relative_importance</th>\n",
       "      <th>observations</th>\n",
       "      <th>observations_per_day</th>\n",
       "      <th>duration_test</th>\n",
       "    </tr>\n",
       "    <tr>\n",
       "      <th>metrica</th>\n",
       "      <th></th>\n",
       "      <th></th>\n",
       "      <th></th>\n",
       "      <th></th>\n",
       "      <th></th>\n",
       "      <th></th>\n",
       "    </tr>\n",
       "  </thead>\n",
       "  <tbody>\n",
       "    <tr>\n",
       "      <th>cr</th>\n",
       "      <td>0.4600</td>\n",
       "      <td>0.4984</td>\n",
       "      <td>0.2500</td>\n",
       "      <td>358</td>\n",
       "      <td>241</td>\n",
       "      <td>7</td>\n",
       "    </tr>\n",
       "    <tr>\n",
       "      <th>session_duration</th>\n",
       "      <td>4.2123</td>\n",
       "      <td>3.5453</td>\n",
       "      <td>0.1500</td>\n",
       "      <td>599</td>\n",
       "      <td>241</td>\n",
       "      <td>7</td>\n",
       "    </tr>\n",
       "  </tbody>\n",
       "</table>\n",
       "</div>"
      ],
      "text/plain": [
       "                   mean    std  relative_importance  observations  \\\n",
       "metrica                                                             \n",
       "cr               0.4600 0.4984               0.2500           358   \n",
       "session_duration 4.2123 3.5453               0.1500           599   \n",
       "\n",
       "                  observations_per_day  duration_test  \n",
       "metrica                                                \n",
       "cr                                 241              7  \n",
       "session_duration                   241              7  "
      ]
     },
     "execution_count": 38,
     "metadata": {},
     "output_type": "execute_result"
    }
   ],
   "source": [
    "metrics"
   ]
  },
  {
   "cell_type": "markdown",
   "metadata": {},
   "source": [
    "Для необходимого минимального числа участников теста мы берем потребное количество наблюдений для метрики \"Средняя длительность сессии\" т.к. именно она влиятет на длительность проведения теста."
   ]
  },
  {
   "cell_type": "code",
   "execution_count": 39,
   "metadata": {},
   "outputs": [
    {
     "data": {
      "text/plain": [
       "1198"
      ]
     },
     "execution_count": 39,
     "metadata": {},
     "output_type": "execute_result"
    }
   ],
   "source": [
    "required_participants = metrics.loc['session_duration', 'observations'] * test_group_num\n",
    "required_participants"
   ]
  },
  {
   "cell_type": "markdown",
   "metadata": {},
   "source": [
    "Кумулятивная динамика:"
   ]
  },
  {
   "cell_type": "code",
   "execution_count": 40,
   "metadata": {},
   "outputs": [
    {
     "data": {
      "image/png": "[encoded data removed]",
      "text/plain": [
       "<Figure size 1440x864 with 4 Axes>"
      ]
     },
     "metadata": {},
     "output_type": "display_data"
    }
   ],
   "source": [
    "curent_aquistition_duration = 5\n",
    "test_dates = pd.date_range(start='2021-01-04', periods=curent_aquistition_duration)\n",
    "test_dates\n",
    "\n",
    "plt.subplots(figsize=(20,12))\n",
    "\n",
    "cumulative_test_users = pd.DataFrame(columns=['A', 'B'])\n",
    "cumulative_test_payers = pd.DataFrame(columns=['A', 'B'])\n",
    "cumulative_test_sessions = pd.DataFrame(columns=['A', 'B'])\n",
    "\n",
    "for i, dt in enumerate(test_dates):\n",
    "    curent_test_users = test_new_users.query('first_date <= @dt').groupby('group').agg({'user_id':'nunique'}).T\n",
    "    curent_test_users['date'] = dt\n",
    "    curent_test_users['test_day'] = i\n",
    "    cumulative_test_users = cumulative_test_users.append(curent_test_users, sort=False)\n",
    "    \n",
    "    curent_test_purchases = test_purchases.query('event_dt <= @dt').groupby('user_id').agg({'revenue':'sum'})\n",
    "    curent_test_payers = (test_new_users.merge(curent_test_purchases, on='user_id', how='inner').\n",
    "                          query('first_date <= @dt').groupby('group').agg({'user_id':'nunique'}).T)\n",
    "    curent_test_payers['date'] = dt\n",
    "    curent_test_payers['test_day'] = i\n",
    "    cumulative_test_payers = cumulative_test_payers.append(curent_test_payers, sort=False)\n",
    "    \n",
    "    curent_test_sessions = test_sessions.query('session_start <= @dt').groupby('group').agg({'session_duration':'median'}).T\n",
    "    curent_test_sessions['date'] = dt\n",
    "    curent_test_sessions['test_day'] = i\n",
    "    cumulative_test_sessions = cumulative_test_sessions.append(curent_test_sessions, sort=False)\n",
    "    \n",
    "pd.pivot_table(test_new_users, \n",
    "               index='first_date',\n",
    "               columns='group',\n",
    "               values='user_id',\n",
    "               aggfunc='nunique').plot(ax=plt.subplot(2,3,1))\n",
    "plt.title('New participants')\n",
    "plt.xlabel('date')\n",
    "plt.xticks(rotation=0)\n",
    "\n",
    "# Учачстники\n",
    "cumulative_test_users = cumulative_test_users.query('date >= \"2021-01-04\" & date <= \"2021-01-16\"').set_index('test_day')[['A', 'B']]\n",
    "cumulative_test_users['total'] = cumulative_test_users['A'] + cumulative_test_users['B']\n",
    "cumulative_test_users.plot(ax=plt.subplot(2,3,2), xticks=cumulative_test_users.index)\n",
    "plt.title('Cumulative participants')\n",
    "plt.axhline(y = required_participants, label = 'Ожидаемое число участников', color = 'red', linestyle = '--')\n",
    "# plt.xticks(rotation=45)\n",
    "\n",
    "# Конверсии\n",
    "cumulative_test_payers = cumulative_test_payers.query('date >= \"2021-01-04\" & date <= \"2021-01-16\"').set_index('test_day')[['A', 'B']]\n",
    "cumulative_test_payers.div(cumulative_test_users)[['A', 'B']].plot(ax=plt.subplot(2,3,4), xticks=cumulative_test_users.index)\n",
    "plt.title('CR')\n",
    "# plt.xlabel('day')\n",
    "# plt.xticks(rotation=45)\n",
    "\n",
    "# Длительность сессии\n",
    "cumulative_test_sessions = cumulative_test_sessions.query('date >= \"2021-01-04\" & date <= \"2021-01-16\"').set_index('test_day')[['A', 'B']]\n",
    "cumulative_test_sessions.plot(ax=plt.subplot(2,3,5), xticks=cumulative_test_users.index)\n",
    "plt.title('Mediian sessions duration')\n",
    "# plt.xlabel('day')\n",
    "# plt.xticks(rotation=45)\n",
    "plt.subplots_adjust(wspace=0.1, hspace=0.4)\n",
    "\n",
    "\n",
    "plt.show()"
   ]
  },
  {
   "cell_type": "markdown",
   "metadata": {},
   "source": [
    "Выводы и наблюдения:\n",
    "- Кумулятивные метрики практически достигли стабильности, но лучше посмотреть еще пару дней;\n",
    "- Необходимое количество пользователей едва набрано;\n",
    "- Набор новых пользователей останавливать, тем не менее, не будем т.к. впереди уикенд, который может повлиять на результаты по конверсии;\n",
    "- Сам тесте останавливать не будет т.к. нам нужно для каждого пользователя получить хотя бы неделю активности после первого захода на сайт."
   ]
  },
  {
   "cell_type": "markdown",
   "metadata": {},
   "source": [
    "# 3. Анализ результатов теста"
   ]
  },
  {
   "cell_type": "markdown",
   "metadata": {},
   "source": [
    "На календаре 17 января 2021 года, тест завершен. Вам нужно проанализировать его результаты."
   ]
  },
  {
   "cell_type": "markdown",
   "metadata": {},
   "source": [
    "## 3.1 Подготовка данных"
   ]
  },
  {
   "cell_type": "markdown",
   "metadata": {},
   "source": [
    "Загружаем данные, преобразуем даты и веремя:"
   ]
  },
  {
   "cell_type": "code",
   "execution_count": 41,
   "metadata": {},
   "outputs": [],
   "source": [
    "new_users = pd.read_csv('/Users/victorchudnovskiy/Documents/raw_csv/cons_users_test.csv')\n",
    "sessions = pd.read_csv('/Users/victorchudnovskiy/Documents/raw_csv/cons_sessions_test.csv')\n",
    "purchases = pd.read_csv('/Users/victorchudnovskiy/Documents/raw_csv/cons_purchases_test.csv')\n",
    "test_participants = pd.read_csv('/Users/victorchudnovskiy/Documents/raw_csv/cons_participants_test.csv')\n",
    "\n",
    "new_users['first_date'] = pd.to_datetime(new_users['first_date'])\n",
    "sessions['session_start'] = pd.to_datetime(sessions['session_start'])\n",
    "purchases['event_dt'] = pd.to_datetime(purchases['event_dt'])"
   ]
  },
  {
   "cell_type": "markdown",
   "metadata": {},
   "source": [
    "Посмотрим, как у нас обстоят дела с участниками теста:"
   ]
  },
  {
   "cell_type": "code",
   "execution_count": 42,
   "metadata": {},
   "outputs": [
    {
     "data": {
      "text/html": [
       "<div>\n",
       "<style scoped>\n",
       "    .dataframe tbody tr th:only-of-type {\n",
       "        vertical-align: middle;\n",
       "    }\n",
       "\n",
       "    .dataframe tbody tr th {\n",
       "        vertical-align: top;\n",
       "    }\n",
       "\n",
       "    .dataframe thead th {\n",
       "        text-align: right;\n",
       "    }\n",
       "</style>\n",
       "<table border=\"1\" class=\"dataframe\">\n",
       "  <thead>\n",
       "    <tr style=\"text-align: right;\">\n",
       "      <th></th>\n",
       "      <th></th>\n",
       "      <th>user_id</th>\n",
       "    </tr>\n",
       "    <tr>\n",
       "      <th>ab_test</th>\n",
       "      <th>group</th>\n",
       "      <th></th>\n",
       "    </tr>\n",
       "  </thead>\n",
       "  <tbody>\n",
       "    <tr>\n",
       "      <th rowspan=\"2\" valign=\"top\">another_test</th>\n",
       "      <th>A</th>\n",
       "      <td>43</td>\n",
       "    </tr>\n",
       "    <tr>\n",
       "      <th>B</th>\n",
       "      <td>47</td>\n",
       "    </tr>\n",
       "    <tr>\n",
       "      <th rowspan=\"2\" valign=\"top\">new_interface_test</th>\n",
       "      <th>A</th>\n",
       "      <td>1022</td>\n",
       "    </tr>\n",
       "    <tr>\n",
       "      <th>B</th>\n",
       "      <td>919</td>\n",
       "    </tr>\n",
       "  </tbody>\n",
       "</table>\n",
       "</div>"
      ],
      "text/plain": [
       "                          user_id\n",
       "ab_test            group         \n",
       "another_test       A           43\n",
       "                   B           47\n",
       "new_interface_test A         1022\n",
       "                   B          919"
      ]
     },
     "execution_count": 42,
     "metadata": {},
     "output_type": "execute_result"
    }
   ],
   "source": [
    "test_participants.groupby(['ab_test','group']).agg({'user_id':'nunique'})"
   ]
  },
  {
   "cell_type": "markdown",
   "metadata": {},
   "source": [
    "Отфильтруем new_login_screen_apac."
   ]
  },
  {
   "cell_type": "code",
   "execution_count": 43,
   "metadata": {},
   "outputs": [
    {
     "data": {
      "text/html": [
       "<div>\n",
       "<style scoped>\n",
       "    .dataframe tbody tr th:only-of-type {\n",
       "        vertical-align: middle;\n",
       "    }\n",
       "\n",
       "    .dataframe tbody tr th {\n",
       "        vertical-align: top;\n",
       "    }\n",
       "\n",
       "    .dataframe thead th {\n",
       "        text-align: right;\n",
       "    }\n",
       "</style>\n",
       "<table border=\"1\" class=\"dataframe\">\n",
       "  <thead>\n",
       "    <tr style=\"text-align: right;\">\n",
       "      <th></th>\n",
       "      <th>user_id</th>\n",
       "      <th>group</th>\n",
       "      <th>ab_test</th>\n",
       "    </tr>\n",
       "  </thead>\n",
       "  <tbody>\n",
       "    <tr>\n",
       "      <th>0</th>\n",
       "      <td>074B18A93F2F0C72</td>\n",
       "      <td>A</td>\n",
       "      <td>new_interface_test</td>\n",
       "    </tr>\n",
       "    <tr>\n",
       "      <th>1</th>\n",
       "      <td>F5B9A6723B88C7A0</td>\n",
       "      <td>A</td>\n",
       "      <td>new_interface_test</td>\n",
       "    </tr>\n",
       "    <tr>\n",
       "      <th>2</th>\n",
       "      <td>0560881DCDCCB068</td>\n",
       "      <td>B</td>\n",
       "      <td>new_interface_test</td>\n",
       "    </tr>\n",
       "    <tr>\n",
       "      <th>3</th>\n",
       "      <td>1821506A3C8025DF</td>\n",
       "      <td>B</td>\n",
       "      <td>new_interface_test</td>\n",
       "    </tr>\n",
       "    <tr>\n",
       "      <th>4</th>\n",
       "      <td>CD3F1B78180A4F01</td>\n",
       "      <td>A</td>\n",
       "      <td>new_interface_test</td>\n",
       "    </tr>\n",
       "  </tbody>\n",
       "</table>\n",
       "</div>"
      ],
      "text/plain": [
       "            user_id group             ab_test\n",
       "0  074B18A93F2F0C72     A  new_interface_test\n",
       "1  F5B9A6723B88C7A0     A  new_interface_test\n",
       "2  0560881DCDCCB068     B  new_interface_test\n",
       "3  1821506A3C8025DF     B  new_interface_test\n",
       "4  CD3F1B78180A4F01     A  new_interface_test"
      ]
     },
     "execution_count": 43,
     "metadata": {},
     "output_type": "execute_result"
    }
   ],
   "source": [
    "test_participants = test_participants.query('ab_test == \"new_interface_test\"').copy()\n",
    "test_participants.head()"
   ]
  },
  {
   "cell_type": "markdown",
   "metadata": {},
   "source": [
    "В остальных данных уберем все, что не касается участников теста:"
   ]
  },
  {
   "cell_type": "code",
   "execution_count": 44,
   "metadata": {},
   "outputs": [],
   "source": [
    "test_new_users = new_users.query('user_id in @test_participants.user_id').merge(test_participants, on='user_id')\n",
    "test_sessions = sessions.query('user_id in @test_participants.user_id').merge(test_participants, on='user_id')\n",
    "test_purchases = purchases.query('user_id in @test_participants.user_id').merge(test_participants, on='user_id')"
   ]
  },
  {
   "cell_type": "markdown",
   "metadata": {},
   "source": [
    "## 3.2 Анализ накопительных метрик \n",
    "\n",
    "Установим уровень для необходимого минимального числа участников теста."
   ]
  },
  {
   "cell_type": "code",
   "execution_count": 45,
   "metadata": {},
   "outputs": [
    {
     "data": {
      "text/html": [
       "<div>\n",
       "<style scoped>\n",
       "    .dataframe tbody tr th:only-of-type {\n",
       "        vertical-align: middle;\n",
       "    }\n",
       "\n",
       "    .dataframe tbody tr th {\n",
       "        vertical-align: top;\n",
       "    }\n",
       "\n",
       "    .dataframe thead th {\n",
       "        text-align: right;\n",
       "    }\n",
       "</style>\n",
       "<table border=\"1\" class=\"dataframe\">\n",
       "  <thead>\n",
       "    <tr style=\"text-align: right;\">\n",
       "      <th></th>\n",
       "      <th>mean</th>\n",
       "      <th>std</th>\n",
       "      <th>relative_importance</th>\n",
       "      <th>observations</th>\n",
       "      <th>observations_per_day</th>\n",
       "      <th>duration_test</th>\n",
       "    </tr>\n",
       "    <tr>\n",
       "      <th>metrica</th>\n",
       "      <th></th>\n",
       "      <th></th>\n",
       "      <th></th>\n",
       "      <th></th>\n",
       "      <th></th>\n",
       "      <th></th>\n",
       "    </tr>\n",
       "  </thead>\n",
       "  <tbody>\n",
       "    <tr>\n",
       "      <th>cr</th>\n",
       "      <td>0.4600</td>\n",
       "      <td>0.4984</td>\n",
       "      <td>0.2500</td>\n",
       "      <td>358</td>\n",
       "      <td>241</td>\n",
       "      <td>7</td>\n",
       "    </tr>\n",
       "    <tr>\n",
       "      <th>session_duration</th>\n",
       "      <td>4.2123</td>\n",
       "      <td>3.5453</td>\n",
       "      <td>0.1500</td>\n",
       "      <td>599</td>\n",
       "      <td>241</td>\n",
       "      <td>7</td>\n",
       "    </tr>\n",
       "  </tbody>\n",
       "</table>\n",
       "</div>"
      ],
      "text/plain": [
       "                   mean    std  relative_importance  observations  \\\n",
       "metrica                                                             \n",
       "cr               0.4600 0.4984               0.2500           358   \n",
       "session_duration 4.2123 3.5453               0.1500           599   \n",
       "\n",
       "                  observations_per_day  duration_test  \n",
       "metrica                                                \n",
       "cr                                 241              7  \n",
       "session_duration                   241              7  "
      ]
     },
     "execution_count": 45,
     "metadata": {},
     "output_type": "execute_result"
    }
   ],
   "source": [
    "metrics"
   ]
  },
  {
   "cell_type": "code",
   "execution_count": 46,
   "metadata": {},
   "outputs": [
    {
     "data": {
      "text/plain": [
       "1198"
      ]
     },
     "execution_count": 46,
     "metadata": {},
     "output_type": "execute_result"
    }
   ],
   "source": [
    "required_participants = metrics.loc['session_duration', 'observations'] * test_group_num\n",
    "required_participants"
   ]
  },
  {
   "cell_type": "markdown",
   "metadata": {},
   "source": [
    "Кумулятивная динамика:"
   ]
  },
  {
   "cell_type": "code",
   "execution_count": 47,
   "metadata": {},
   "outputs": [
    {
     "data": {
      "image/png": "[encoded data removed]",
      "text/plain": [
       "<Figure size 1440x864 with 4 Axes>"
      ]
     },
     "metadata": {},
     "output_type": "display_data"
    }
   ],
   "source": [
    "curent_aquistition_duration = 7\n",
    "test_dates = pd.date_range(start='2021-01-04', periods=curent_aquistition_duration)\n",
    "test_dates\n",
    "\n",
    "plt.subplots(figsize=(20,12))\n",
    "\n",
    "cumulative_test_users = pd.DataFrame(columns=['A', 'B'])\n",
    "cumulative_test_payers = pd.DataFrame(columns=['A', 'B'])\n",
    "cumulative_test_sessions = pd.DataFrame(columns=['A', 'B'])\n",
    "\n",
    "for i, dt in enumerate(test_dates):\n",
    "    curent_test_users = test_new_users.query('first_date <= @dt').groupby('group').agg({'user_id':'nunique'}).T\n",
    "    curent_test_users['date'] = dt\n",
    "    curent_test_users['test_day'] = i\n",
    "    cumulative_test_users = cumulative_test_users.append(curent_test_users, sort=False)\n",
    "    \n",
    "    curent_test_purchases = test_purchases.query('event_dt <= @dt').groupby('user_id').agg({'revenue':'sum'})\n",
    "    curent_test_payers = (test_new_users.merge(curent_test_purchases, on='user_id', how='inner').\n",
    "                          query('first_date <= @dt').groupby('group').agg({'user_id':'nunique'}).T)\n",
    "    curent_test_payers['date'] = dt\n",
    "    curent_test_payers['test_day'] = i\n",
    "    cumulative_test_payers = cumulative_test_payers.append(curent_test_payers, sort=False)\n",
    "    \n",
    "    curent_test_sessions = test_sessions.query('session_start <= @dt').groupby('group').agg({'session_duration':'median'}).T\n",
    "    curent_test_sessions['date'] = dt\n",
    "    curent_test_sessions['test_day'] = i\n",
    "    cumulative_test_sessions = cumulative_test_sessions.append(curent_test_sessions, sort=False)\n",
    "    \n",
    "pd.pivot_table(test_new_users, \n",
    "               index='first_date',\n",
    "               columns='group',\n",
    "               values='user_id',\n",
    "               aggfunc='nunique').plot(ax=plt.subplot(2,3,1))\n",
    "plt.title('New participants')\n",
    "plt.xlabel('date')\n",
    "plt.xticks(rotation=0)\n",
    "\n",
    "# Учачстники\n",
    "cumulative_test_users = cumulative_test_users.query('date >= \"2021-01-04\" & date <= \"2021-01-16\"').set_index('test_day')[['A', 'B']]\n",
    "cumulative_test_users['total'] = cumulative_test_users['A'] + cumulative_test_users['B']\n",
    "cumulative_test_users.plot(ax=plt.subplot(2,3,2), xticks=cumulative_test_users.index)\n",
    "plt.axhline(y = required_participants, label = 'Ожидаемое число участников', color = 'red', linestyle = '--')\n",
    "plt.title('Cumulative participants')\n",
    "\n",
    "# Конверсии\n",
    "cumulative_test_payers = cumulative_test_payers.query('date >= \"2021-01-04\" & date <= \"2021-01-16\"').set_index('test_day')[['A', 'B']]\n",
    "cumulative_test_payers.div(cumulative_test_users)[['A', 'B']].plot(ax=plt.subplot(2,3,4), xticks=cumulative_test_users.index)\n",
    "plt.title('CR')\n",
    "# plt.xlabel('day')\n",
    "# plt.xticks(rotation=45)\n",
    "\n",
    "# Длительность сессии\n",
    "cumulative_test_sessions = cumulative_test_sessions.query('date >= \"2021-01-04\" & date <= \"2021-01-16\"').set_index('test_day')[['A', 'B']]\n",
    "cumulative_test_sessions.plot(ax=plt.subplot(2,3,5), xticks=cumulative_test_users.index)\n",
    "plt.title('Mediian sessions duration')\n",
    "# plt.xlabel('day')\n",
    "# plt.xticks(rotation=45)\n",
    "plt.subplots_adjust(wspace=0.1, hspace=0.6)\n",
    "\n",
    "\n",
    "plt.show()"
   ]
  },
  {
   "cell_type": "markdown",
   "metadata": {},
   "source": [
    "Выводы и наблюдения:\n",
    "- Накопительные метрики достигли относительной стабильности по обеим группам;\n",
    "- По конверсии, визуально, выиграла группа А;\n",
    "- По длительности сессии, похоже, выиграла группа В;\n",
    "- Нужные количества наблюдений достигнуты практически по всем метрикам еще на 5-й день, так что у нас достаточно данных для проведения тестов. "
   ]
  },
  {
   "cell_type": "markdown",
   "metadata": {},
   "source": [
    "## 4.3 Проверка гипотез"
   ]
  },
  {
   "cell_type": "markdown",
   "metadata": {},
   "source": [
    "Будем проводить три теста:\n",
    "- Процент конвертации в покупку проведем с помощью двухвыборочного z-теста т.к. здесь мы имеем дело с вероятностью конверсии (пропорцией);\n",
    "- Медианную длительность сессии проверим t-тестом и тестом Манна-Уитни (просто чтобы иметь возможность сравнить результаты).\n",
    "\n",
    "Поскольку тестов (и гипотез) у нас три, приведем коррекцию уровня значимости методом Бонферрони:"
   ]
  },
  {
   "cell_type": "code",
   "execution_count": 48,
   "metadata": {},
   "outputs": [
    {
     "data": {
      "text/plain": [
       "0.016666666666666666"
      ]
     },
     "execution_count": 48,
     "metadata": {},
     "output_type": "execute_result"
    }
   ],
   "source": [
    "alpha = 0.05\n",
    "alpha = alpha / 3\n",
    "alpha"
   ]
  },
  {
   "cell_type": "code",
   "execution_count": 49,
   "metadata": {},
   "outputs": [
    {
     "data": {
      "text/html": [
       "<div>\n",
       "<style scoped>\n",
       "    .dataframe tbody tr th:only-of-type {\n",
       "        vertical-align: middle;\n",
       "    }\n",
       "\n",
       "    .dataframe tbody tr th {\n",
       "        vertical-align: top;\n",
       "    }\n",
       "\n",
       "    .dataframe thead th {\n",
       "        text-align: right;\n",
       "    }\n",
       "</style>\n",
       "<table border=\"1\" class=\"dataframe\">\n",
       "  <thead>\n",
       "    <tr style=\"text-align: right;\">\n",
       "      <th></th>\n",
       "      <th>participants</th>\n",
       "      <th>buyers</th>\n",
       "      <th>cr</th>\n",
       "    </tr>\n",
       "    <tr>\n",
       "      <th>group</th>\n",
       "      <th></th>\n",
       "      <th></th>\n",
       "      <th></th>\n",
       "    </tr>\n",
       "  </thead>\n",
       "  <tbody>\n",
       "    <tr>\n",
       "      <th>A</th>\n",
       "      <td>1022</td>\n",
       "      <td>424</td>\n",
       "      <td>0.4149</td>\n",
       "    </tr>\n",
       "    <tr>\n",
       "      <th>B</th>\n",
       "      <td>919</td>\n",
       "      <td>346</td>\n",
       "      <td>0.3765</td>\n",
       "    </tr>\n",
       "  </tbody>\n",
       "</table>\n",
       "</div>"
      ],
      "text/plain": [
       "       participants  buyers     cr\n",
       "group                             \n",
       "A              1022     424 0.4149\n",
       "B               919     346 0.3765"
      ]
     },
     "execution_count": 49,
     "metadata": {},
     "output_type": "execute_result"
    }
   ],
   "source": [
    "report = test_participants.merge(test_purchases.groupby('user_id').agg({'revenue':'sum'}), how='left', on='user_id')\n",
    "report['is_buyer'] = (report['revenue'] > 0).astype('int')\n",
    "report = report.groupby('group').agg({'user_id':'count', 'is_buyer':'sum'}).rename(columns={'user_id':'participants', 'is_buyer':'buyers'})\n",
    "report['cr'] = report['buyers'] / report['participants']\n",
    "report"
   ]
  },
  {
   "cell_type": "markdown",
   "metadata": {},
   "source": [
    "Похоже, что конверсия в группе В сильно ниже. Проверим есть ли отличие с помощью стат-теста:\n",
    "- H0: Между группами A и B нет различий в % конверсии в покупку;\n",
    "- H1: Между группами A и B есть различие % конверсии в покупку."
   ]
  },
  {
   "cell_type": "code",
   "execution_count": 50,
   "metadata": {},
   "outputs": [
    {
     "name": "stdout",
     "output_type": "stream",
     "text": [
      "p-value = 0.084420399\n",
      "Нулевая гипотеза не отвергается: между группами A и B нет различий в % конверсии в покупку.\n"
     ]
    }
   ],
   "source": [
    "counts = list(report['buyers'].values)\n",
    "nobs = list(report['participants'].values)\n",
    "\n",
    "pvalue = proportions_ztest(counts, nobs, value=0)[1]\n",
    "print(f'p-value = {pvalue:.9f}')\n",
    "if pvalue >= alpha: \n",
    "    print('Нулевая гипотеза не отвергается: между группами A и B нет различий в % конверсии в покупку.')\n",
    "else:\n",
    "    print('Нулевая гипотеза отвергается: между группами A и B есть различие % конверсии в покупку.')"
   ]
  },
  {
   "cell_type": "markdown",
   "metadata": {},
   "source": [
    "[ссылка на Эвана](https://www.evanmiller.org/ab-testing/chi-squared.html#!424/1022;346/919@95)"
   ]
  },
  {
   "cell_type": "markdown",
   "metadata": {},
   "source": [
    "Средняя длительность сессии:"
   ]
  },
  {
   "cell_type": "code",
   "execution_count": 51,
   "metadata": {},
   "outputs": [
    {
     "data": {
      "image/png": "[encoded data removed]",
      "text/plain": [
       "<Figure size 1152x360 with 2 Axes>"
      ]
     },
     "metadata": {},
     "output_type": "display_data"
    }
   ],
   "source": [
    "report = test_sessions.copy()\n",
    "\n",
    "plt.subplots()\n",
    "report.boxplot('session_duration', by = 'group', ax = plt.subplot(1, 2, 1))\n",
    "plt.title('duration with outlers')\n",
    "\n",
    "a_sessions = report.query('group == \"A\"')[['session_duration', 'group']]\n",
    "b_sessions = report.query('group == \"B\"')[['session_duration', 'group']]\n",
    "\n",
    "#чистим выбросы\n",
    "a_sessions_ = a_sessions[a_sessions['session_duration'] <= a_sessions['session_duration'].quantile(0.95)]\n",
    "b_sessions_ = b_sessions[b_sessions['session_duration'] <= b_sessions['session_duration'].quantile(0.95)]\n",
    "a_sessions_.append(b_sessions_).boxplot('session_duration', by = 'group', ax = plt.subplot(1, 2, 2))\n",
    "plt.suptitle('')\n",
    "plt.title('duration without outlers')\n",
    "plt.show()"
   ]
  },
  {
   "cell_type": "markdown",
   "metadata": {},
   "source": [
    "Видно, что средняя длительность сессий в группе В заметно подросла. Проверим это t-тестом:\n",
    "- H0: медианная длительность сессий в группах А и В одинаковая;\n",
    "- H1: медианная длительность сессий в группах А и В отличается;"
   ]
  },
  {
   "cell_type": "code",
   "execution_count": 52,
   "metadata": {},
   "outputs": [
    {
     "name": "stdout",
     "output_type": "stream",
     "text": [
      "p-value: 8.704016848124417e-33\n",
      "Нулевая гипотеза отвергается: медианная длительность сессий в группах А и В отличается.\n"
     ]
    },
    {
     "data": {
      "text/plain": [
       "(5.296111205951421, 3.624425962589684, 1.671685243361737, 0.25798365937088386)"
      ]
     },
     "execution_count": 52,
     "metadata": {},
     "output_type": "execute_result"
    }
   ],
   "source": [
    "pvalue = stats.ttest_ind(a_sessions_['session_duration'].values, b_sessions_['session_duration'].values).pvalue\n",
    "\n",
    "print('p-value: {}'.format(pvalue))\n",
    "if pvalue >= alpha: \n",
    "    print('Нулевая гипотеза не отвергается: медианная длительность сессий в группах А и В одинаковая.')\n",
    "else:\n",
    "    print('Нулевая гипотеза отвергается: медианная длительность сессий в группах А и В отличается.')\n",
    "    \n",
    "(b_sessions_['session_duration'].median(), \n",
    " a_sessions_['session_duration'].median(), \n",
    " b_sessions_['session_duration'].median() - a_sessions_['session_duration'].median(), \n",
    " (b_sessions_['session_duration'].median() - 4.21) / 4.21\n",
    ")"
   ]
  },
  {
   "cell_type": "markdown",
   "metadata": {},
   "source": [
    "Разница между группами составляет примерно 1.6 минуты в пользу группы В.\n",
    "\n",
    "Продублируем тестом Манна-Уитни, без чистки выбросов:"
   ]
  },
  {
   "cell_type": "code",
   "execution_count": 53,
   "metadata": {},
   "outputs": [
    {
     "name": "stdout",
     "output_type": "stream",
     "text": [
      "p-value: 1.1492569552944105e-54\n",
      "Нулевая гипотеза отвергается: форма распределения длительности сессий в группах А и В отличается.\n"
     ]
    },
    {
     "data": {
      "text/plain": [
       "(5.50858544202298, 3.9575410318479314, 1.5510444101750487, 0.6422905918214373)"
      ]
     },
     "execution_count": 53,
     "metadata": {},
     "output_type": "execute_result"
    }
   ],
   "source": [
    "a_sessions = report.query('group == \"A\"')[['session_duration', 'group']]\n",
    "b_sessions = report.query('group == \"B\"')[['session_duration', 'group']]\n",
    "\n",
    "pvalue = stats.mannwhitneyu(a_sessions['session_duration'].values, b_sessions['session_duration'].values)[1]\n",
    "\n",
    "print('p-value: {}'.format(pvalue))\n",
    "if pvalue >= alpha: \n",
    "    print('Нулевая гипотеза не отвергается: форма распределения длительности сессий в группах А и В одинаковая.')\n",
    "else:\n",
    "    print('Нулевая гипотеза отвергается: форма распределения длительности сессий в группах А и В отличается.')\n",
    "     \n",
    "(b_sessions['session_duration'].median(), \n",
    " a_sessions['session_duration'].median(), \n",
    " b_sessions['session_duration'].median() - a_sessions['session_duration'].median(),\n",
    " (b_sessions['session_duration'].mean() - 4.21) / 4.21\n",
    ")"
   ]
  },
  {
   "cell_type": "markdown",
   "metadata": {},
   "source": [
    "Можно заключить, что средняя длительность сессии в тестовой группе выросла на 64% по сравнению с базовой длительностью (4.21 минуты)."
   ]
  },
  {
   "cell_type": "markdown",
   "metadata": {},
   "source": [
    "# Выводы:\n",
    "1. Тест был проведен в соответствии с ТЗ с небольшими, практически незначимыми отклонениями;\n",
    "2. Между группами наблюдаются статистически и практически значимое различие в длительности сессий - она выросла на 60% по сравнению с бейзлайном:\n",
    "3. По конверсии статистически значимых отличий не обнаружилось.\n",
    "    \n",
    "Рекомендации для заказчика:\n",
    "- Новая onboarding-воронка работает не хуже старой, пользователи проводят на сайте больше времени, конверсия не задета. Рекоммендуем внедрять ее на всех пользователей."
   ]
  }
 ],
 "metadata": {
  "kernelspec": {
   "display_name": "Python 3",
   "language": "python",
   "name": "python3"
  },
  "language_info": {
   "codemirror_mode": {
    "name": "ipython",
    "version": 3
   },
   "file_extension": ".py",
   "mimetype": "text/x-python",
   "name": "python",
   "nbconvert_exporter": "python",
   "pygments_lexer": "ipython3",
   "version": "3.8.8"
  }
 },
 "nbformat": 4,
 "nbformat_minor": 4
}
